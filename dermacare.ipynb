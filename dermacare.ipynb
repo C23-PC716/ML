{
  "cells": [
    {
      "cell_type": "markdown",
      "metadata": {
        "id": "NRGB_rPnbxkz"
      },
      "source": [
        "# Import Necessary Library"
      ]
    },
    {
      "cell_type": "code",
      "execution_count": null,
      "metadata": {
        "id": "u08E6C0wbz_5"
      },
      "outputs": [],
      "source": [
        "import pathlib\n",
        "import tensorflow as tf\n",
        "import matplotlib.pyplot as plt\n",
        "import numpy as np\n",
        "import pandas as pd\n",
        "import os\n",
        "import PIL\n",
        "from tensorflow import keras\n",
        "from tensorflow.keras import layers\n",
        "from tensorflow.keras.models import Sequential\n",
        "from keras.layers import Dense, Dropout, Flatten, Conv2D, MaxPool2D\n",
        "from tensorflow.keras.optimizers import Adam # - Works\n",
        "import random\n",
        "from glob import glob\n",
        "import seaborn as sns\n",
        "from tensorflow.keras.losses import SparseCategoricalCrossentropy\n",
        "import matplotlib.pyplot as plt\n",
        "import matplotlib.image as img"
      ]
    },
    {
      "cell_type": "markdown",
      "metadata": {
        "id": "7m6ERGBHbYkF"
      },
      "source": [
        "# Download Dataset"
      ]
    },
    {
      "cell_type": "code",
      "execution_count": null,
      "metadata": {
        "colab": {
          "base_uri": "https://localhost:8080/"
        },
        "id": "eb94aCWaraFw",
        "outputId": "27a1cebc-de41-40e7-970e-8cf5b0bdf65a"
      },
      "outputs": [
        {
          "output_type": "stream",
          "name": "stdout",
          "text": [
            "Mounted at /content/drive\n",
            "Looking in indexes: https://pypi.org/simple, https://us-python.pkg.dev/colab-wheels/public/simple/\n",
            "Requirement already satisfied: kaggle in /usr/local/lib/python3.10/dist-packages (1.5.13)\n",
            "Requirement already satisfied: six>=1.10 in /usr/local/lib/python3.10/dist-packages (from kaggle) (1.16.0)\n",
            "Requirement already satisfied: certifi in /usr/local/lib/python3.10/dist-packages (from kaggle) (2022.12.7)\n",
            "Requirement already satisfied: python-dateutil in /usr/local/lib/python3.10/dist-packages (from kaggle) (2.8.2)\n",
            "Requirement already satisfied: requests in /usr/local/lib/python3.10/dist-packages (from kaggle) (2.27.1)\n",
            "Requirement already satisfied: tqdm in /usr/local/lib/python3.10/dist-packages (from kaggle) (4.65.0)\n",
            "Requirement already satisfied: python-slugify in /usr/local/lib/python3.10/dist-packages (from kaggle) (8.0.1)\n",
            "Requirement already satisfied: urllib3 in /usr/local/lib/python3.10/dist-packages (from kaggle) (1.26.15)\n",
            "Requirement already satisfied: text-unidecode>=1.3 in /usr/local/lib/python3.10/dist-packages (from python-slugify->kaggle) (1.3)\n",
            "Requirement already satisfied: charset-normalizer~=2.0.0 in /usr/local/lib/python3.10/dist-packages (from requests->kaggle) (2.0.12)\n",
            "Requirement already satisfied: idna<4,>=2.5 in /usr/local/lib/python3.10/dist-packages (from requests->kaggle) (3.4)\n"
          ]
        }
      ],
      "source": [
        "from google.colab import drive\n",
        "\n",
        "drive.mount('/content/drive')\n",
        "\n",
        "! pip install kaggle\n",
        "\n",
        "!cp /content/drive/Shareddrives/C23-PC716/ML/kaggle.json /content/kaggle.json"
      ]
    },
    {
      "cell_type": "code",
      "execution_count": null,
      "metadata": {
        "id": "XFE2SvsnbR-w"
      },
      "outputs": [],
      "source": [
        "! chmod 600 /content/kaggle.json"
      ]
    },
    {
      "cell_type": "code",
      "execution_count": null,
      "metadata": {
        "colab": {
          "base_uri": "https://localhost:8080/"
        },
        "id": "JnxgdOqhbibj",
        "outputId": "82bb2c79-b713-4c1a-b000-0f36e9d6ee34"
      },
      "outputs": [
        {
          "output_type": "stream",
          "name": "stdout",
          "text": [
            "Downloading skin-disease-image-dataset-balanced.zip to /content\n",
            "100% 658M/660M [00:25<00:00, 31.5MB/s]\n",
            "100% 660M/660M [00:25<00:00, 27.6MB/s]\n"
          ]
        }
      ],
      "source": [
        "! KAGGLE_CONFIG_DIR=/content/ kaggle datasets download --force -d riyaelizashaju/skin-disease-image-dataset-balanced"
      ]
    },
    {
      "cell_type": "markdown",
      "metadata": {
        "id": "gnkR0bONpwBL"
      },
      "source": [
        "# IMG_SIZE  = 160x160"
      ]
    },
    {
      "cell_type": "code",
      "execution_count": null,
      "metadata": {
        "id": "wG1QaNY_b5fz"
      },
      "outputs": [],
      "source": [
        "import zipfile\n",
        "\n",
        "# Extract the archive\n",
        "local_zip = '/content/skin-disease-image-dataset-balanced.zip'\n",
        "zip_ref = zipfile.ZipFile(local_zip, 'r')\n",
        "zip_ref.extractall()\n",
        "zip_ref.close()"
      ]
    },
    {
      "cell_type": "code",
      "execution_count": null,
      "metadata": {
        "id": "7ua31IRlcBBP"
      },
      "outputs": [],
      "source": [
        "train_dir = pathlib.Path(\"/content/Split_smol/train\")\n",
        "validation_dir = pathlib.Path(\"/content/Split_smol/val\")\n",
        "\n",
        "BATCH_SIZE = 32\n",
        "IMG_SIZE = TARGET_SIZE = (160, 160)"
      ]
    },
    {
      "cell_type": "code",
      "execution_count": null,
      "metadata": {
        "colab": {
          "base_uri": "https://localhost:8080/"
        },
        "id": "5RFjtkRmcfz2",
        "outputId": "64936547-2d5c-442e-c360-7e52a3a8e29c"
      },
      "outputs": [
        {
          "output_type": "stream",
          "name": "stdout",
          "text": [
            "Found 1849 files belonging to 8 classes.\n"
          ]
        }
      ],
      "source": [
        "train_dataset = tf.keras.utils.image_dataset_from_directory(train_dir,\n",
        "                                                            # validation_split=0.2,\n",
        "                                                            # subset=\"training\",\n",
        "                                                            seed=123,\n",
        "                                                            shuffle=True,\n",
        "                                                            batch_size=BATCH_SIZE,\n",
        "                                                            image_size=IMG_SIZE)"
      ]
    },
    {
      "cell_type": "code",
      "execution_count": null,
      "metadata": {
        "colab": {
          "base_uri": "https://localhost:8080/"
        },
        "id": "WDTPZdBacfyQ",
        "outputId": "eb9a1acb-b0dd-4fee-ea9e-1b223b011833"
      },
      "outputs": [
        {
          "output_type": "stream",
          "name": "stdout",
          "text": [
            "Found 459 files belonging to 8 classes.\n"
          ]
        }
      ],
      "source": [
        "validation_dataset = tf.keras.utils.image_dataset_from_directory(validation_dir,\n",
        "                                                            # validation_split=0.2,\n",
        "                                                            # subset=\"validation\",\n",
        "                                                            seed=123,\n",
        "                                                            shuffle=True,\n",
        "                                                            batch_size=BATCH_SIZE,\n",
        "                                                            image_size=IMG_SIZE)"
      ]
    },
    {
      "cell_type": "markdown",
      "metadata": {
        "id": "5Ly74Lu1cwB9"
      },
      "source": [
        "## Preview Dataset"
      ]
    },
    {
      "cell_type": "code",
      "execution_count": null,
      "metadata": {
        "id": "npEVFXZBck2Z"
      },
      "outputs": [],
      "source": [
        "class_names = train_dataset.class_names\n",
        "\n",
        "# plt.figure(figsize=(10, 10))\n",
        "# for images, labels in train_dataset.take(1):\n",
        "#   for i in range(9):\n",
        "#     ax = plt.subplot(3, 3, i + 1)\n",
        "#     plt.imshow(images[i].numpy().astype(\"uint8\"))\n",
        "#     plt.title(class_names[labels[i]])\n",
        "#     plt.axis(\"off\")"
      ]
    },
    {
      "cell_type": "markdown",
      "metadata": {
        "id": "l-Lgvd8Ec7mD"
      },
      "source": [
        "## Identifikasi Keseimbangan Data"
      ]
    },
    {
      "cell_type": "code",
      "execution_count": null,
      "metadata": {
        "colab": {
          "base_uri": "https://localhost:8080/",
          "height": 1000
        },
        "id": "yjdXQUFOc_AD",
        "outputId": "cf709c55-8616-4499-c097-698470f79e50"
      },
      "outputs": [
        {
          "output_type": "stream",
          "name": "stdout",
          "text": [
            "Total Data Training = 1849 \n",
            "\n",
            "-------------------------------------\n",
            "Nama Class  =  Actinic keratosis\n",
            "Jumlah      =  224\n",
            "Proporsi    =  0.12114656571119524\n",
            "-------------------------------------\n",
            "Nama Class  =  Basal cell carcinoma\n",
            "Jumlah      =  240\n",
            "Proporsi    =  0.12979989183342347\n",
            "-------------------------------------\n",
            "Nama Class  =  Benign keratosis\n",
            "Jumlah      =  277\n",
            "Proporsi    =  0.14981070849107625\n",
            "-------------------------------------\n",
            "Nama Class  =  Dermatofibroma\n",
            "Jumlah      =  191\n",
            "Proporsi    =  0.1032990805840995\n",
            "-------------------------------------\n",
            "Nama Class  =  Melanocytic nevus\n",
            "Jumlah      =  219\n",
            "Proporsi    =  0.11844240129799892\n",
            "-------------------------------------\n",
            "Nama Class  =  Melanoma\n",
            "Jumlah      =  233\n",
            "Proporsi    =  0.12601406165494863\n",
            "-------------------------------------\n",
            "Nama Class  =  Squamous cell carcinoma\n",
            "Jumlah      =  263\n",
            "Proporsi    =  0.14223904813412655\n",
            "-------------------------------------\n",
            "Nama Class  =  Vascular lesion\n",
            "Jumlah      =  202\n",
            "Proporsi    =  0.10924824229313142\n",
            "-------------------------------------\n"
          ]
        },
        {
          "output_type": "display_data",
          "data": {
            "text/plain": [
              "<Figure size 640x480 with 1 Axes>"
            ],
            "image/png": "[encoded data removed]"
          },
          "metadata": {}
        }
      ],
      "source": [
        "num_classes = len(class_names)\n",
        "total = 0\n",
        "all_count = []\n",
        "class_name = []\n",
        "for i in range(num_classes):\n",
        "  count = len(list(train_dir.glob(class_names[i]+'/*.jpg')))\n",
        "  total += count\n",
        "print(\"Total Data Training = {} \\n\".format(total))\n",
        "print(\"-------------------------------------\")\n",
        "for i in range(num_classes):\n",
        "  count = len(list(train_dir.glob(class_names[i]+'/*.jpg')))\n",
        "  print(\"Nama Class  = \",class_names[i])\n",
        "  print(\"Jumlah      = \",count)\n",
        "  print(\"Proporsi    = \",count/total)\n",
        "  print(\"-------------------------------------\")\n",
        "  all_count.append(count)\n",
        "  class_name.append(class_names[i])\n",
        "\n",
        "temp_df = pd.DataFrame(list(zip(all_count, class_name)), columns = ['count', 'class_name'])\n",
        "sns.barplot(data=temp_df, y=\"count\", x=\"class_name\")\n",
        "plt.xticks(rotation=90)\n",
        "plt.show()"
      ]
    },
    {
      "cell_type": "markdown",
      "metadata": {
        "id": "EWiVnvtCdLoS"
      },
      "source": [
        "## Augmentor Untuk Augmentasi Data dan Menambah Sebaran Data Tiap Class"
      ]
    },
    {
      "cell_type": "code",
      "execution_count": null,
      "metadata": {
        "colab": {
          "base_uri": "https://localhost:8080/"
        },
        "id": "3YO8O4M3dJjR",
        "outputId": "e109fe6d-9d0f-4190-8f69-f24faaa7e38c"
      },
      "outputs": [
        {
          "output_type": "stream",
          "name": "stdout",
          "text": [
            "Looking in indexes: https://pypi.org/simple, https://us-python.pkg.dev/colab-wheels/public/simple/\n",
            "Collecting Augmentor\n",
            "  Downloading Augmentor-0.2.12-py2.py3-none-any.whl (38 kB)\n",
            "Requirement already satisfied: Pillow>=5.2.0 in /usr/local/lib/python3.10/dist-packages (from Augmentor) (8.4.0)\n",
            "Requirement already satisfied: tqdm>=4.9.0 in /usr/local/lib/python3.10/dist-packages (from Augmentor) (4.65.0)\n",
            "Requirement already satisfied: numpy>=1.11.0 in /usr/local/lib/python3.10/dist-packages (from Augmentor) (1.22.4)\n",
            "Installing collected packages: Augmentor\n",
            "Successfully installed Augmentor-0.2.12\n"
          ]
        }
      ],
      "source": [
        "!pip install Augmentor"
      ]
    },
    {
      "cell_type": "code",
      "execution_count": null,
      "metadata": {
        "colab": {
          "base_uri": "https://localhost:8080/"
        },
        "id": "BnxMbXfUdX3s",
        "outputId": "02e54e8f-4b90-44f9-8891-99be3ca6e59a"
      },
      "outputs": [
        {
          "output_type": "stream",
          "name": "stdout",
          "text": [
            "Initialised with 224 image(s) found.\n",
            "Output directory set to /content/output/Actinic keratosis/output/."
          ]
        },
        {
          "output_type": "stream",
          "name": "stderr",
          "text": [
            "Processing <PIL.JpegImagePlugin.JpegImageFile image mode=RGB size=1024x1024 at 0x7F67DD5DECE0>: 100%|██████████| 1000/1000 [02:04<00:00,  8.05 Samples/s]\n"
          ]
        },
        {
          "output_type": "stream",
          "name": "stdout",
          "text": [
            "Initialised with 240 image(s) found.\n",
            "Output directory set to /content/output/Basal cell carcinoma/output/."
          ]
        },
        {
          "output_type": "stream",
          "name": "stderr",
          "text": [
            "Processing <PIL.JpegImagePlugin.JpegImageFile image mode=RGB size=600x450 at 0x7F67DD6529E0>: 100%|██████████| 1000/1000 [00:39<00:00, 25.63 Samples/s]\n"
          ]
        },
        {
          "output_type": "stream",
          "name": "stdout",
          "text": [
            "Initialised with 277 image(s) found.\n",
            "Output directory set to /content/output/Benign keratosis/output/."
          ]
        },
        {
          "output_type": "stream",
          "name": "stderr",
          "text": [
            "Processing <PIL.Image.Image image mode=RGB size=1024x682 at 0x7F67DD846E90>: 100%|██████████| 1000/1000 [01:00<00:00, 16.40 Samples/s]\n"
          ]
        },
        {
          "output_type": "stream",
          "name": "stdout",
          "text": [
            "Initialised with 191 image(s) found.\n",
            "Output directory set to /content/output/Dermatofibroma/output/."
          ]
        },
        {
          "output_type": "stream",
          "name": "stderr",
          "text": [
            "Processing <PIL.Image.Image image mode=RGB size=1024x1024 at 0x7F67DD5F5330>: 100%|██████████| 1000/1000 [01:31<00:00, 10.87 Samples/s]\n"
          ]
        },
        {
          "output_type": "stream",
          "name": "stdout",
          "text": [
            "Initialised with 219 image(s) found.\n",
            "Output directory set to /content/output/Melanocytic nevus/output/."
          ]
        },
        {
          "output_type": "stream",
          "name": "stderr",
          "text": [
            "Processing <PIL.Image.Image image mode=RGB size=1024x768 at 0x7F67E0343BB0>: 100%|██████████| 1000/1000 [01:24<00:00, 11.88 Samples/s]\n"
          ]
        },
        {
          "output_type": "stream",
          "name": "stdout",
          "text": [
            "Initialised with 233 image(s) found.\n",
            "Output directory set to /content/output/Melanoma/output/."
          ]
        },
        {
          "output_type": "stream",
          "name": "stderr",
          "text": [
            "Processing <PIL.JpegImagePlugin.JpegImageFile image mode=RGB size=1024x680 at 0x7F67DD8442B0>: 100%|██████████| 1000/1000 [01:30<00:00, 11.04 Samples/s]\n"
          ]
        },
        {
          "output_type": "stream",
          "name": "stdout",
          "text": [
            "Initialised with 263 image(s) found.\n",
            "Output directory set to /content/output/Squamous cell carcinoma/output/."
          ]
        },
        {
          "output_type": "stream",
          "name": "stderr",
          "text": [
            "Processing <PIL.Image.Image image mode=RGB size=600x450 at 0x7F67DD526EF0>: 100%|██████████| 1000/1000 [01:18<00:00, 12.73 Samples/s]\n"
          ]
        },
        {
          "output_type": "stream",
          "name": "stdout",
          "text": [
            "Initialised with 202 image(s) found.\n",
            "Output directory set to /content/output/Vascular lesion/output/."
          ]
        },
        {
          "output_type": "stream",
          "name": "stderr",
          "text": [
            "Processing <PIL.Image.Image image mode=RGB size=600x450 at 0x7F67DD5A63E0>: 100%|██████████| 1000/1000 [01:20<00:00, 12.38 Samples/s]\n"
          ]
        }
      ],
      "source": [
        "import Augmentor\n",
        "for i in class_names:\n",
        "    p = Augmentor.Pipeline(source_directory = os.path.join(train_dir, i), output_directory = '/content/output/'+i+'/output/')\n",
        "    p.rotate(probability=0.7, max_left_rotation=10, max_right_rotation=10)\n",
        "    p.sample(1000)"
      ]
    },
    {
      "cell_type": "code",
      "execution_count": null,
      "metadata": {
        "colab": {
          "base_uri": "https://localhost:8080/"
        },
        "id": "JpMMdZY8flLL",
        "outputId": "39971a0d-93ca-4334-baf1-28f1baf7e574"
      },
      "outputs": [
        {
          "output_type": "stream",
          "name": "stdout",
          "text": [
            "8000\n"
          ]
        }
      ],
      "source": [
        "output_dir = pathlib.Path('/content/output')\n",
        "image_count_train = len(list(output_dir.glob('*/output/*.jpg')))\n",
        "print(image_count_train)"
      ]
    },
    {
      "cell_type": "code",
      "execution_count": null,
      "metadata": {
        "colab": {
          "base_uri": "https://localhost:8080/",
          "height": 1000
        },
        "id": "jIxo-PogfnhR",
        "outputId": "7b80b44b-cb95-460e-ec27-ac711b690fc3"
      },
      "outputs": [
        {
          "output_type": "stream",
          "name": "stdout",
          "text": [
            "Total Data Training Setelah Menggunakan Augmentor = 8000 \n",
            "\n",
            "-------------------------------------\n",
            "Nama Class =  Actinic keratosis\n",
            "Jumlah      =  1000\n",
            "Proporsi =  0.125\n",
            "-------------------------------------\n",
            "Nama Class =  Basal cell carcinoma\n",
            "Jumlah      =  1000\n",
            "Proporsi =  0.125\n",
            "-------------------------------------\n",
            "Nama Class =  Benign keratosis\n",
            "Jumlah      =  1000\n",
            "Proporsi =  0.125\n",
            "-------------------------------------\n",
            "Nama Class =  Dermatofibroma\n",
            "Jumlah      =  1000\n",
            "Proporsi =  0.125\n",
            "-------------------------------------\n",
            "Nama Class =  Melanocytic nevus\n",
            "Jumlah      =  1000\n",
            "Proporsi =  0.125\n",
            "-------------------------------------\n",
            "Nama Class =  Melanoma\n",
            "Jumlah      =  1000\n",
            "Proporsi =  0.125\n",
            "-------------------------------------\n",
            "Nama Class =  Squamous cell carcinoma\n",
            "Jumlah      =  1000\n",
            "Proporsi =  0.125\n",
            "-------------------------------------\n",
            "Nama Class =  Vascular lesion\n",
            "Jumlah      =  1000\n",
            "Proporsi =  0.125\n",
            "-------------------------------------\n"
          ]
        },
        {
          "output_type": "display_data",
          "data": {
            "text/plain": [
              "<Figure size 640x480 with 1 Axes>"
            ],
            "image/png": "[encoded data removed]"
          },
          "metadata": {}
        }
      ],
      "source": [
        "num_classes = len(class_names)\n",
        "total = 0\n",
        "all_count = []\n",
        "class_name = []\n",
        "\n",
        "for i in range(num_classes):\n",
        "  count = len(list(output_dir.glob(class_names[i]+'/output/*.jpg')))\n",
        "  total += count\n",
        "print(\"Total Data Training Setelah Menggunakan Augmentor = {} \\n\".format(total))\n",
        "print(\"-------------------------------------\")\n",
        "for i in range(num_classes):\n",
        "  count = len(list(output_dir.glob(class_names[i]+'/output/*.jpg')))\n",
        "  print(\"Nama Class = \",class_names[i])\n",
        "  print(\"Jumlah      = \",count)\n",
        "  print(\"Proporsi = \",count/total)\n",
        "  print(\"-------------------------------------\")\n",
        "  all_count.append(count)\n",
        "  class_name.append(class_names[i])\n",
        "\n",
        "\n",
        "temp_df = pd.DataFrame(list(zip(all_count, class_name)), columns = ['count', 'class_name'])\n",
        "sns.barplot(data=temp_df, y=\"count\", x=\"class_name\")\n",
        "plt.xticks(rotation=90)\n",
        "plt.show()"
      ]
    },
    {
      "cell_type": "code",
      "execution_count": null,
      "metadata": {
        "colab": {
          "base_uri": "https://localhost:8080/"
        },
        "id": "m0RUGbejftp7",
        "outputId": "dedbfbeb-80d2-46e2-e908-76e0a801fd7f"
      },
      "outputs": [
        {
          "output_type": "stream",
          "name": "stdout",
          "text": [
            "Found 8000 files belonging to 8 classes.\n",
            "Using 6400 files for training.\n"
          ]
        }
      ],
      "source": [
        "train_dataset = tf.keras.utils.image_dataset_from_directory(output_dir,\n",
        "                                                            validation_split=0.2,\n",
        "                                                            subset=\"training\",\n",
        "                                                            seed=123,\n",
        "                                                            shuffle=True,\n",
        "                                                            batch_size=BATCH_SIZE,\n",
        "                                                            image_size=IMG_SIZE)"
      ]
    },
    {
      "cell_type": "code",
      "execution_count": null,
      "metadata": {
        "colab": {
          "base_uri": "https://localhost:8080/"
        },
        "id": "8gv3rIQbfvrC",
        "outputId": "cdaa6574-c493-47f4-948c-2433f5436759"
      },
      "outputs": [
        {
          "output_type": "stream",
          "name": "stdout",
          "text": [
            "Found 8000 files belonging to 8 classes.\n",
            "Using 1600 files for validation.\n"
          ]
        }
      ],
      "source": [
        "validation_dataset = tf.keras.utils.image_dataset_from_directory(output_dir,\n",
        "                                                            validation_split=0.2,\n",
        "                                                            subset=\"validation\",\n",
        "                                                            seed=123,\n",
        "                                                            shuffle=True,\n",
        "                                                            batch_size=BATCH_SIZE,\n",
        "                                                            image_size=IMG_SIZE)"
      ]
    },
    {
      "cell_type": "code",
      "execution_count": null,
      "metadata": {
        "id": "mM8teHhDf-wq"
      },
      "outputs": [],
      "source": [
        "val_batches = tf.data.experimental.cardinality(validation_dataset)\n",
        "test_dataset = validation_dataset.take(val_batches // 5)\n",
        "validation_dataset = validation_dataset.skip(val_batches // 5)"
      ]
    },
    {
      "cell_type": "code",
      "execution_count": null,
      "metadata": {
        "colab": {
          "base_uri": "https://localhost:8080/"
        },
        "id": "6szHxOHKgDJb",
        "outputId": "92c3e6a0-370a-430f-fa9b-5bf7b4b3bca3"
      },
      "outputs": [
        {
          "output_type": "stream",
          "name": "stdout",
          "text": [
            "Number of validation batches: 40\n",
            "Number of test batches: 10\n"
          ]
        }
      ],
      "source": [
        "print('Number of validation batches: %d' % tf.data.experimental.cardinality(validation_dataset))\n",
        "print('Number of test batches: %d' % tf.data.experimental.cardinality(test_dataset))"
      ]
    },
    {
      "cell_type": "code",
      "execution_count": null,
      "metadata": {
        "id": "t2-n3aShgGLM"
      },
      "outputs": [],
      "source": [
        "AUTOTUNE = tf.data.AUTOTUNE\n",
        "\n",
        "train_dataset = train_dataset.prefetch(buffer_size=AUTOTUNE)\n",
        "validation_dataset = validation_dataset.prefetch(buffer_size=AUTOTUNE)\n",
        "test_dataset = test_dataset.prefetch(buffer_size=AUTOTUNE)"
      ]
    },
    {
      "cell_type": "markdown",
      "metadata": {
        "id": "qLo12xM-gL1R"
      },
      "source": [
        "## Augmentasi Data Tambahan"
      ]
    },
    {
      "cell_type": "code",
      "execution_count": null,
      "metadata": {
        "id": "eWfCG72BgQb4"
      },
      "outputs": [],
      "source": [
        "data_augmentation = tf.keras.Sequential([\n",
        "  tf.keras.layers.RandomFlip('horizontal'),\n",
        "  tf.keras.layers.RandomRotation(0.2),\n",
        "])"
      ]
    },
    {
      "cell_type": "markdown",
      "metadata": {
        "id": "fCBAOPkNgT5u"
      },
      "source": [
        "## Membuat Model Dasar MobileNetV2"
      ]
    },
    {
      "cell_type": "code",
      "execution_count": null,
      "metadata": {
        "id": "6lP1HykEgS-5"
      },
      "outputs": [],
      "source": [
        "preprocess_input = tf.keras.applications.mobilenet_v2.preprocess_input"
      ]
    },
    {
      "cell_type": "code",
      "execution_count": null,
      "metadata": {
        "id": "JAiMJw2GgaIH"
      },
      "outputs": [],
      "source": [
        "rescale = tf.keras.layers.Rescaling(1./127.5, offset=-1)"
      ]
    },
    {
      "cell_type": "code",
      "execution_count": null,
      "metadata": {
        "colab": {
          "base_uri": "https://localhost:8080/"
        },
        "id": "XGSUhWOegaGg",
        "outputId": "823d6fb7-f212-436e-e94e-482d0f004636"
      },
      "outputs": [
        {
          "output_type": "stream",
          "name": "stdout",
          "text": [
            "-0.9993566 0.8579352\n"
          ]
        }
      ],
      "source": [
        "import numpy as np\n",
        "normalized_ds = train_dataset.map(lambda x, y: (rescale(x), y))\n",
        "image_batch, labels_batch = next(iter(normalized_ds))\n",
        "first_image = image_batch[0]\n",
        "# Notice the pixel values are now in `[0,1]`.\n",
        "print(np.min(first_image), np.max(first_image))"
      ]
    },
    {
      "cell_type": "code",
      "execution_count": null,
      "metadata": {
        "colab": {
          "base_uri": "https://localhost:8080/"
        },
        "id": "S5V0v6mhgi_h",
        "outputId": "2cad9e3d-2860-453a-95f7-07d9d498bc6c"
      },
      "outputs": [
        {
          "output_type": "stream",
          "name": "stdout",
          "text": [
            "Downloading data from https://storage.googleapis.com/tensorflow/keras-applications/mobilenet_v2/mobilenet_v2_weights_tf_dim_ordering_tf_kernels_1.0_160_no_top.h5\n",
            "9406464/9406464 [==============================] - 1s 0us/step\n"
          ]
        }
      ],
      "source": [
        "# Create the base model from the pre-trained model MobileNet V2\n",
        "IMG_SHAPE = IMG_SIZE + (3,)\n",
        "base_model = tf.keras.applications.MobileNetV2(input_shape=IMG_SHAPE,\n",
        "                                               include_top=False,\n",
        "                                               weights='imagenet')"
      ]
    },
    {
      "cell_type": "code",
      "execution_count": null,
      "metadata": {
        "colab": {
          "base_uri": "https://localhost:8080/"
        },
        "id": "IplzmpiSgluk",
        "outputId": "3beab700-8221-4ac8-af99-24f924c480d7"
      },
      "outputs": [
        {
          "output_type": "stream",
          "name": "stdout",
          "text": [
            "(32, 5, 5, 1280)\n"
          ]
        }
      ],
      "source": [
        "image_batch, label_batch = next(iter(train_dataset))\n",
        "feature_batch = base_model(image_batch)\n",
        "print(feature_batch.shape)"
      ]
    },
    {
      "cell_type": "code",
      "execution_count": null,
      "metadata": {
        "id": "d7XJmET7gqGd"
      },
      "outputs": [],
      "source": [
        "base_model.trainable = False"
      ]
    },
    {
      "cell_type": "code",
      "execution_count": null,
      "metadata": {
        "colab": {
          "base_uri": "https://localhost:8080/"
        },
        "id": "ltVHgIJ0gsoZ",
        "outputId": "d736b621-5e6a-4937-f58b-1b89c5cee68f"
      },
      "outputs": [
        {
          "output_type": "stream",
          "name": "stdout",
          "text": [
            "Model: \"mobilenetv2_1.00_160\"\n",
            "__________________________________________________________________________________________________\n",
            " Layer (type)                   Output Shape         Param #     Connected to                     \n",
            "==================================================================================================\n",
            " input_1 (InputLayer)           [(None, 160, 160, 3  0           []                               \n",
            "                                )]                                                                \n",
            "                                                                                                  \n",
            " Conv1 (Conv2D)                 (None, 80, 80, 32)   864         ['input_1[0][0]']                \n",
            "                                                                                                  \n",
            " bn_Conv1 (BatchNormalization)  (None, 80, 80, 32)   128         ['Conv1[0][0]']                  \n",
            "                                                                                                  \n",
            " Conv1_relu (ReLU)              (None, 80, 80, 32)   0           ['bn_Conv1[0][0]']               \n",
            "                                                                                                  \n",
            " expanded_conv_depthwise (Depth  (None, 80, 80, 32)  288         ['Conv1_relu[0][0]']             \n",
            " wiseConv2D)                                                                                      \n",
            "                                                                                                  \n",
            " expanded_conv_depthwise_BN (Ba  (None, 80, 80, 32)  128         ['expanded_conv_depthwise[0][0]']\n",
            " tchNormalization)                                                                                \n",
            "                                                                                                  \n",
            " expanded_conv_depthwise_relu (  (None, 80, 80, 32)  0           ['expanded_conv_depthwise_BN[0][0\n",
            " ReLU)                                                           ]']                              \n",
            "                                                                                                  \n",
            " expanded_conv_project (Conv2D)  (None, 80, 80, 16)  512         ['expanded_conv_depthwise_relu[0]\n",
            "                                                                 [0]']                            \n",
            "                                                                                                  \n",
            " expanded_conv_project_BN (Batc  (None, 80, 80, 16)  64          ['expanded_conv_project[0][0]']  \n",
            " hNormalization)                                                                                  \n",
            "                                                                                                  \n",
            " block_1_expand (Conv2D)        (None, 80, 80, 96)   1536        ['expanded_conv_project_BN[0][0]'\n",
            "                                                                 ]                                \n",
            "                                                                                                  \n",
            " block_1_expand_BN (BatchNormal  (None, 80, 80, 96)  384         ['block_1_expand[0][0]']         \n",
            " ization)                                                                                         \n",
            "                                                                                                  \n",
            " block_1_expand_relu (ReLU)     (None, 80, 80, 96)   0           ['block_1_expand_BN[0][0]']      \n",
            "                                                                                                  \n",
            " block_1_pad (ZeroPadding2D)    (None, 81, 81, 96)   0           ['block_1_expand_relu[0][0]']    \n",
            "                                                                                                  \n",
            " block_1_depthwise (DepthwiseCo  (None, 40, 40, 96)  864         ['block_1_pad[0][0]']            \n",
            " nv2D)                                                                                            \n",
            "                                                                                                  \n",
            " block_1_depthwise_BN (BatchNor  (None, 40, 40, 96)  384         ['block_1_depthwise[0][0]']      \n",
            " malization)                                                                                      \n",
            "                                                                                                  \n",
            " block_1_depthwise_relu (ReLU)  (None, 40, 40, 96)   0           ['block_1_depthwise_BN[0][0]']   \n",
            "                                                                                                  \n",
            " block_1_project (Conv2D)       (None, 40, 40, 24)   2304        ['block_1_depthwise_relu[0][0]'] \n",
            "                                                                                                  \n",
            " block_1_project_BN (BatchNorma  (None, 40, 40, 24)  96          ['block_1_project[0][0]']        \n",
            " lization)                                                                                        \n",
            "                                                                                                  \n",
            " block_2_expand (Conv2D)        (None, 40, 40, 144)  3456        ['block_1_project_BN[0][0]']     \n",
            "                                                                                                  \n",
            " block_2_expand_BN (BatchNormal  (None, 40, 40, 144)  576        ['block_2_expand[0][0]']         \n",
            " ization)                                                                                         \n",
            "                                                                                                  \n",
            " block_2_expand_relu (ReLU)     (None, 40, 40, 144)  0           ['block_2_expand_BN[0][0]']      \n",
            "                                                                                                  \n",
            " block_2_depthwise (DepthwiseCo  (None, 40, 40, 144)  1296       ['block_2_expand_relu[0][0]']    \n",
            " nv2D)                                                                                            \n",
            "                                                                                                  \n",
            " block_2_depthwise_BN (BatchNor  (None, 40, 40, 144)  576        ['block_2_depthwise[0][0]']      \n",
            " malization)                                                                                      \n",
            "                                                                                                  \n",
            " block_2_depthwise_relu (ReLU)  (None, 40, 40, 144)  0           ['block_2_depthwise_BN[0][0]']   \n",
            "                                                                                                  \n",
            " block_2_project (Conv2D)       (None, 40, 40, 24)   3456        ['block_2_depthwise_relu[0][0]'] \n",
            "                                                                                                  \n",
            " block_2_project_BN (BatchNorma  (None, 40, 40, 24)  96          ['block_2_project[0][0]']        \n",
            " lization)                                                                                        \n",
            "                                                                                                  \n",
            " block_2_add (Add)              (None, 40, 40, 24)   0           ['block_1_project_BN[0][0]',     \n",
            "                                                                  'block_2_project_BN[0][0]']     \n",
            "                                                                                                  \n",
            " block_3_expand (Conv2D)        (None, 40, 40, 144)  3456        ['block_2_add[0][0]']            \n",
            "                                                                                                  \n",
            " block_3_expand_BN (BatchNormal  (None, 40, 40, 144)  576        ['block_3_expand[0][0]']         \n",
            " ization)                                                                                         \n",
            "                                                                                                  \n",
            " block_3_expand_relu (ReLU)     (None, 40, 40, 144)  0           ['block_3_expand_BN[0][0]']      \n",
            "                                                                                                  \n",
            " block_3_pad (ZeroPadding2D)    (None, 41, 41, 144)  0           ['block_3_expand_relu[0][0]']    \n",
            "                                                                                                  \n",
            " block_3_depthwise (DepthwiseCo  (None, 20, 20, 144)  1296       ['block_3_pad[0][0]']            \n",
            " nv2D)                                                                                            \n",
            "                                                                                                  \n",
            " block_3_depthwise_BN (BatchNor  (None, 20, 20, 144)  576        ['block_3_depthwise[0][0]']      \n",
            " malization)                                                                                      \n",
            "                                                                                                  \n",
            " block_3_depthwise_relu (ReLU)  (None, 20, 20, 144)  0           ['block_3_depthwise_BN[0][0]']   \n",
            "                                                                                                  \n",
            " block_3_project (Conv2D)       (None, 20, 20, 32)   4608        ['block_3_depthwise_relu[0][0]'] \n",
            "                                                                                                  \n",
            " block_3_project_BN (BatchNorma  (None, 20, 20, 32)  128         ['block_3_project[0][0]']        \n",
            " lization)                                                                                        \n",
            "                                                                                                  \n",
            " block_4_expand (Conv2D)        (None, 20, 20, 192)  6144        ['block_3_project_BN[0][0]']     \n",
            "                                                                                                  \n",
            " block_4_expand_BN (BatchNormal  (None, 20, 20, 192)  768        ['block_4_expand[0][0]']         \n",
            " ization)                                                                                         \n",
            "                                                                                                  \n",
            " block_4_expand_relu (ReLU)     (None, 20, 20, 192)  0           ['block_4_expand_BN[0][0]']      \n",
            "                                                                                                  \n",
            " block_4_depthwise (DepthwiseCo  (None, 20, 20, 192)  1728       ['block_4_expand_relu[0][0]']    \n",
            " nv2D)                                                                                            \n",
            "                                                                                                  \n",
            " block_4_depthwise_BN (BatchNor  (None, 20, 20, 192)  768        ['block_4_depthwise[0][0]']      \n",
            " malization)                                                                                      \n",
            "                                                                                                  \n",
            " block_4_depthwise_relu (ReLU)  (None, 20, 20, 192)  0           ['block_4_depthwise_BN[0][0]']   \n",
            "                                                                                                  \n",
            " block_4_project (Conv2D)       (None, 20, 20, 32)   6144        ['block_4_depthwise_relu[0][0]'] \n",
            "                                                                                                  \n",
            " block_4_project_BN (BatchNorma  (None, 20, 20, 32)  128         ['block_4_project[0][0]']        \n",
            " lization)                                                                                        \n",
            "                                                                                                  \n",
            " block_4_add (Add)              (None, 20, 20, 32)   0           ['block_3_project_BN[0][0]',     \n",
            "                                                                  'block_4_project_BN[0][0]']     \n",
            "                                                                                                  \n",
            " block_5_expand (Conv2D)        (None, 20, 20, 192)  6144        ['block_4_add[0][0]']            \n",
            "                                                                                                  \n",
            " block_5_expand_BN (BatchNormal  (None, 20, 20, 192)  768        ['block_5_expand[0][0]']         \n",
            " ization)                                                                                         \n",
            "                                                                                                  \n",
            " block_5_expand_relu (ReLU)     (None, 20, 20, 192)  0           ['block_5_expand_BN[0][0]']      \n",
            "                                                                                                  \n",
            " block_5_depthwise (DepthwiseCo  (None, 20, 20, 192)  1728       ['block_5_expand_relu[0][0]']    \n",
            " nv2D)                                                                                            \n",
            "                                                                                                  \n",
            " block_5_depthwise_BN (BatchNor  (None, 20, 20, 192)  768        ['block_5_depthwise[0][0]']      \n",
            " malization)                                                                                      \n",
            "                                                                                                  \n",
            " block_5_depthwise_relu (ReLU)  (None, 20, 20, 192)  0           ['block_5_depthwise_BN[0][0]']   \n",
            "                                                                                                  \n",
            " block_5_project (Conv2D)       (None, 20, 20, 32)   6144        ['block_5_depthwise_relu[0][0]'] \n",
            "                                                                                                  \n",
            " block_5_project_BN (BatchNorma  (None, 20, 20, 32)  128         ['block_5_project[0][0]']        \n",
            " lization)                                                                                        \n",
            "                                                                                                  \n",
            " block_5_add (Add)              (None, 20, 20, 32)   0           ['block_4_add[0][0]',            \n",
            "                                                                  'block_5_project_BN[0][0]']     \n",
            "                                                                                                  \n",
            " block_6_expand (Conv2D)        (None, 20, 20, 192)  6144        ['block_5_add[0][0]']            \n",
            "                                                                                                  \n",
            " block_6_expand_BN (BatchNormal  (None, 20, 20, 192)  768        ['block_6_expand[0][0]']         \n",
            " ization)                                                                                         \n",
            "                                                                                                  \n",
            " block_6_expand_relu (ReLU)     (None, 20, 20, 192)  0           ['block_6_expand_BN[0][0]']      \n",
            "                                                                                                  \n",
            " block_6_pad (ZeroPadding2D)    (None, 21, 21, 192)  0           ['block_6_expand_relu[0][0]']    \n",
            "                                                                                                  \n",
            " block_6_depthwise (DepthwiseCo  (None, 10, 10, 192)  1728       ['block_6_pad[0][0]']            \n",
            " nv2D)                                                                                            \n",
            "                                                                                                  \n",
            " block_6_depthwise_BN (BatchNor  (None, 10, 10, 192)  768        ['block_6_depthwise[0][0]']      \n",
            " malization)                                                                                      \n",
            "                                                                                                  \n",
            " block_6_depthwise_relu (ReLU)  (None, 10, 10, 192)  0           ['block_6_depthwise_BN[0][0]']   \n",
            "                                                                                                  \n",
            " block_6_project (Conv2D)       (None, 10, 10, 64)   12288       ['block_6_depthwise_relu[0][0]'] \n",
            "                                                                                                  \n",
            " block_6_project_BN (BatchNorma  (None, 10, 10, 64)  256         ['block_6_project[0][0]']        \n",
            " lization)                                                                                        \n",
            "                                                                                                  \n",
            " block_7_expand (Conv2D)        (None, 10, 10, 384)  24576       ['block_6_project_BN[0][0]']     \n",
            "                                                                                                  \n",
            " block_7_expand_BN (BatchNormal  (None, 10, 10, 384)  1536       ['block_7_expand[0][0]']         \n",
            " ization)                                                                                         \n",
            "                                                                                                  \n",
            " block_7_expand_relu (ReLU)     (None, 10, 10, 384)  0           ['block_7_expand_BN[0][0]']      \n",
            "                                                                                                  \n",
            " block_7_depthwise (DepthwiseCo  (None, 10, 10, 384)  3456       ['block_7_expand_relu[0][0]']    \n",
            " nv2D)                                                                                            \n",
            "                                                                                                  \n",
            " block_7_depthwise_BN (BatchNor  (None, 10, 10, 384)  1536       ['block_7_depthwise[0][0]']      \n",
            " malization)                                                                                      \n",
            "                                                                                                  \n",
            " block_7_depthwise_relu (ReLU)  (None, 10, 10, 384)  0           ['block_7_depthwise_BN[0][0]']   \n",
            "                                                                                                  \n",
            " block_7_project (Conv2D)       (None, 10, 10, 64)   24576       ['block_7_depthwise_relu[0][0]'] \n",
            "                                                                                                  \n",
            " block_7_project_BN (BatchNorma  (None, 10, 10, 64)  256         ['block_7_project[0][0]']        \n",
            " lization)                                                                                        \n",
            "                                                                                                  \n",
            " block_7_add (Add)              (None, 10, 10, 64)   0           ['block_6_project_BN[0][0]',     \n",
            "                                                                  'block_7_project_BN[0][0]']     \n",
            "                                                                                                  \n",
            " block_8_expand (Conv2D)        (None, 10, 10, 384)  24576       ['block_7_add[0][0]']            \n",
            "                                                                                                  \n",
            " block_8_expand_BN (BatchNormal  (None, 10, 10, 384)  1536       ['block_8_expand[0][0]']         \n",
            " ization)                                                                                         \n",
            "                                                                                                  \n",
            " block_8_expand_relu (ReLU)     (None, 10, 10, 384)  0           ['block_8_expand_BN[0][0]']      \n",
            "                                                                                                  \n",
            " block_8_depthwise (DepthwiseCo  (None, 10, 10, 384)  3456       ['block_8_expand_relu[0][0]']    \n",
            " nv2D)                                                                                            \n",
            "                                                                                                  \n",
            " block_8_depthwise_BN (BatchNor  (None, 10, 10, 384)  1536       ['block_8_depthwise[0][0]']      \n",
            " malization)                                                                                      \n",
            "                                                                                                  \n",
            " block_8_depthwise_relu (ReLU)  (None, 10, 10, 384)  0           ['block_8_depthwise_BN[0][0]']   \n",
            "                                                                                                  \n",
            " block_8_project (Conv2D)       (None, 10, 10, 64)   24576       ['block_8_depthwise_relu[0][0]'] \n",
            "                                                                                                  \n",
            " block_8_project_BN (BatchNorma  (None, 10, 10, 64)  256         ['block_8_project[0][0]']        \n",
            " lization)                                                                                        \n",
            "                                                                                                  \n",
            " block_8_add (Add)              (None, 10, 10, 64)   0           ['block_7_add[0][0]',            \n",
            "                                                                  'block_8_project_BN[0][0]']     \n",
            "                                                                                                  \n",
            " block_9_expand (Conv2D)        (None, 10, 10, 384)  24576       ['block_8_add[0][0]']            \n",
            "                                                                                                  \n",
            " block_9_expand_BN (BatchNormal  (None, 10, 10, 384)  1536       ['block_9_expand[0][0]']         \n",
            " ization)                                                                                         \n",
            "                                                                                                  \n",
            " block_9_expand_relu (ReLU)     (None, 10, 10, 384)  0           ['block_9_expand_BN[0][0]']      \n",
            "                                                                                                  \n",
            " block_9_depthwise (DepthwiseCo  (None, 10, 10, 384)  3456       ['block_9_expand_relu[0][0]']    \n",
            " nv2D)                                                                                            \n",
            "                                                                                                  \n",
            " block_9_depthwise_BN (BatchNor  (None, 10, 10, 384)  1536       ['block_9_depthwise[0][0]']      \n",
            " malization)                                                                                      \n",
            "                                                                                                  \n",
            " block_9_depthwise_relu (ReLU)  (None, 10, 10, 384)  0           ['block_9_depthwise_BN[0][0]']   \n",
            "                                                                                                  \n",
            " block_9_project (Conv2D)       (None, 10, 10, 64)   24576       ['block_9_depthwise_relu[0][0]'] \n",
            "                                                                                                  \n",
            " block_9_project_BN (BatchNorma  (None, 10, 10, 64)  256         ['block_9_project[0][0]']        \n",
            " lization)                                                                                        \n",
            "                                                                                                  \n",
            " block_9_add (Add)              (None, 10, 10, 64)   0           ['block_8_add[0][0]',            \n",
            "                                                                  'block_9_project_BN[0][0]']     \n",
            "                                                                                                  \n",
            " block_10_expand (Conv2D)       (None, 10, 10, 384)  24576       ['block_9_add[0][0]']            \n",
            "                                                                                                  \n",
            " block_10_expand_BN (BatchNorma  (None, 10, 10, 384)  1536       ['block_10_expand[0][0]']        \n",
            " lization)                                                                                        \n",
            "                                                                                                  \n",
            " block_10_expand_relu (ReLU)    (None, 10, 10, 384)  0           ['block_10_expand_BN[0][0]']     \n",
            "                                                                                                  \n",
            " block_10_depthwise (DepthwiseC  (None, 10, 10, 384)  3456       ['block_10_expand_relu[0][0]']   \n",
            " onv2D)                                                                                           \n",
            "                                                                                                  \n",
            " block_10_depthwise_BN (BatchNo  (None, 10, 10, 384)  1536       ['block_10_depthwise[0][0]']     \n",
            " rmalization)                                                                                     \n",
            "                                                                                                  \n",
            " block_10_depthwise_relu (ReLU)  (None, 10, 10, 384)  0          ['block_10_depthwise_BN[0][0]']  \n",
            "                                                                                                  \n",
            " block_10_project (Conv2D)      (None, 10, 10, 96)   36864       ['block_10_depthwise_relu[0][0]']\n",
            "                                                                                                  \n",
            " block_10_project_BN (BatchNorm  (None, 10, 10, 96)  384         ['block_10_project[0][0]']       \n",
            " alization)                                                                                       \n",
            "                                                                                                  \n",
            " block_11_expand (Conv2D)       (None, 10, 10, 576)  55296       ['block_10_project_BN[0][0]']    \n",
            "                                                                                                  \n",
            " block_11_expand_BN (BatchNorma  (None, 10, 10, 576)  2304       ['block_11_expand[0][0]']        \n",
            " lization)                                                                                        \n",
            "                                                                                                  \n",
            " block_11_expand_relu (ReLU)    (None, 10, 10, 576)  0           ['block_11_expand_BN[0][0]']     \n",
            "                                                                                                  \n",
            " block_11_depthwise (DepthwiseC  (None, 10, 10, 576)  5184       ['block_11_expand_relu[0][0]']   \n",
            " onv2D)                                                                                           \n",
            "                                                                                                  \n",
            " block_11_depthwise_BN (BatchNo  (None, 10, 10, 576)  2304       ['block_11_depthwise[0][0]']     \n",
            " rmalization)                                                                                     \n",
            "                                                                                                  \n",
            " block_11_depthwise_relu (ReLU)  (None, 10, 10, 576)  0          ['block_11_depthwise_BN[0][0]']  \n",
            "                                                                                                  \n",
            " block_11_project (Conv2D)      (None, 10, 10, 96)   55296       ['block_11_depthwise_relu[0][0]']\n",
            "                                                                                                  \n",
            " block_11_project_BN (BatchNorm  (None, 10, 10, 96)  384         ['block_11_project[0][0]']       \n",
            " alization)                                                                                       \n",
            "                                                                                                  \n",
            " block_11_add (Add)             (None, 10, 10, 96)   0           ['block_10_project_BN[0][0]',    \n",
            "                                                                  'block_11_project_BN[0][0]']    \n",
            "                                                                                                  \n",
            " block_12_expand (Conv2D)       (None, 10, 10, 576)  55296       ['block_11_add[0][0]']           \n",
            "                                                                                                  \n",
            " block_12_expand_BN (BatchNorma  (None, 10, 10, 576)  2304       ['block_12_expand[0][0]']        \n",
            " lization)                                                                                        \n",
            "                                                                                                  \n",
            " block_12_expand_relu (ReLU)    (None, 10, 10, 576)  0           ['block_12_expand_BN[0][0]']     \n",
            "                                                                                                  \n",
            " block_12_depthwise (DepthwiseC  (None, 10, 10, 576)  5184       ['block_12_expand_relu[0][0]']   \n",
            " onv2D)                                                                                           \n",
            "                                                                                                  \n",
            " block_12_depthwise_BN (BatchNo  (None, 10, 10, 576)  2304       ['block_12_depthwise[0][0]']     \n",
            " rmalization)                                                                                     \n",
            "                                                                                                  \n",
            " block_12_depthwise_relu (ReLU)  (None, 10, 10, 576)  0          ['block_12_depthwise_BN[0][0]']  \n",
            "                                                                                                  \n",
            " block_12_project (Conv2D)      (None, 10, 10, 96)   55296       ['block_12_depthwise_relu[0][0]']\n",
            "                                                                                                  \n",
            " block_12_project_BN (BatchNorm  (None, 10, 10, 96)  384         ['block_12_project[0][0]']       \n",
            " alization)                                                                                       \n",
            "                                                                                                  \n",
            " block_12_add (Add)             (None, 10, 10, 96)   0           ['block_11_add[0][0]',           \n",
            "                                                                  'block_12_project_BN[0][0]']    \n",
            "                                                                                                  \n",
            " block_13_expand (Conv2D)       (None, 10, 10, 576)  55296       ['block_12_add[0][0]']           \n",
            "                                                                                                  \n",
            " block_13_expand_BN (BatchNorma  (None, 10, 10, 576)  2304       ['block_13_expand[0][0]']        \n",
            " lization)                                                                                        \n",
            "                                                                                                  \n",
            " block_13_expand_relu (ReLU)    (None, 10, 10, 576)  0           ['block_13_expand_BN[0][0]']     \n",
            "                                                                                                  \n",
            " block_13_pad (ZeroPadding2D)   (None, 11, 11, 576)  0           ['block_13_expand_relu[0][0]']   \n",
            "                                                                                                  \n",
            " block_13_depthwise (DepthwiseC  (None, 5, 5, 576)   5184        ['block_13_pad[0][0]']           \n",
            " onv2D)                                                                                           \n",
            "                                                                                                  \n",
            " block_13_depthwise_BN (BatchNo  (None, 5, 5, 576)   2304        ['block_13_depthwise[0][0]']     \n",
            " rmalization)                                                                                     \n",
            "                                                                                                  \n",
            " block_13_depthwise_relu (ReLU)  (None, 5, 5, 576)   0           ['block_13_depthwise_BN[0][0]']  \n",
            "                                                                                                  \n",
            " block_13_project (Conv2D)      (None, 5, 5, 160)    92160       ['block_13_depthwise_relu[0][0]']\n",
            "                                                                                                  \n",
            " block_13_project_BN (BatchNorm  (None, 5, 5, 160)   640         ['block_13_project[0][0]']       \n",
            " alization)                                                                                       \n",
            "                                                                                                  \n",
            " block_14_expand (Conv2D)       (None, 5, 5, 960)    153600      ['block_13_project_BN[0][0]']    \n",
            "                                                                                                  \n",
            " block_14_expand_BN (BatchNorma  (None, 5, 5, 960)   3840        ['block_14_expand[0][0]']        \n",
            " lization)                                                                                        \n",
            "                                                                                                  \n",
            " block_14_expand_relu (ReLU)    (None, 5, 5, 960)    0           ['block_14_expand_BN[0][0]']     \n",
            "                                                                                                  \n",
            " block_14_depthwise (DepthwiseC  (None, 5, 5, 960)   8640        ['block_14_expand_relu[0][0]']   \n",
            " onv2D)                                                                                           \n",
            "                                                                                                  \n",
            " block_14_depthwise_BN (BatchNo  (None, 5, 5, 960)   3840        ['block_14_depthwise[0][0]']     \n",
            " rmalization)                                                                                     \n",
            "                                                                                                  \n",
            " block_14_depthwise_relu (ReLU)  (None, 5, 5, 960)   0           ['block_14_depthwise_BN[0][0]']  \n",
            "                                                                                                  \n",
            " block_14_project (Conv2D)      (None, 5, 5, 160)    153600      ['block_14_depthwise_relu[0][0]']\n",
            "                                                                                                  \n",
            " block_14_project_BN (BatchNorm  (None, 5, 5, 160)   640         ['block_14_project[0][0]']       \n",
            " alization)                                                                                       \n",
            "                                                                                                  \n",
            " block_14_add (Add)             (None, 5, 5, 160)    0           ['block_13_project_BN[0][0]',    \n",
            "                                                                  'block_14_project_BN[0][0]']    \n",
            "                                                                                                  \n",
            " block_15_expand (Conv2D)       (None, 5, 5, 960)    153600      ['block_14_add[0][0]']           \n",
            "                                                                                                  \n",
            " block_15_expand_BN (BatchNorma  (None, 5, 5, 960)   3840        ['block_15_expand[0][0]']        \n",
            " lization)                                                                                        \n",
            "                                                                                                  \n",
            " block_15_expand_relu (ReLU)    (None, 5, 5, 960)    0           ['block_15_expand_BN[0][0]']     \n",
            "                                                                                                  \n",
            " block_15_depthwise (DepthwiseC  (None, 5, 5, 960)   8640        ['block_15_expand_relu[0][0]']   \n",
            " onv2D)                                                                                           \n",
            "                                                                                                  \n",
            " block_15_depthwise_BN (BatchNo  (None, 5, 5, 960)   3840        ['block_15_depthwise[0][0]']     \n",
            " rmalization)                                                                                     \n",
            "                                                                                                  \n",
            " block_15_depthwise_relu (ReLU)  (None, 5, 5, 960)   0           ['block_15_depthwise_BN[0][0]']  \n",
            "                                                                                                  \n",
            " block_15_project (Conv2D)      (None, 5, 5, 160)    153600      ['block_15_depthwise_relu[0][0]']\n",
            "                                                                                                  \n",
            " block_15_project_BN (BatchNorm  (None, 5, 5, 160)   640         ['block_15_project[0][0]']       \n",
            " alization)                                                                                       \n",
            "                                                                                                  \n",
            " block_15_add (Add)             (None, 5, 5, 160)    0           ['block_14_add[0][0]',           \n",
            "                                                                  'block_15_project_BN[0][0]']    \n",
            "                                                                                                  \n",
            " block_16_expand (Conv2D)       (None, 5, 5, 960)    153600      ['block_15_add[0][0]']           \n",
            "                                                                                                  \n",
            " block_16_expand_BN (BatchNorma  (None, 5, 5, 960)   3840        ['block_16_expand[0][0]']        \n",
            " lization)                                                                                        \n",
            "                                                                                                  \n",
            " block_16_expand_relu (ReLU)    (None, 5, 5, 960)    0           ['block_16_expand_BN[0][0]']     \n",
            "                                                                                                  \n",
            " block_16_depthwise (DepthwiseC  (None, 5, 5, 960)   8640        ['block_16_expand_relu[0][0]']   \n",
            " onv2D)                                                                                           \n",
            "                                                                                                  \n",
            " block_16_depthwise_BN (BatchNo  (None, 5, 5, 960)   3840        ['block_16_depthwise[0][0]']     \n",
            " rmalization)                                                                                     \n",
            "                                                                                                  \n",
            " block_16_depthwise_relu (ReLU)  (None, 5, 5, 960)   0           ['block_16_depthwise_BN[0][0]']  \n",
            "                                                                                                  \n",
            " block_16_project (Conv2D)      (None, 5, 5, 320)    307200      ['block_16_depthwise_relu[0][0]']\n",
            "                                                                                                  \n",
            " block_16_project_BN (BatchNorm  (None, 5, 5, 320)   1280        ['block_16_project[0][0]']       \n",
            " alization)                                                                                       \n",
            "                                                                                                  \n",
            " Conv_1 (Conv2D)                (None, 5, 5, 1280)   409600      ['block_16_project_BN[0][0]']    \n",
            "                                                                                                  \n",
            " Conv_1_bn (BatchNormalization)  (None, 5, 5, 1280)  5120        ['Conv_1[0][0]']                 \n",
            "                                                                                                  \n",
            " out_relu (ReLU)                (None, 5, 5, 1280)   0           ['Conv_1_bn[0][0]']              \n",
            "                                                                                                  \n",
            "==================================================================================================\n",
            "Total params: 2,257,984\n",
            "Trainable params: 0\n",
            "Non-trainable params: 2,257,984\n",
            "__________________________________________________________________________________________________\n"
          ]
        }
      ],
      "source": [
        "base_model.summary()"
      ]
    },
    {
      "cell_type": "code",
      "execution_count": null,
      "metadata": {
        "colab": {
          "base_uri": "https://localhost:8080/"
        },
        "id": "QKSCHZVLgwPa",
        "outputId": "9da11a17-1f5f-4375-f963-07662dcf62fd"
      },
      "outputs": [
        {
          "output_type": "stream",
          "name": "stdout",
          "text": [
            "(32, 1280)\n"
          ]
        }
      ],
      "source": [
        "global_average_layer = tf.keras.layers.GlobalAveragePooling2D()\n",
        "feature_batch_average = global_average_layer(feature_batch)\n",
        "print(feature_batch_average.shape)"
      ]
    },
    {
      "cell_type": "code",
      "execution_count": null,
      "metadata": {
        "colab": {
          "base_uri": "https://localhost:8080/"
        },
        "id": "T0mH2OAKg1U2",
        "outputId": "27c539c7-3f07-4f7e-e2a2-aac482398b20"
      },
      "outputs": [
        {
          "output_type": "stream",
          "name": "stdout",
          "text": [
            "(32, 8)\n"
          ]
        }
      ],
      "source": [
        "prediction_layer = tf.keras.layers.Dense(8, activation=\"softmax\")\n",
        "prediction_batch = prediction_layer(feature_batch_average)\n",
        "print(prediction_batch.shape)"
      ]
    },
    {
      "cell_type": "code",
      "execution_count": null,
      "metadata": {
        "id": "EjG1XysytriY"
      },
      "outputs": [],
      "source": [
        "SHAPE_SIZE = (160, 160, 3) # cocokin sama IMG_SIZE"
      ]
    },
    {
      "cell_type": "code",
      "execution_count": null,
      "metadata": {
        "id": "w-XDbApVg5vp"
      },
      "outputs": [],
      "source": [
        "inputs = tf.keras.Input(shape=SHAPE_SIZE)\n",
        "x = data_augmentation(inputs)\n",
        "x = preprocess_input(x)\n",
        "x = base_model(x, training=False)\n",
        "x = global_average_layer(x)\n",
        "x = tf.keras.layers.Dropout(0.2)(x)\n",
        "outputs = prediction_layer(x)\n",
        "model = tf.keras.Model(inputs, outputs)"
      ]
    },
    {
      "cell_type": "code",
      "execution_count": null,
      "metadata": {
        "id": "FnjFhVM6hCxl"
      },
      "outputs": [],
      "source": [
        "base_learning_rate = 0.0001\n",
        "model.compile(optimizer=tf.keras.optimizers.Adam(learning_rate=base_learning_rate),\n",
        "              loss=tf.losses.SparseCategoricalCrossentropy(from_logits=True),\n",
        "              metrics=['accuracy'])"
      ]
    },
    {
      "cell_type": "code",
      "execution_count": null,
      "metadata": {
        "colab": {
          "base_uri": "https://localhost:8080/"
        },
        "id": "M1w-D73KhI_n",
        "outputId": "a923a7a3-7ef2-4fd6-a89e-bd3217e3ad63"
      },
      "outputs": [
        {
          "output_type": "stream",
          "name": "stdout",
          "text": [
            "Model: \"model\"\n",
            "_________________________________________________________________\n",
            " Layer (type)                Output Shape              Param #   \n",
            "=================================================================\n",
            " input_2 (InputLayer)        [(None, 160, 160, 3)]     0         \n",
            "                                                                 \n",
            " sequential (Sequential)     (None, 160, 160, 3)       0         \n",
            "                                                                 \n",
            " tf.math.truediv (TFOpLambda  (None, 160, 160, 3)      0         \n",
            " )                                                               \n",
            "                                                                 \n",
            " tf.math.subtract (TFOpLambd  (None, 160, 160, 3)      0         \n",
            " a)                                                              \n",
            "                                                                 \n",
            " mobilenetv2_1.00_160 (Funct  (None, 5, 5, 1280)       2257984   \n",
            " ional)                                                          \n",
            "                                                                 \n",
            " global_average_pooling2d (G  (None, 1280)             0         \n",
            " lobalAveragePooling2D)                                          \n",
            "                                                                 \n",
            " dropout (Dropout)           (None, 1280)              0         \n",
            "                                                                 \n",
            " dense (Dense)               (None, 8)                 10248     \n",
            "                                                                 \n",
            "=================================================================\n",
            "Total params: 2,268,232\n",
            "Trainable params: 10,248\n",
            "Non-trainable params: 2,257,984\n",
            "_________________________________________________________________\n"
          ]
        }
      ],
      "source": [
        "model.summary()"
      ]
    },
    {
      "cell_type": "code",
      "execution_count": null,
      "metadata": {
        "colab": {
          "base_uri": "https://localhost:8080/"
        },
        "id": "ACLlwOKmhLEz",
        "outputId": "0ddf9689-a3b0-4f1d-8f30-22cd5b885ff2"
      },
      "outputs": [
        {
          "output_type": "stream",
          "name": "stderr",
          "text": [
            "/usr/local/lib/python3.10/dist-packages/keras/backend.py:5612: UserWarning: \"`sparse_categorical_crossentropy` received `from_logits=True`, but the `output` argument was produced by a Softmax activation and thus does not represent logits. Was this intended?\n",
            "  output, from_logits = _get_logits(\n"
          ]
        },
        {
          "output_type": "stream",
          "name": "stdout",
          "text": [
            "40/40 [==============================] - 11s 116ms/step - loss: 2.6742 - accuracy: 0.1273\n"
          ]
        }
      ],
      "source": [
        "loss0, accuracy0 = model.evaluate(validation_dataset)"
      ]
    },
    {
      "cell_type": "code",
      "execution_count": null,
      "metadata": {
        "colab": {
          "base_uri": "https://localhost:8080/"
        },
        "id": "a-cknRGGhQiM",
        "outputId": "e858255b-e3e5-4cad-e19e-003de86ba1f2"
      },
      "outputs": [
        {
          "output_type": "stream",
          "name": "stdout",
          "text": [
            "initial loss: 2.67\n",
            "initial accuracy: 0.13\n"
          ]
        }
      ],
      "source": [
        "print(\"initial loss: {:.2f}\".format(loss0))\n",
        "print(\"initial accuracy: {:.2f}\".format(accuracy0))"
      ]
    },
    {
      "cell_type": "markdown",
      "metadata": {
        "id": "ADvB9KCphxcT"
      },
      "source": [
        "## Melatih Pre Trained Model MobileNetV2"
      ]
    },
    {
      "cell_type": "code",
      "execution_count": null,
      "metadata": {
        "colab": {
          "base_uri": "https://localhost:8080/"
        },
        "id": "2TVGk28fhQgZ",
        "outputId": "df7b602b-82d8-4971-e068-f04b1ff65bfd"
      },
      "outputs": [
        {
          "output_type": "stream",
          "name": "stdout",
          "text": [
            "Epoch 1/100\n",
            "200/200 [==============================] - 27s 133ms/step - loss: 1.1342 - accuracy: 0.5833 - val_loss: 1.1012 - val_accuracy: 0.6062\n",
            "Epoch 2/100\n",
            "200/200 [==============================] - 31s 153ms/step - loss: 1.1140 - accuracy: 0.5889 - val_loss: 1.0793 - val_accuracy: 0.6070\n",
            "Epoch 3/100\n",
            "200/200 [==============================] - 26s 125ms/step - loss: 1.0869 - accuracy: 0.6095 - val_loss: 1.0777 - val_accuracy: 0.6133\n",
            "Epoch 4/100\n",
            "200/200 [==============================] - 28s 137ms/step - loss: 1.0623 - accuracy: 0.6152 - val_loss: 1.0541 - val_accuracy: 0.6133\n",
            "Epoch 5/100\n",
            "200/200 [==============================] - 24s 117ms/step - loss: 1.0435 - accuracy: 0.6252 - val_loss: 1.0294 - val_accuracy: 0.6250\n",
            "Epoch 6/100\n",
            "200/200 [==============================] - 25s 122ms/step - loss: 1.0165 - accuracy: 0.6334 - val_loss: 1.0261 - val_accuracy: 0.6250\n",
            "Epoch 7/100\n",
            "200/200 [==============================] - 20s 98ms/step - loss: 1.0146 - accuracy: 0.6372 - val_loss: 1.0075 - val_accuracy: 0.6328\n",
            "Epoch 8/100\n",
            "200/200 [==============================] - 23s 110ms/step - loss: 0.9873 - accuracy: 0.6448 - val_loss: 0.9885 - val_accuracy: 0.6438\n",
            "Epoch 9/100\n",
            "200/200 [==============================] - 20s 98ms/step - loss: 0.9754 - accuracy: 0.6509 - val_loss: 0.9995 - val_accuracy: 0.6383\n",
            "Epoch 10/100\n",
            "200/200 [==============================] - 24s 117ms/step - loss: 0.9607 - accuracy: 0.6577 - val_loss: 0.9681 - val_accuracy: 0.6578\n",
            "Epoch 11/100\n",
            "200/200 [==============================] - 21s 103ms/step - loss: 0.9410 - accuracy: 0.6645 - val_loss: 0.9853 - val_accuracy: 0.6445\n",
            "Epoch 12/100\n",
            "200/200 [==============================] - 22s 107ms/step - loss: 0.9385 - accuracy: 0.6616 - val_loss: 0.9682 - val_accuracy: 0.6570\n",
            "Epoch 13/100\n",
            "200/200 [==============================] - 26s 127ms/step - loss: 0.9261 - accuracy: 0.6680 - val_loss: 0.9586 - val_accuracy: 0.6539\n",
            "Epoch 14/100\n",
            "200/200 [==============================] - 23s 112ms/step - loss: 0.9104 - accuracy: 0.6744 - val_loss: 0.9262 - val_accuracy: 0.6703\n",
            "Epoch 15/100\n",
            "200/200 [==============================] - 22s 108ms/step - loss: 0.9087 - accuracy: 0.6737 - val_loss: 0.9242 - val_accuracy: 0.6656\n",
            "Epoch 16/100\n",
            "200/200 [==============================] - 20s 99ms/step - loss: 0.8922 - accuracy: 0.6789 - val_loss: 0.9132 - val_accuracy: 0.6773\n",
            "Epoch 17/100\n",
            "200/200 [==============================] - 23s 111ms/step - loss: 0.8839 - accuracy: 0.6827 - val_loss: 0.9217 - val_accuracy: 0.6711\n",
            "Epoch 18/100\n",
            "200/200 [==============================] - 20s 99ms/step - loss: 0.8791 - accuracy: 0.6848 - val_loss: 0.9014 - val_accuracy: 0.6766\n",
            "Epoch 19/100\n",
            "200/200 [==============================] - 22s 109ms/step - loss: 0.8737 - accuracy: 0.6923 - val_loss: 0.9107 - val_accuracy: 0.6758\n",
            "Epoch 20/100\n",
            "200/200 [==============================] - 20s 99ms/step - loss: 0.8561 - accuracy: 0.6948 - val_loss: 0.8851 - val_accuracy: 0.6906\n",
            "Epoch 21/100\n",
            "200/200 [==============================] - 22s 109ms/step - loss: 0.8603 - accuracy: 0.6902 - val_loss: 0.8942 - val_accuracy: 0.6812\n",
            "Epoch 22/100\n",
            "200/200 [==============================] - 24s 115ms/step - loss: 0.8448 - accuracy: 0.7011 - val_loss: 0.8783 - val_accuracy: 0.6992\n",
            "Epoch 23/100\n",
            "200/200 [==============================] - 20s 99ms/step - loss: 0.8414 - accuracy: 0.6938 - val_loss: 0.8939 - val_accuracy: 0.6805\n",
            "Epoch 24/100\n",
            "200/200 [==============================] - 22s 108ms/step - loss: 0.8193 - accuracy: 0.7131 - val_loss: 0.8729 - val_accuracy: 0.6938\n",
            "Epoch 25/100\n",
            "200/200 [==============================] - 20s 99ms/step - loss: 0.8275 - accuracy: 0.7045 - val_loss: 0.8697 - val_accuracy: 0.6875\n",
            "Epoch 26/100\n",
            "200/200 [==============================] - 22s 106ms/step - loss: 0.8120 - accuracy: 0.7100 - val_loss: 0.8483 - val_accuracy: 0.6977\n",
            "Epoch 27/100\n",
            "200/200 [==============================] - 20s 99ms/step - loss: 0.8122 - accuracy: 0.7075 - val_loss: 0.8699 - val_accuracy: 0.6953\n",
            "Epoch 28/100\n",
            "200/200 [==============================] - 23s 110ms/step - loss: 0.8075 - accuracy: 0.7136 - val_loss: 0.8611 - val_accuracy: 0.7031\n",
            "Epoch 29/100\n",
            "200/200 [==============================] - 21s 100ms/step - loss: 0.7963 - accuracy: 0.7242 - val_loss: 0.8606 - val_accuracy: 0.6938\n",
            "Epoch 30/100\n",
            "200/200 [==============================] - 20s 99ms/step - loss: 0.7899 - accuracy: 0.7222 - val_loss: 0.8405 - val_accuracy: 0.7031\n",
            "Epoch 31/100\n",
            "200/200 [==============================] - 24s 119ms/step - loss: 0.7814 - accuracy: 0.7200 - val_loss: 0.8378 - val_accuracy: 0.7063\n",
            "Epoch 32/100\n",
            "200/200 [==============================] - 22s 108ms/step - loss: 0.7800 - accuracy: 0.7294 - val_loss: 0.8507 - val_accuracy: 0.7000\n",
            "Epoch 33/100\n",
            "200/200 [==============================] - 22s 108ms/step - loss: 0.7715 - accuracy: 0.7319 - val_loss: 0.8549 - val_accuracy: 0.7023\n",
            "Epoch 34/100\n",
            "200/200 [==============================] - 20s 99ms/step - loss: 0.7658 - accuracy: 0.7362 - val_loss: 0.8491 - val_accuracy: 0.7039\n",
            "Epoch 35/100\n",
            "200/200 [==============================] - 22s 107ms/step - loss: 0.7694 - accuracy: 0.7283 - val_loss: 0.8225 - val_accuracy: 0.7133\n",
            "Epoch 36/100\n",
            "200/200 [==============================] - 20s 99ms/step - loss: 0.7759 - accuracy: 0.7311 - val_loss: 0.8376 - val_accuracy: 0.7039\n",
            "Epoch 37/100\n",
            "200/200 [==============================] - 22s 107ms/step - loss: 0.7649 - accuracy: 0.7309 - val_loss: 0.8222 - val_accuracy: 0.7133\n",
            "Epoch 38/100\n",
            "200/200 [==============================] - 20s 99ms/step - loss: 0.7454 - accuracy: 0.7367 - val_loss: 0.8189 - val_accuracy: 0.7117\n",
            "Epoch 39/100\n",
            "200/200 [==============================] - 22s 108ms/step - loss: 0.7520 - accuracy: 0.7355 - val_loss: 0.8263 - val_accuracy: 0.7055\n",
            "Epoch 40/100\n",
            "200/200 [==============================] - 22s 108ms/step - loss: 0.7582 - accuracy: 0.7305 - val_loss: 0.8228 - val_accuracy: 0.7164\n",
            "Epoch 41/100\n",
            "200/200 [==============================] - 22s 108ms/step - loss: 0.7424 - accuracy: 0.7377 - val_loss: 0.8106 - val_accuracy: 0.7141\n",
            "Epoch 42/100\n",
            "200/200 [==============================] - 20s 99ms/step - loss: 0.7593 - accuracy: 0.7302 - val_loss: 0.8159 - val_accuracy: 0.7125\n",
            "Epoch 43/100\n",
            "200/200 [==============================] - 22s 107ms/step - loss: 0.7440 - accuracy: 0.7384 - val_loss: 0.8067 - val_accuracy: 0.7133\n",
            "Epoch 44/100\n",
            "200/200 [==============================] - 20s 98ms/step - loss: 0.7360 - accuracy: 0.7444 - val_loss: 0.8036 - val_accuracy: 0.7195\n",
            "Epoch 45/100\n",
            "200/200 [==============================] - 22s 109ms/step - loss: 0.7095 - accuracy: 0.7578 - val_loss: 0.8112 - val_accuracy: 0.7031\n",
            "Epoch 46/100\n",
            "200/200 [==============================] - 22s 106ms/step - loss: 0.7278 - accuracy: 0.7459 - val_loss: 0.8106 - val_accuracy: 0.7141\n",
            "Epoch 47/100\n",
            "200/200 [==============================] - 20s 99ms/step - loss: 0.7194 - accuracy: 0.7542 - val_loss: 0.8040 - val_accuracy: 0.7117\n",
            "Epoch 48/100\n",
            "200/200 [==============================] - 22s 107ms/step - loss: 0.7336 - accuracy: 0.7383 - val_loss: 0.7950 - val_accuracy: 0.7188\n",
            "Epoch 49/100\n",
            "200/200 [==============================] - 24s 114ms/step - loss: 0.7180 - accuracy: 0.7470 - val_loss: 0.7863 - val_accuracy: 0.7172\n",
            "Epoch 50/100\n",
            "200/200 [==============================] - 22s 107ms/step - loss: 0.7075 - accuracy: 0.7588 - val_loss: 0.7981 - val_accuracy: 0.7188\n",
            "Epoch 51/100\n",
            "200/200 [==============================] - 20s 98ms/step - loss: 0.7209 - accuracy: 0.7448 - val_loss: 0.7849 - val_accuracy: 0.7211\n",
            "Epoch 52/100\n",
            "200/200 [==============================] - 22s 107ms/step - loss: 0.7041 - accuracy: 0.7544 - val_loss: 0.8042 - val_accuracy: 0.7172\n",
            "Epoch 53/100\n",
            "200/200 [==============================] - 20s 99ms/step - loss: 0.6968 - accuracy: 0.7583 - val_loss: 0.7880 - val_accuracy: 0.7188\n",
            "Epoch 54/100\n",
            "200/200 [==============================] - 22s 110ms/step - loss: 0.7114 - accuracy: 0.7542 - val_loss: 0.7877 - val_accuracy: 0.7117\n",
            "Epoch 55/100\n",
            "200/200 [==============================] - 20s 99ms/step - loss: 0.6982 - accuracy: 0.7573 - val_loss: 0.7831 - val_accuracy: 0.7203\n",
            "Epoch 56/100\n",
            "200/200 [==============================] - 22s 107ms/step - loss: 0.7028 - accuracy: 0.7578 - val_loss: 0.7823 - val_accuracy: 0.7141\n",
            "Epoch 57/100\n",
            "200/200 [==============================] - 22s 107ms/step - loss: 0.6998 - accuracy: 0.7527 - val_loss: 0.7782 - val_accuracy: 0.7211\n",
            "Epoch 58/100\n",
            "200/200 [==============================] - 22s 109ms/step - loss: 0.6961 - accuracy: 0.7567 - val_loss: 0.7890 - val_accuracy: 0.7102\n",
            "Epoch 59/100\n",
            "200/200 [==============================] - 22s 110ms/step - loss: 0.6983 - accuracy: 0.7541 - val_loss: 0.7834 - val_accuracy: 0.7219\n",
            "Epoch 60/100\n",
            "200/200 [==============================] - 22s 107ms/step - loss: 0.6830 - accuracy: 0.7614 - val_loss: 0.7715 - val_accuracy: 0.7273\n",
            "Epoch 61/100\n",
            "200/200 [==============================] - 22s 108ms/step - loss: 0.6826 - accuracy: 0.7584 - val_loss: 0.7884 - val_accuracy: 0.7109\n",
            "Epoch 62/100\n",
            "200/200 [==============================] - 21s 100ms/step - loss: 0.6800 - accuracy: 0.7681 - val_loss: 0.7793 - val_accuracy: 0.7188\n",
            "Epoch 63/100\n",
            "200/200 [==============================] - 23s 111ms/step - loss: 0.6936 - accuracy: 0.7581 - val_loss: 0.7610 - val_accuracy: 0.7258\n",
            "Epoch 64/100\n",
            "200/200 [==============================] - 21s 101ms/step - loss: 0.6770 - accuracy: 0.7628 - val_loss: 0.7683 - val_accuracy: 0.7273\n",
            "Epoch 65/100\n",
            "200/200 [==============================] - 22s 109ms/step - loss: 0.6768 - accuracy: 0.7670 - val_loss: 0.7745 - val_accuracy: 0.7211\n",
            "Epoch 66/100\n",
            "200/200 [==============================] - 27s 135ms/step - loss: 0.6822 - accuracy: 0.7586 - val_loss: 0.7795 - val_accuracy: 0.7164\n",
            "Epoch 67/100\n",
            "200/200 [==============================] - 22s 108ms/step - loss: 0.6719 - accuracy: 0.7695 - val_loss: 0.7644 - val_accuracy: 0.7305\n",
            "Epoch 68/100\n",
            "200/200 [==============================] - 20s 99ms/step - loss: 0.6646 - accuracy: 0.7750 - val_loss: 0.7720 - val_accuracy: 0.7297\n",
            "Epoch 69/100\n",
            "200/200 [==============================] - 22s 108ms/step - loss: 0.6752 - accuracy: 0.7631 - val_loss: 0.7531 - val_accuracy: 0.7250\n",
            "Epoch 70/100\n",
            "200/200 [==============================] - 22s 110ms/step - loss: 0.6748 - accuracy: 0.7688 - val_loss: 0.7478 - val_accuracy: 0.7312\n",
            "Epoch 71/100\n",
            "200/200 [==============================] - 20s 99ms/step - loss: 0.6753 - accuracy: 0.7639 - val_loss: 0.7633 - val_accuracy: 0.7273\n",
            "Epoch 72/100\n",
            "200/200 [==============================] - 22s 108ms/step - loss: 0.6723 - accuracy: 0.7617 - val_loss: 0.7449 - val_accuracy: 0.7320\n",
            "Epoch 73/100\n",
            "200/200 [==============================] - 20s 98ms/step - loss: 0.6740 - accuracy: 0.7650 - val_loss: 0.7566 - val_accuracy: 0.7258\n",
            "Epoch 74/100\n",
            "200/200 [==============================] - 22s 108ms/step - loss: 0.6650 - accuracy: 0.7706 - val_loss: 0.7600 - val_accuracy: 0.7273\n",
            "Epoch 75/100\n",
            "200/200 [==============================] - 20s 99ms/step - loss: 0.6622 - accuracy: 0.7664 - val_loss: 0.7503 - val_accuracy: 0.7266\n",
            "Epoch 76/100\n",
            "200/200 [==============================] - 24s 118ms/step - loss: 0.6680 - accuracy: 0.7667 - val_loss: 0.7566 - val_accuracy: 0.7312\n",
            "Epoch 77/100\n",
            "200/200 [==============================] - 20s 99ms/step - loss: 0.6487 - accuracy: 0.7725 - val_loss: 0.7567 - val_accuracy: 0.7297\n",
            "Epoch 78/100\n",
            "200/200 [==============================] - 22s 107ms/step - loss: 0.6618 - accuracy: 0.7711 - val_loss: 0.7705 - val_accuracy: 0.7258\n",
            "Epoch 79/100\n",
            "200/200 [==============================] - 22s 107ms/step - loss: 0.6611 - accuracy: 0.7645 - val_loss: 0.7515 - val_accuracy: 0.7328\n",
            "Epoch 80/100\n",
            "200/200 [==============================] - 22s 108ms/step - loss: 0.6496 - accuracy: 0.7716 - val_loss: 0.7588 - val_accuracy: 0.7250\n",
            "Epoch 81/100\n",
            "200/200 [==============================] - 20s 100ms/step - loss: 0.6576 - accuracy: 0.7680 - val_loss: 0.7454 - val_accuracy: 0.7297\n",
            "Epoch 82/100\n",
            "200/200 [==============================] - 22s 107ms/step - loss: 0.6522 - accuracy: 0.7744 - val_loss: 0.7337 - val_accuracy: 0.7297\n",
            "Epoch 83/100\n",
            "200/200 [==============================] - 21s 100ms/step - loss: 0.6564 - accuracy: 0.7711 - val_loss: 0.7465 - val_accuracy: 0.7383\n",
            "Epoch 84/100\n",
            "200/200 [==============================] - 22s 108ms/step - loss: 0.6483 - accuracy: 0.7756 - val_loss: 0.7526 - val_accuracy: 0.7305\n",
            "Epoch 85/100\n",
            "200/200 [==============================] - 21s 103ms/step - loss: 0.6453 - accuracy: 0.7723 - val_loss: 0.7460 - val_accuracy: 0.7312\n",
            "Epoch 86/100\n",
            "200/200 [==============================] - 20s 99ms/step - loss: 0.6501 - accuracy: 0.7738 - val_loss: 0.7346 - val_accuracy: 0.7352\n",
            "Epoch 87/100\n",
            "200/200 [==============================] - 22s 106ms/step - loss: 0.6504 - accuracy: 0.7714 - val_loss: 0.7549 - val_accuracy: 0.7328\n",
            "Epoch 88/100\n",
            "200/200 [==============================] - 20s 99ms/step - loss: 0.6438 - accuracy: 0.7772 - val_loss: 0.7338 - val_accuracy: 0.7406\n",
            "Epoch 89/100\n",
            "200/200 [==============================] - 22s 106ms/step - loss: 0.6489 - accuracy: 0.7702 - val_loss: 0.7497 - val_accuracy: 0.7305\n",
            "Epoch 90/100\n",
            "200/200 [==============================] - 20s 100ms/step - loss: 0.6314 - accuracy: 0.7763 - val_loss: 0.7488 - val_accuracy: 0.7352\n",
            "Epoch 91/100\n",
            "200/200 [==============================] - 22s 106ms/step - loss: 0.6346 - accuracy: 0.7772 - val_loss: 0.7366 - val_accuracy: 0.7367\n",
            "Epoch 92/100\n",
            "200/200 [==============================] - 20s 98ms/step - loss: 0.6506 - accuracy: 0.7655 - val_loss: 0.7431 - val_accuracy: 0.7305\n",
            "Epoch 93/100\n",
            "200/200 [==============================] - 22s 106ms/step - loss: 0.6347 - accuracy: 0.7817 - val_loss: 0.7347 - val_accuracy: 0.7383\n",
            "Epoch 94/100\n",
            "200/200 [==============================] - 20s 99ms/step - loss: 0.6362 - accuracy: 0.7722 - val_loss: 0.7377 - val_accuracy: 0.7359\n",
            "Epoch 95/100\n",
            "200/200 [==============================] - 24s 113ms/step - loss: 0.6386 - accuracy: 0.7750 - val_loss: 0.7354 - val_accuracy: 0.7414\n",
            "Epoch 96/100\n",
            "200/200 [==============================] - 22s 107ms/step - loss: 0.6363 - accuracy: 0.7734 - val_loss: 0.7285 - val_accuracy: 0.7352\n",
            "Epoch 97/100\n",
            "200/200 [==============================] - 20s 98ms/step - loss: 0.6402 - accuracy: 0.7769 - val_loss: 0.7282 - val_accuracy: 0.7391\n",
            "Epoch 98/100\n",
            "200/200 [==============================] - 22s 108ms/step - loss: 0.6470 - accuracy: 0.7688 - val_loss: 0.7312 - val_accuracy: 0.7359\n",
            "Epoch 99/100\n",
            "200/200 [==============================] - 21s 101ms/step - loss: 0.6303 - accuracy: 0.7797 - val_loss: 0.7374 - val_accuracy: 0.7375\n",
            "Epoch 100/100\n",
            "200/200 [==============================] - 22s 107ms/step - loss: 0.6372 - accuracy: 0.7763 - val_loss: 0.7163 - val_accuracy: 0.7484\n"
          ]
        }
      ],
      "source": [
        "initial_epochs = 100\n",
        "\n",
        "history = model.fit(train_dataset,\n",
        "                    epochs=initial_epochs,\n",
        "                    validation_data=validation_dataset)"
      ]
    },
    {
      "cell_type": "code",
      "execution_count": null,
      "metadata": {
        "id": "KuPh4vjhBQ8d"
      },
      "outputs": [],
      "source": [
        "acc = history.history['accuracy']\n",
        "val_acc = history.history['val_accuracy']\n",
        "\n",
        "loss = history.history['loss']\n",
        "val_loss = history.history['val_loss']\n",
        "\n",
        "plt.figure(figsize=(8, 8))\n",
        "plt.subplot(2, 1, 1)\n",
        "plt.plot(acc, label='Training Accuracy')\n",
        "plt.plot(val_acc, label='Validation Accuracy')\n",
        "plt.legend(loc='lower right')\n",
        "plt.ylabel('Accuracy')\n",
        "plt.ylim([min(plt.ylim()),1])\n",
        "plt.title('Training and Validation Accuracy')\n",
        "\n",
        "plt.subplot(2, 1, 2)\n",
        "plt.plot(loss, label='Training Loss')\n",
        "plt.plot(val_loss, label='Validation Loss')\n",
        "plt.legend(loc='upper right')\n",
        "plt.ylabel('Cross Entropy')\n",
        "plt.ylim([0,1.0])\n",
        "plt.title('Training and Validation Loss')\n",
        "plt.xlabel('epoch')\n",
        "plt.show()"
      ]
    },
    {
      "cell_type": "markdown",
      "metadata": {
        "id": "3JFvYoSxAQWL"
      },
      "source": [
        "## Menambahkan Fine Tuning Model"
      ]
    },
    {
      "cell_type": "code",
      "execution_count": null,
      "metadata": {
        "id": "RA_ieOxIAKLl"
      },
      "outputs": [],
      "source": [
        "base_model.trainable = True"
      ]
    },
    {
      "cell_type": "code",
      "execution_count": null,
      "metadata": {
        "id": "sFC6RWycAVp9"
      },
      "outputs": [],
      "source": [
        "# Let's take a look to see how many layers are in the base model\n",
        "print(\"Number of layers in the base model: \", len(base_model.layers))\n",
        "\n",
        "# Fine-tune from this layer onwards\n",
        "fine_tune_at = 100\n",
        "\n",
        "# Freeze all the layers before the `fine_tune_at` layer\n",
        "for layer in base_model.layers[:fine_tune_at]:\n",
        "  layer.trainable = False"
      ]
    },
    {
      "cell_type": "code",
      "execution_count": null,
      "metadata": {
        "id": "YgeXFUffAcJL"
      },
      "outputs": [],
      "source": [
        "model.compile(loss=tf.losses.SparseCategoricalCrossentropy(from_logits=True),\n",
        "              optimizer = tf.keras.optimizers.RMSprop(learning_rate=base_learning_rate/10),\n",
        "              metrics=['accuracy'])"
      ]
    },
    {
      "cell_type": "code",
      "execution_count": null,
      "metadata": {
        "id": "HGmWP9uiAfVE"
      },
      "outputs": [],
      "source": [
        "model.summary()"
      ]
    },
    {
      "cell_type": "code",
      "execution_count": null,
      "metadata": {
        "id": "ceAJhoIPAj9E"
      },
      "outputs": [],
      "source": [
        "fine_tune_epochs = 50\n",
        "total_epochs =  initial_epochs + fine_tune_epochs\n",
        "\n",
        "history_fine = model.fit(train_dataset,\n",
        "                         epochs=total_epochs,\n",
        "                         initial_epoch=history.epoch[-1],\n",
        "                         validation_data=validation_dataset)"
      ]
    },
    {
      "cell_type": "code",
      "execution_count": null,
      "metadata": {
        "id": "086zYmXzAxiE"
      },
      "outputs": [],
      "source": [
        "acc += history_fine.history['accuracy']\n",
        "val_acc += history_fine.history['val_accuracy']\n",
        "\n",
        "loss += history_fine.history['loss']\n",
        "val_loss += history_fine.history['val_loss']\n",
        "\n",
        "plt.figure(figsize=(8, 8))\n",
        "plt.subplot(2, 1, 1)\n",
        "plt.plot(acc, label='Training Accuracy')\n",
        "plt.plot(val_acc, label='Validation Accuracy')\n",
        "plt.ylim([0.8, 1])\n",
        "plt.plot([initial_epochs-1,initial_epochs-1],\n",
        "          plt.ylim(), label='Start Fine Tuning')\n",
        "plt.legend(loc='lower right')\n",
        "plt.title('Training and Validation Accuracy')\n",
        "\n",
        "plt.subplot(2, 1, 2)\n",
        "plt.plot(loss, label='Training Loss')\n",
        "plt.plot(val_loss, label='Validation Loss')\n",
        "plt.ylim([0, 1.0])\n",
        "plt.plot([initial_epochs-1,initial_epochs-1],\n",
        "         plt.ylim(), label='Start Fine Tuning')\n",
        "plt.legend(loc='upper right')\n",
        "plt.title('Training and Validation Loss')\n",
        "plt.xlabel('epoch')\n",
        "plt.show()"
      ]
    },
    {
      "cell_type": "code",
      "execution_count": null,
      "metadata": {
        "id": "leoXqDVWNQHC"
      },
      "outputs": [],
      "source": [
        "loss, accuracy = model.evaluate(test_dataset)\n",
        "print('Test accuracy :', accuracy)"
      ]
    },
    {
      "cell_type": "code",
      "execution_count": null,
      "metadata": {
        "id": "NSG3NysnRK0Y"
      },
      "outputs": [],
      "source": [
        "model.trainable = False"
      ]
    },
    {
      "cell_type": "code",
      "source": [
        "model.save('Skin_Disease_2.h5')"
      ],
      "metadata": {
        "id": "uaJobP1vg5AW"
      },
      "execution_count": null,
      "outputs": []
    },
    {
      "cell_type": "markdown",
      "source": [
        "Converting to a TF Lite Model"
      ],
      "metadata": {
        "id": "vOica_BFhcYz"
      }
    },
    {
      "cell_type": "code",
      "source": [
        "converter = tf.lite.TFLiteConverter.from_keras_model(model)\n",
        "tflite_model = converter.convert()"
      ],
      "metadata": {
        "id": "HzCmjDeKhb3q"
      },
      "execution_count": null,
      "outputs": []
    },
    {
      "cell_type": "code",
      "source": [
        "tflite_model_files = pathlib.Path(\"dermacare_tflite.tflite\")\n",
        "tflite_model_files.write_bytes(tflite_model)"
      ],
      "metadata": {
        "id": "QDi2xeBWhwoO"
      },
      "execution_count": null,
      "outputs": []
    },
    {
      "cell_type": "markdown",
      "metadata": {
        "id": "NrvhBamcp2eh"
      },
      "source": [
        "# IMG_SIZE  = 80x80"
      ]
    },
    {
      "cell_type": "markdown",
      "metadata": {
        "id": "TnJtoUZ_p2ei"
      },
      "source": [
        "## Import Library"
      ]
    },
    {
      "cell_type": "code",
      "execution_count": null,
      "metadata": {
        "id": "mQfFIpXSp2ej"
      },
      "outputs": [],
      "source": [
        "import pathlib\n",
        "import tensorflow as tf\n",
        "import matplotlib.pyplot as plt\n",
        "import numpy as np\n",
        "import pandas as pd\n",
        "import os\n",
        "import PIL\n",
        "from tensorflow import keras\n",
        "from tensorflow.keras import layers\n",
        "from tensorflow.keras.models import Sequential\n",
        "from keras.layers import Dense, Dropout, Flatten, Conv2D, MaxPool2D\n",
        "from tensorflow.keras.optimizers import Adam # - Works\n",
        "import random\n",
        "from glob import glob\n",
        "import seaborn as sns\n",
        "from tensorflow.keras.losses import SparseCategoricalCrossentropy\n",
        "import matplotlib.pyplot as plt\n",
        "import matplotlib.image as img"
      ]
    },
    {
      "cell_type": "code",
      "execution_count": null,
      "metadata": {
        "id": "w4Omi8QKp2ek"
      },
      "outputs": [],
      "source": [
        "import zipfile\n",
        "\n",
        "# Extract the archive\n",
        "local_zip = '/content/skin-disease-image-dataset-balanced.zip'\n",
        "zip_ref = zipfile.ZipFile(local_zip, 'r')\n",
        "zip_ref.extractall()\n",
        "zip_ref.close()"
      ]
    },
    {
      "cell_type": "code",
      "execution_count": null,
      "metadata": {
        "id": "-WPrc6Avp2ek"
      },
      "outputs": [],
      "source": [
        "train_dir = pathlib.Path(\"/content/Split_smol/train\")\n",
        "validation_dir = pathlib.Path(\"/content/Split_smol/val\")\n",
        "\n",
        "BATCH_SIZE = 32\n",
        "IMG_SIZE = (80, 80)"
      ]
    },
    {
      "cell_type": "code",
      "execution_count": null,
      "metadata": {
        "colab": {
          "base_uri": "https://localhost:8080/"
        },
        "id": "FK4DOPkPp2el",
        "outputId": "d8b22d94-911a-4d0e-bd2f-4ae45bca2a57"
      },
      "outputs": [
        {
          "name": "stdout",
          "output_type": "stream",
          "text": [
            "Found 1849 files belonging to 8 classes.\n"
          ]
        }
      ],
      "source": [
        "train_dataset = tf.keras.utils.image_dataset_from_directory(train_dir,\n",
        "                                                            # validation_split=0.2,\n",
        "                                                            # subset=\"training\",\n",
        "                                                            seed=123,\n",
        "                                                            shuffle=True,\n",
        "                                                            batch_size=BATCH_SIZE,\n",
        "                                                            image_size=IMG_SIZE)"
      ]
    },
    {
      "cell_type": "code",
      "execution_count": null,
      "metadata": {
        "colab": {
          "base_uri": "https://localhost:8080/"
        },
        "id": "PiAukWnsp2em",
        "outputId": "fa87990a-244f-45fc-9ae3-76989e956e5f"
      },
      "outputs": [
        {
          "name": "stdout",
          "output_type": "stream",
          "text": [
            "Found 459 files belonging to 8 classes.\n"
          ]
        }
      ],
      "source": [
        "validation_dataset = tf.keras.utils.image_dataset_from_directory(validation_dir,\n",
        "                                                            # validation_split=0.2,\n",
        "                                                            # subset=\"validation\",\n",
        "                                                            seed=123,\n",
        "                                                            shuffle=True,\n",
        "                                                            batch_size=BATCH_SIZE,\n",
        "                                                            image_size=IMG_SIZE)"
      ]
    },
    {
      "cell_type": "markdown",
      "metadata": {
        "id": "rfEIv3KCp2en"
      },
      "source": [
        "## Preview Dataset"
      ]
    },
    {
      "cell_type": "code",
      "execution_count": null,
      "metadata": {
        "id": "XKmivvvkp2eo"
      },
      "outputs": [],
      "source": [
        "class_names = train_dataset.class_names\n",
        "\n",
        "# plt.figure(figsize=(10, 10))\n",
        "# for images, labels in train_dataset.take(1):\n",
        "#   for i in range(9):\n",
        "#     ax = plt.subplot(3, 3, i + 1)\n",
        "#     plt.imshow(images[i].numpy().astype(\"uint8\"))\n",
        "#     plt.title(class_names[labels[i]])\n",
        "#     plt.axis(\"off\")"
      ]
    },
    {
      "cell_type": "markdown",
      "metadata": {
        "id": "anEPScYcp2ep"
      },
      "source": [
        "## Identifikasi Keseimbangan Data"
      ]
    },
    {
      "cell_type": "code",
      "execution_count": null,
      "metadata": {
        "colab": {
          "base_uri": "https://localhost:8080/",
          "height": 1000
        },
        "id": "Zdpm9FQYp2eq",
        "outputId": "5c178685-4ae1-415d-eb1d-89ab3e468895"
      },
      "outputs": [
        {
          "name": "stdout",
          "output_type": "stream",
          "text": [
            "Total Data Training = 1849 \n",
            "\n",
            "-------------------------------------\n",
            "Nama Class  =  Actinic keratosis\n",
            "Jumlah      =  224\n",
            "Proporsi    =  0.12114656571119524\n",
            "-------------------------------------\n",
            "Nama Class  =  Basal cell carcinoma\n",
            "Jumlah      =  240\n",
            "Proporsi    =  0.12979989183342347\n",
            "-------------------------------------\n",
            "Nama Class  =  Benign keratosis\n",
            "Jumlah      =  277\n",
            "Proporsi    =  0.14981070849107625\n",
            "-------------------------------------\n",
            "Nama Class  =  Dermatofibroma\n",
            "Jumlah      =  191\n",
            "Proporsi    =  0.1032990805840995\n",
            "-------------------------------------\n",
            "Nama Class  =  Melanocytic nevus\n",
            "Jumlah      =  219\n",
            "Proporsi    =  0.11844240129799892\n",
            "-------------------------------------\n",
            "Nama Class  =  Melanoma\n",
            "Jumlah      =  233\n",
            "Proporsi    =  0.12601406165494863\n",
            "-------------------------------------\n",
            "Nama Class  =  Squamous cell carcinoma\n",
            "Jumlah      =  263\n",
            "Proporsi    =  0.14223904813412655\n",
            "-------------------------------------\n",
            "Nama Class  =  Vascular lesion\n",
            "Jumlah      =  202\n",
            "Proporsi    =  0.10924824229313142\n",
            "-------------------------------------\n"
          ]
        },
        {
          "data": {
            "image/png": "[encoded data removed]",
            "text/plain": [
              "<Figure size 640x480 with 1 Axes>"
            ]
          },
          "metadata": {},
          "output_type": "display_data"
        }
      ],
      "source": [
        "num_classes = len(class_names)\n",
        "total = 0\n",
        "all_count = []\n",
        "class_name = []\n",
        "for i in range(num_classes):\n",
        "  count = len(list(train_dir.glob(class_names[i]+'/*.jpg')))\n",
        "  total += count\n",
        "print(\"Total Data Training = {} \\n\".format(total))\n",
        "print(\"-------------------------------------\")\n",
        "for i in range(num_classes):\n",
        "  count = len(list(train_dir.glob(class_names[i]+'/*.jpg')))\n",
        "  print(\"Nama Class  = \",class_names[i])\n",
        "  print(\"Jumlah      = \",count)\n",
        "  print(\"Proporsi    = \",count/total)\n",
        "  print(\"-------------------------------------\")\n",
        "  all_count.append(count)\n",
        "  class_name.append(class_names[i])\n",
        "\n",
        "temp_df = pd.DataFrame(list(zip(all_count, class_name)), columns = ['count', 'class_name'])\n",
        "sns.barplot(data=temp_df, y=\"count\", x=\"class_name\")\n",
        "plt.xticks(rotation=90)\n",
        "plt.show()"
      ]
    },
    {
      "cell_type": "markdown",
      "metadata": {
        "id": "2FERS8-rp2er"
      },
      "source": [
        "## Augmentor Untuk Augmentasi Data dan Menambah Sebaran Data Tiap Class"
      ]
    },
    {
      "cell_type": "code",
      "execution_count": null,
      "metadata": {
        "colab": {
          "base_uri": "https://localhost:8080/"
        },
        "id": "6rA9kMHip2es",
        "outputId": "1401e238-2ee1-4784-a111-aa9677b48599"
      },
      "outputs": [
        {
          "name": "stdout",
          "output_type": "stream",
          "text": [
            "Looking in indexes: https://pypi.org/simple, https://us-python.pkg.dev/colab-wheels/public/simple/\n",
            "Requirement already satisfied: Augmentor in /usr/local/lib/python3.10/dist-packages (0.2.12)\n",
            "Requirement already satisfied: Pillow>=5.2.0 in /usr/local/lib/python3.10/dist-packages (from Augmentor) (8.4.0)\n",
            "Requirement already satisfied: tqdm>=4.9.0 in /usr/local/lib/python3.10/dist-packages (from Augmentor) (4.65.0)\n",
            "Requirement already satisfied: numpy>=1.11.0 in /usr/local/lib/python3.10/dist-packages (from Augmentor) (1.22.4)\n"
          ]
        }
      ],
      "source": [
        "!pip install Augmentor"
      ]
    },
    {
      "cell_type": "code",
      "execution_count": null,
      "metadata": {
        "colab": {
          "base_uri": "https://localhost:8080/"
        },
        "id": "G3o-WgV0p2es",
        "outputId": "368df7e0-d4e3-4ffc-acec-6fb7356571d7"
      },
      "outputs": [
        {
          "name": "stdout",
          "output_type": "stream",
          "text": [
            "Initialised with 224 image(s) found.\n",
            "Output directory set to /content/output/Actinic keratosis/output/."
          ]
        },
        {
          "name": "stderr",
          "output_type": "stream",
          "text": [
            "Processing <PIL.JpegImagePlugin.JpegImageFile image mode=RGB size=1024x1024 at 0x7F89D05AD330>: 100%|██████████| 1000/1000 [01:39<00:00, 10.08 Samples/s]\n"
          ]
        },
        {
          "name": "stdout",
          "output_type": "stream",
          "text": [
            "Initialised with 240 image(s) found.\n",
            "Output directory set to /content/output/Basal cell carcinoma/output/."
          ]
        },
        {
          "name": "stderr",
          "output_type": "stream",
          "text": [
            "Processing <PIL.Image.Image image mode=RGB size=600x450 at 0x7F8A44282BC0>: 100%|██████████| 1000/1000 [00:41<00:00, 24.39 Samples/s]\n"
          ]
        },
        {
          "name": "stdout",
          "output_type": "stream",
          "text": [
            "Initialised with 277 image(s) found.\n",
            "Output directory set to /content/output/Benign keratosis/output/."
          ]
        },
        {
          "name": "stderr",
          "output_type": "stream",
          "text": [
            "Processing <PIL.Image.Image image mode=RGB size=600x450 at 0x7F89D02C32B0>: 100%|██████████| 1000/1000 [01:03<00:00, 15.64 Samples/s]\n"
          ]
        },
        {
          "name": "stdout",
          "output_type": "stream",
          "text": [
            "Initialised with 191 image(s) found.\n",
            "Output directory set to /content/output/Dermatofibroma/output/."
          ]
        },
        {
          "name": "stderr",
          "output_type": "stream",
          "text": [
            "Processing <PIL.JpegImagePlugin.JpegImageFile image mode=RGB size=600x450 at 0x7F89D0601BA0>: 100%|██████████| 1000/1000 [01:22<00:00, 12.14 Samples/s]\n"
          ]
        },
        {
          "name": "stdout",
          "output_type": "stream",
          "text": [
            "Initialised with 219 image(s) found.\n",
            "Output directory set to /content/output/Melanocytic nevus/output/."
          ]
        },
        {
          "name": "stderr",
          "output_type": "stream",
          "text": [
            "Processing <PIL.Image.Image image mode=RGB size=722x542 at 0x7F89C7631270>: 100%|██████████| 1000/1000 [01:20<00:00, 12.41 Samples/s]\n"
          ]
        },
        {
          "name": "stdout",
          "output_type": "stream",
          "text": [
            "Initialised with 233 image(s) found.\n",
            "Output directory set to /content/output/Melanoma/output/."
          ]
        },
        {
          "name": "stderr",
          "output_type": "stream",
          "text": [
            "Processing <PIL.Image.Image image mode=RGB size=1024x768 at 0x7F89C6F893C0>: 100%|██████████| 1000/1000 [01:27<00:00, 11.39 Samples/s]\n"
          ]
        },
        {
          "name": "stdout",
          "output_type": "stream",
          "text": [
            "Initialised with 263 image(s) found.\n",
            "Output directory set to /content/output/Squamous cell carcinoma/output/."
          ]
        },
        {
          "name": "stderr",
          "output_type": "stream",
          "text": [
            "Processing <PIL.JpegImagePlugin.JpegImageFile image mode=RGB size=1024x1024 at 0x7F89C6E7E950>: 100%|██████████| 1000/1000 [01:13<00:00, 13.52 Samples/s]\n"
          ]
        },
        {
          "name": "stdout",
          "output_type": "stream",
          "text": [
            "Initialised with 202 image(s) found.\n",
            "Output directory set to /content/output/Vascular lesion/output/."
          ]
        },
        {
          "name": "stderr",
          "output_type": "stream",
          "text": [
            "Processing <PIL.JpegImagePlugin.JpegImageFile image mode=RGB size=600x450 at 0x7F89C7633A60>: 100%|██████████| 1000/1000 [01:12<00:00, 13.79 Samples/s]\n"
          ]
        }
      ],
      "source": [
        "import Augmentor\n",
        "for i in class_names:\n",
        "    p = Augmentor.Pipeline(source_directory = os.path.join(train_dir, i), output_directory = '/content/output/'+i+'/output/')\n",
        "    p.rotate(probability=0.7, max_left_rotation=10, max_right_rotation=10)\n",
        "    p.sample(1000)"
      ]
    },
    {
      "cell_type": "code",
      "execution_count": null,
      "metadata": {
        "colab": {
          "base_uri": "https://localhost:8080/"
        },
        "id": "DPAmMkh_p2et",
        "outputId": "092bf69d-6bdd-40ad-ddcb-1a33326e841e"
      },
      "outputs": [
        {
          "name": "stdout",
          "output_type": "stream",
          "text": [
            "24110\n"
          ]
        }
      ],
      "source": [
        "output_dir = pathlib.Path('/content/output')\n",
        "image_count_train = len(list(output_dir.glob('*/output/*.jpg')))\n",
        "print(image_count_train)"
      ]
    },
    {
      "cell_type": "code",
      "execution_count": null,
      "metadata": {
        "colab": {
          "base_uri": "https://localhost:8080/",
          "height": 1000
        },
        "id": "nW0ekyoNp2eu",
        "outputId": "0178d088-c748-4ddf-90c6-dc94c0e649fb"
      },
      "outputs": [
        {
          "name": "stdout",
          "output_type": "stream",
          "text": [
            "Total Data Training Setelah Menggunakan Augmentor = 24110 \n",
            "\n",
            "-------------------------------------\n",
            "Nama Class =  Actinic keratosis\n",
            "Jumlah      =  3110\n",
            "Proporsi =  0.12899211945250932\n",
            "-------------------------------------\n",
            "Nama Class =  Basal cell carcinoma\n",
            "Jumlah      =  3000\n",
            "Proporsi =  0.1244296972210701\n",
            "-------------------------------------\n",
            "Nama Class =  Benign keratosis\n",
            "Jumlah      =  3000\n",
            "Proporsi =  0.1244296972210701\n",
            "-------------------------------------\n",
            "Nama Class =  Dermatofibroma\n",
            "Jumlah      =  3000\n",
            "Proporsi =  0.1244296972210701\n",
            "-------------------------------------\n",
            "Nama Class =  Melanocytic nevus\n",
            "Jumlah      =  3000\n",
            "Proporsi =  0.1244296972210701\n",
            "-------------------------------------\n",
            "Nama Class =  Melanoma\n",
            "Jumlah      =  3000\n",
            "Proporsi =  0.1244296972210701\n",
            "-------------------------------------\n",
            "Nama Class =  Squamous cell carcinoma\n",
            "Jumlah      =  3000\n",
            "Proporsi =  0.1244296972210701\n",
            "-------------------------------------\n",
            "Nama Class =  Vascular lesion\n",
            "Jumlah      =  3000\n",
            "Proporsi =  0.1244296972210701\n",
            "-------------------------------------\n"
          ]
        },
        {
          "data": {
            "image/png": "[encoded data removed]",
            "text/plain": [
              "<Figure size 640x480 with 1 Axes>"
            ]
          },
          "metadata": {},
          "output_type": "display_data"
        }
      ],
      "source": [
        "num_classes = len(class_names)\n",
        "total = 0\n",
        "all_count = []\n",
        "class_name = []\n",
        "\n",
        "for i in range(num_classes):\n",
        "  count = len(list(output_dir.glob(class_names[i]+'/output/*.jpg')))\n",
        "  total += count\n",
        "print(\"Total Data Training Setelah Menggunakan Augmentor = {} \\n\".format(total))\n",
        "print(\"-------------------------------------\")\n",
        "for i in range(num_classes):\n",
        "  count = len(list(output_dir.glob(class_names[i]+'/output/*.jpg')))\n",
        "  print(\"Nama Class = \",class_names[i])\n",
        "  print(\"Jumlah      = \",count)\n",
        "  print(\"Proporsi = \",count/total)\n",
        "  print(\"-------------------------------------\")\n",
        "  all_count.append(count)\n",
        "  class_name.append(class_names[i])\n",
        "\n",
        "\n",
        "temp_df = pd.DataFrame(list(zip(all_count, class_name)), columns = ['count', 'class_name'])\n",
        "sns.barplot(data=temp_df, y=\"count\", x=\"class_name\")\n",
        "plt.xticks(rotation=90)\n",
        "plt.show()"
      ]
    },
    {
      "cell_type": "code",
      "execution_count": null,
      "metadata": {
        "colab": {
          "base_uri": "https://localhost:8080/"
        },
        "id": "QJNU_8Btp2ev",
        "outputId": "f40eebe5-bff8-4b53-9f09-8f8590991667"
      },
      "outputs": [
        {
          "name": "stdout",
          "output_type": "stream",
          "text": [
            "Found 24110 files belonging to 8 classes.\n",
            "Using 19288 files for training.\n"
          ]
        }
      ],
      "source": [
        "train_dataset = tf.keras.utils.image_dataset_from_directory(output_dir,\n",
        "                                                            validation_split=0.2,\n",
        "                                                            subset=\"training\",\n",
        "                                                            seed=123,\n",
        "                                                            shuffle=True,\n",
        "                                                            batch_size=BATCH_SIZE,\n",
        "                                                            image_size=IMG_SIZE)"
      ]
    },
    {
      "cell_type": "code",
      "execution_count": null,
      "metadata": {
        "colab": {
          "base_uri": "https://localhost:8080/"
        },
        "id": "ezAqKvn2p2ev",
        "outputId": "959d7d19-518c-4dac-909d-2699a4aebca5"
      },
      "outputs": [
        {
          "name": "stdout",
          "output_type": "stream",
          "text": [
            "Found 24110 files belonging to 8 classes.\n",
            "Using 4822 files for validation.\n"
          ]
        }
      ],
      "source": [
        "validation_dataset = tf.keras.utils.image_dataset_from_directory(output_dir,\n",
        "                                                            validation_split=0.2,\n",
        "                                                            subset=\"validation\",\n",
        "                                                            seed=123,\n",
        "                                                            shuffle=True,\n",
        "                                                            batch_size=BATCH_SIZE,\n",
        "                                                            image_size=IMG_SIZE)"
      ]
    },
    {
      "cell_type": "code",
      "execution_count": null,
      "metadata": {
        "id": "EoVHOIFhp2ew"
      },
      "outputs": [],
      "source": [
        "val_batches = tf.data.experimental.cardinality(validation_dataset)\n",
        "test_dataset = validation_dataset.take(val_batches // 5)\n",
        "validation_dataset = validation_dataset.skip(val_batches // 5)"
      ]
    },
    {
      "cell_type": "code",
      "execution_count": null,
      "metadata": {
        "colab": {
          "base_uri": "https://localhost:8080/"
        },
        "id": "SRp6bZMVp2ew",
        "outputId": "23a0eebf-5a11-4518-d95f-e5c4ad0efb7d"
      },
      "outputs": [
        {
          "name": "stdout",
          "output_type": "stream",
          "text": [
            "Number of validation batches: 121\n",
            "Number of test batches: 30\n"
          ]
        }
      ],
      "source": [
        "print('Number of validation batches: %d' % tf.data.experimental.cardinality(validation_dataset))\n",
        "print('Number of test batches: %d' % tf.data.experimental.cardinality(test_dataset))"
      ]
    },
    {
      "cell_type": "code",
      "execution_count": null,
      "metadata": {
        "id": "4g6wUfKep2ex"
      },
      "outputs": [],
      "source": [
        "AUTOTUNE = tf.data.AUTOTUNE\n",
        "\n",
        "train_dataset = train_dataset.prefetch(buffer_size=AUTOTUNE)\n",
        "validation_dataset = validation_dataset.prefetch(buffer_size=AUTOTUNE)\n",
        "test_dataset = test_dataset.prefetch(buffer_size=AUTOTUNE)"
      ]
    },
    {
      "cell_type": "markdown",
      "metadata": {
        "id": "CPs0-yaOp2ex"
      },
      "source": [
        "## Augmentasi Data Tambahan"
      ]
    },
    {
      "cell_type": "code",
      "execution_count": null,
      "metadata": {
        "id": "y6ZS0iVMp2ey"
      },
      "outputs": [],
      "source": [
        "data_augmentation = tf.keras.Sequential([\n",
        "  tf.keras.layers.RandomFlip('horizontal'),\n",
        "  tf.keras.layers.RandomRotation(0.2),\n",
        "])"
      ]
    },
    {
      "cell_type": "markdown",
      "metadata": {
        "id": "WH7TzBb3p2ey"
      },
      "source": [
        "## Membuat Model Dasar MobileNetV2"
      ]
    },
    {
      "cell_type": "code",
      "execution_count": null,
      "metadata": {
        "id": "Ow6Gaw7up2ez"
      },
      "outputs": [],
      "source": [
        "preprocess_input = tf.keras.applications.mobilenet_v2.preprocess_input"
      ]
    },
    {
      "cell_type": "code",
      "execution_count": null,
      "metadata": {
        "id": "wZJcJs9sp2ez"
      },
      "outputs": [],
      "source": [
        "rescale = tf.keras.layers.Rescaling(1./127.5, offset=-1)"
      ]
    },
    {
      "cell_type": "code",
      "execution_count": null,
      "metadata": {
        "colab": {
          "base_uri": "https://localhost:8080/"
        },
        "id": "0CTqqXqVp2e0",
        "outputId": "33b3b804-d2a2-4825-edcc-ef2ca915252f"
      },
      "outputs": [
        {
          "name": "stdout",
          "output_type": "stream",
          "text": [
            "-0.8615737 0.7710593\n"
          ]
        }
      ],
      "source": [
        "import numpy as np\n",
        "normalized_ds = train_dataset.map(lambda x, y: (rescale(x), y))\n",
        "image_batch, labels_batch = next(iter(normalized_ds))\n",
        "first_image = image_batch[0]\n",
        "# Notice the pixel values are now in `[0,1]`.\n",
        "print(np.min(first_image), np.max(first_image))"
      ]
    },
    {
      "cell_type": "code",
      "execution_count": null,
      "metadata": {
        "colab": {
          "base_uri": "https://localhost:8080/"
        },
        "id": "5uqkdbYWp2e0",
        "outputId": "8adab10e-6a0d-4f35-c710-bd430e8c5ad0"
      },
      "outputs": [
        {
          "name": "stderr",
          "output_type": "stream",
          "text": [
            "WARNING:tensorflow:`input_shape` is undefined or non-square, or `rows` is not in [96, 128, 160, 192, 224]. Weights for input shape (224, 224) will be loaded as the default.\n"
          ]
        }
      ],
      "source": [
        "# Create the base model from the pre-trained model MobileNet V2\n",
        "IMG_SHAPE = IMG_SIZE + (3,)\n",
        "base_model = tf.keras.applications.MobileNetV2(input_shape=IMG_SHAPE,\n",
        "                                               include_top=False,\n",
        "                                               weights='imagenet')"
      ]
    },
    {
      "cell_type": "code",
      "execution_count": null,
      "metadata": {
        "colab": {
          "base_uri": "https://localhost:8080/"
        },
        "id": "2BV_M0KTp2e1",
        "outputId": "eb1bba4f-3ae6-4b8a-f1ea-9afb1d23159c"
      },
      "outputs": [
        {
          "name": "stdout",
          "output_type": "stream",
          "text": [
            "(32, 3, 3, 1280)\n"
          ]
        }
      ],
      "source": [
        "image_batch, label_batch = next(iter(train_dataset))\n",
        "feature_batch = base_model(image_batch)\n",
        "print(feature_batch.shape)"
      ]
    },
    {
      "cell_type": "code",
      "execution_count": null,
      "metadata": {
        "id": "r3pBlnE6p2e1"
      },
      "outputs": [],
      "source": [
        "base_model.trainable = False"
      ]
    },
    {
      "cell_type": "code",
      "execution_count": null,
      "metadata": {
        "colab": {
          "base_uri": "https://localhost:8080/"
        },
        "id": "ZrEvLvaGp2e1",
        "outputId": "56c70650-20a4-4fee-a798-9eb7da9391bd"
      },
      "outputs": [
        {
          "name": "stdout",
          "output_type": "stream",
          "text": [
            "Model: \"mobilenetv2_1.00_224\"\n",
            "__________________________________________________________________________________________________\n",
            " Layer (type)                   Output Shape         Param #     Connected to                     \n",
            "==================================================================================================\n",
            " input_7 (InputLayer)           [(None, 80, 80, 3)]  0           []                               \n",
            "                                                                                                  \n",
            " Conv1 (Conv2D)                 (None, 40, 40, 32)   864         ['input_7[0][0]']                \n",
            "                                                                                                  \n",
            " bn_Conv1 (BatchNormalization)  (None, 40, 40, 32)   128         ['Conv1[0][0]']                  \n",
            "                                                                                                  \n",
            " Conv1_relu (ReLU)              (None, 40, 40, 32)   0           ['bn_Conv1[0][0]']               \n",
            "                                                                                                  \n",
            " expanded_conv_depthwise (Depth  (None, 40, 40, 32)  288         ['Conv1_relu[0][0]']             \n",
            " wiseConv2D)                                                                                      \n",
            "                                                                                                  \n",
            " expanded_conv_depthwise_BN (Ba  (None, 40, 40, 32)  128         ['expanded_conv_depthwise[0][0]']\n",
            " tchNormalization)                                                                                \n",
            "                                                                                                  \n",
            " expanded_conv_depthwise_relu (  (None, 40, 40, 32)  0           ['expanded_conv_depthwise_BN[0][0\n",
            " ReLU)                                                           ]']                              \n",
            "                                                                                                  \n",
            " expanded_conv_project (Conv2D)  (None, 40, 40, 16)  512         ['expanded_conv_depthwise_relu[0]\n",
            "                                                                 [0]']                            \n",
            "                                                                                                  \n",
            " expanded_conv_project_BN (Batc  (None, 40, 40, 16)  64          ['expanded_conv_project[0][0]']  \n",
            " hNormalization)                                                                                  \n",
            "                                                                                                  \n",
            " block_1_expand (Conv2D)        (None, 40, 40, 96)   1536        ['expanded_conv_project_BN[0][0]'\n",
            "                                                                 ]                                \n",
            "                                                                                                  \n",
            " block_1_expand_BN (BatchNormal  (None, 40, 40, 96)  384         ['block_1_expand[0][0]']         \n",
            " ization)                                                                                         \n",
            "                                                                                                  \n",
            " block_1_expand_relu (ReLU)     (None, 40, 40, 96)   0           ['block_1_expand_BN[0][0]']      \n",
            "                                                                                                  \n",
            " block_1_pad (ZeroPadding2D)    (None, 41, 41, 96)   0           ['block_1_expand_relu[0][0]']    \n",
            "                                                                                                  \n",
            " block_1_depthwise (DepthwiseCo  (None, 20, 20, 96)  864         ['block_1_pad[0][0]']            \n",
            " nv2D)                                                                                            \n",
            "                                                                                                  \n",
            " block_1_depthwise_BN (BatchNor  (None, 20, 20, 96)  384         ['block_1_depthwise[0][0]']      \n",
            " malization)                                                                                      \n",
            "                                                                                                  \n",
            " block_1_depthwise_relu (ReLU)  (None, 20, 20, 96)   0           ['block_1_depthwise_BN[0][0]']   \n",
            "                                                                                                  \n",
            " block_1_project (Conv2D)       (None, 20, 20, 24)   2304        ['block_1_depthwise_relu[0][0]'] \n",
            "                                                                                                  \n",
            " block_1_project_BN (BatchNorma  (None, 20, 20, 24)  96          ['block_1_project[0][0]']        \n",
            " lization)                                                                                        \n",
            "                                                                                                  \n",
            " block_2_expand (Conv2D)        (None, 20, 20, 144)  3456        ['block_1_project_BN[0][0]']     \n",
            "                                                                                                  \n",
            " block_2_expand_BN (BatchNormal  (None, 20, 20, 144)  576        ['block_2_expand[0][0]']         \n",
            " ization)                                                                                         \n",
            "                                                                                                  \n",
            " block_2_expand_relu (ReLU)     (None, 20, 20, 144)  0           ['block_2_expand_BN[0][0]']      \n",
            "                                                                                                  \n",
            " block_2_depthwise (DepthwiseCo  (None, 20, 20, 144)  1296       ['block_2_expand_relu[0][0]']    \n",
            " nv2D)                                                                                            \n",
            "                                                                                                  \n",
            " block_2_depthwise_BN (BatchNor  (None, 20, 20, 144)  576        ['block_2_depthwise[0][0]']      \n",
            " malization)                                                                                      \n",
            "                                                                                                  \n",
            " block_2_depthwise_relu (ReLU)  (None, 20, 20, 144)  0           ['block_2_depthwise_BN[0][0]']   \n",
            "                                                                                                  \n",
            " block_2_project (Conv2D)       (None, 20, 20, 24)   3456        ['block_2_depthwise_relu[0][0]'] \n",
            "                                                                                                  \n",
            " block_2_project_BN (BatchNorma  (None, 20, 20, 24)  96          ['block_2_project[0][0]']        \n",
            " lization)                                                                                        \n",
            "                                                                                                  \n",
            " block_2_add (Add)              (None, 20, 20, 24)   0           ['block_1_project_BN[0][0]',     \n",
            "                                                                  'block_2_project_BN[0][0]']     \n",
            "                                                                                                  \n",
            " block_3_expand (Conv2D)        (None, 20, 20, 144)  3456        ['block_2_add[0][0]']            \n",
            "                                                                                                  \n",
            " block_3_expand_BN (BatchNormal  (None, 20, 20, 144)  576        ['block_3_expand[0][0]']         \n",
            " ization)                                                                                         \n",
            "                                                                                                  \n",
            " block_3_expand_relu (ReLU)     (None, 20, 20, 144)  0           ['block_3_expand_BN[0][0]']      \n",
            "                                                                                                  \n",
            " block_3_pad (ZeroPadding2D)    (None, 21, 21, 144)  0           ['block_3_expand_relu[0][0]']    \n",
            "                                                                                                  \n",
            " block_3_depthwise (DepthwiseCo  (None, 10, 10, 144)  1296       ['block_3_pad[0][0]']            \n",
            " nv2D)                                                                                            \n",
            "                                                                                                  \n",
            " block_3_depthwise_BN (BatchNor  (None, 10, 10, 144)  576        ['block_3_depthwise[0][0]']      \n",
            " malization)                                                                                      \n",
            "                                                                                                  \n",
            " block_3_depthwise_relu (ReLU)  (None, 10, 10, 144)  0           ['block_3_depthwise_BN[0][0]']   \n",
            "                                                                                                  \n",
            " block_3_project (Conv2D)       (None, 10, 10, 32)   4608        ['block_3_depthwise_relu[0][0]'] \n",
            "                                                                                                  \n",
            " block_3_project_BN (BatchNorma  (None, 10, 10, 32)  128         ['block_3_project[0][0]']        \n",
            " lization)                                                                                        \n",
            "                                                                                                  \n",
            " block_4_expand (Conv2D)        (None, 10, 10, 192)  6144        ['block_3_project_BN[0][0]']     \n",
            "                                                                                                  \n",
            " block_4_expand_BN (BatchNormal  (None, 10, 10, 192)  768        ['block_4_expand[0][0]']         \n",
            " ization)                                                                                         \n",
            "                                                                                                  \n",
            " block_4_expand_relu (ReLU)     (None, 10, 10, 192)  0           ['block_4_expand_BN[0][0]']      \n",
            "                                                                                                  \n",
            " block_4_depthwise (DepthwiseCo  (None, 10, 10, 192)  1728       ['block_4_expand_relu[0][0]']    \n",
            " nv2D)                                                                                            \n",
            "                                                                                                  \n",
            " block_4_depthwise_BN (BatchNor  (None, 10, 10, 192)  768        ['block_4_depthwise[0][0]']      \n",
            " malization)                                                                                      \n",
            "                                                                                                  \n",
            " block_4_depthwise_relu (ReLU)  (None, 10, 10, 192)  0           ['block_4_depthwise_BN[0][0]']   \n",
            "                                                                                                  \n",
            " block_4_project (Conv2D)       (None, 10, 10, 32)   6144        ['block_4_depthwise_relu[0][0]'] \n",
            "                                                                                                  \n",
            " block_4_project_BN (BatchNorma  (None, 10, 10, 32)  128         ['block_4_project[0][0]']        \n",
            " lization)                                                                                        \n",
            "                                                                                                  \n",
            " block_4_add (Add)              (None, 10, 10, 32)   0           ['block_3_project_BN[0][0]',     \n",
            "                                                                  'block_4_project_BN[0][0]']     \n",
            "                                                                                                  \n",
            " block_5_expand (Conv2D)        (None, 10, 10, 192)  6144        ['block_4_add[0][0]']            \n",
            "                                                                                                  \n",
            " block_5_expand_BN (BatchNormal  (None, 10, 10, 192)  768        ['block_5_expand[0][0]']         \n",
            " ization)                                                                                         \n",
            "                                                                                                  \n",
            " block_5_expand_relu (ReLU)     (None, 10, 10, 192)  0           ['block_5_expand_BN[0][0]']      \n",
            "                                                                                                  \n",
            " block_5_depthwise (DepthwiseCo  (None, 10, 10, 192)  1728       ['block_5_expand_relu[0][0]']    \n",
            " nv2D)                                                                                            \n",
            "                                                                                                  \n",
            " block_5_depthwise_BN (BatchNor  (None, 10, 10, 192)  768        ['block_5_depthwise[0][0]']      \n",
            " malization)                                                                                      \n",
            "                                                                                                  \n",
            " block_5_depthwise_relu (ReLU)  (None, 10, 10, 192)  0           ['block_5_depthwise_BN[0][0]']   \n",
            "                                                                                                  \n",
            " block_5_project (Conv2D)       (None, 10, 10, 32)   6144        ['block_5_depthwise_relu[0][0]'] \n",
            "                                                                                                  \n",
            " block_5_project_BN (BatchNorma  (None, 10, 10, 32)  128         ['block_5_project[0][0]']        \n",
            " lization)                                                                                        \n",
            "                                                                                                  \n",
            " block_5_add (Add)              (None, 10, 10, 32)   0           ['block_4_add[0][0]',            \n",
            "                                                                  'block_5_project_BN[0][0]']     \n",
            "                                                                                                  \n",
            " block_6_expand (Conv2D)        (None, 10, 10, 192)  6144        ['block_5_add[0][0]']            \n",
            "                                                                                                  \n",
            " block_6_expand_BN (BatchNormal  (None, 10, 10, 192)  768        ['block_6_expand[0][0]']         \n",
            " ization)                                                                                         \n",
            "                                                                                                  \n",
            " block_6_expand_relu (ReLU)     (None, 10, 10, 192)  0           ['block_6_expand_BN[0][0]']      \n",
            "                                                                                                  \n",
            " block_6_pad (ZeroPadding2D)    (None, 11, 11, 192)  0           ['block_6_expand_relu[0][0]']    \n",
            "                                                                                                  \n",
            " block_6_depthwise (DepthwiseCo  (None, 5, 5, 192)   1728        ['block_6_pad[0][0]']            \n",
            " nv2D)                                                                                            \n",
            "                                                                                                  \n",
            " block_6_depthwise_BN (BatchNor  (None, 5, 5, 192)   768         ['block_6_depthwise[0][0]']      \n",
            " malization)                                                                                      \n",
            "                                                                                                  \n",
            " block_6_depthwise_relu (ReLU)  (None, 5, 5, 192)    0           ['block_6_depthwise_BN[0][0]']   \n",
            "                                                                                                  \n",
            " block_6_project (Conv2D)       (None, 5, 5, 64)     12288       ['block_6_depthwise_relu[0][0]'] \n",
            "                                                                                                  \n",
            " block_6_project_BN (BatchNorma  (None, 5, 5, 64)    256         ['block_6_project[0][0]']        \n",
            " lization)                                                                                        \n",
            "                                                                                                  \n",
            " block_7_expand (Conv2D)        (None, 5, 5, 384)    24576       ['block_6_project_BN[0][0]']     \n",
            "                                                                                                  \n",
            " block_7_expand_BN (BatchNormal  (None, 5, 5, 384)   1536        ['block_7_expand[0][0]']         \n",
            " ization)                                                                                         \n",
            "                                                                                                  \n",
            " block_7_expand_relu (ReLU)     (None, 5, 5, 384)    0           ['block_7_expand_BN[0][0]']      \n",
            "                                                                                                  \n",
            " block_7_depthwise (DepthwiseCo  (None, 5, 5, 384)   3456        ['block_7_expand_relu[0][0]']    \n",
            " nv2D)                                                                                            \n",
            "                                                                                                  \n",
            " block_7_depthwise_BN (BatchNor  (None, 5, 5, 384)   1536        ['block_7_depthwise[0][0]']      \n",
            " malization)                                                                                      \n",
            "                                                                                                  \n",
            " block_7_depthwise_relu (ReLU)  (None, 5, 5, 384)    0           ['block_7_depthwise_BN[0][0]']   \n",
            "                                                                                                  \n",
            " block_7_project (Conv2D)       (None, 5, 5, 64)     24576       ['block_7_depthwise_relu[0][0]'] \n",
            "                                                                                                  \n",
            " block_7_project_BN (BatchNorma  (None, 5, 5, 64)    256         ['block_7_project[0][0]']        \n",
            " lization)                                                                                        \n",
            "                                                                                                  \n",
            " block_7_add (Add)              (None, 5, 5, 64)     0           ['block_6_project_BN[0][0]',     \n",
            "                                                                  'block_7_project_BN[0][0]']     \n",
            "                                                                                                  \n",
            " block_8_expand (Conv2D)        (None, 5, 5, 384)    24576       ['block_7_add[0][0]']            \n",
            "                                                                                                  \n",
            " block_8_expand_BN (BatchNormal  (None, 5, 5, 384)   1536        ['block_8_expand[0][0]']         \n",
            " ization)                                                                                         \n",
            "                                                                                                  \n",
            " block_8_expand_relu (ReLU)     (None, 5, 5, 384)    0           ['block_8_expand_BN[0][0]']      \n",
            "                                                                                                  \n",
            " block_8_depthwise (DepthwiseCo  (None, 5, 5, 384)   3456        ['block_8_expand_relu[0][0]']    \n",
            " nv2D)                                                                                            \n",
            "                                                                                                  \n",
            " block_8_depthwise_BN (BatchNor  (None, 5, 5, 384)   1536        ['block_8_depthwise[0][0]']      \n",
            " malization)                                                                                      \n",
            "                                                                                                  \n",
            " block_8_depthwise_relu (ReLU)  (None, 5, 5, 384)    0           ['block_8_depthwise_BN[0][0]']   \n",
            "                                                                                                  \n",
            " block_8_project (Conv2D)       (None, 5, 5, 64)     24576       ['block_8_depthwise_relu[0][0]'] \n",
            "                                                                                                  \n",
            " block_8_project_BN (BatchNorma  (None, 5, 5, 64)    256         ['block_8_project[0][0]']        \n",
            " lization)                                                                                        \n",
            "                                                                                                  \n",
            " block_8_add (Add)              (None, 5, 5, 64)     0           ['block_7_add[0][0]',            \n",
            "                                                                  'block_8_project_BN[0][0]']     \n",
            "                                                                                                  \n",
            " block_9_expand (Conv2D)        (None, 5, 5, 384)    24576       ['block_8_add[0][0]']            \n",
            "                                                                                                  \n",
            " block_9_expand_BN (BatchNormal  (None, 5, 5, 384)   1536        ['block_9_expand[0][0]']         \n",
            " ization)                                                                                         \n",
            "                                                                                                  \n",
            " block_9_expand_relu (ReLU)     (None, 5, 5, 384)    0           ['block_9_expand_BN[0][0]']      \n",
            "                                                                                                  \n",
            " block_9_depthwise (DepthwiseCo  (None, 5, 5, 384)   3456        ['block_9_expand_relu[0][0]']    \n",
            " nv2D)                                                                                            \n",
            "                                                                                                  \n",
            " block_9_depthwise_BN (BatchNor  (None, 5, 5, 384)   1536        ['block_9_depthwise[0][0]']      \n",
            " malization)                                                                                      \n",
            "                                                                                                  \n",
            " block_9_depthwise_relu (ReLU)  (None, 5, 5, 384)    0           ['block_9_depthwise_BN[0][0]']   \n",
            "                                                                                                  \n",
            " block_9_project (Conv2D)       (None, 5, 5, 64)     24576       ['block_9_depthwise_relu[0][0]'] \n",
            "                                                                                                  \n",
            " block_9_project_BN (BatchNorma  (None, 5, 5, 64)    256         ['block_9_project[0][0]']        \n",
            " lization)                                                                                        \n",
            "                                                                                                  \n",
            " block_9_add (Add)              (None, 5, 5, 64)     0           ['block_8_add[0][0]',            \n",
            "                                                                  'block_9_project_BN[0][0]']     \n",
            "                                                                                                  \n",
            " block_10_expand (Conv2D)       (None, 5, 5, 384)    24576       ['block_9_add[0][0]']            \n",
            "                                                                                                  \n",
            " block_10_expand_BN (BatchNorma  (None, 5, 5, 384)   1536        ['block_10_expand[0][0]']        \n",
            " lization)                                                                                        \n",
            "                                                                                                  \n",
            " block_10_expand_relu (ReLU)    (None, 5, 5, 384)    0           ['block_10_expand_BN[0][0]']     \n",
            "                                                                                                  \n",
            " block_10_depthwise (DepthwiseC  (None, 5, 5, 384)   3456        ['block_10_expand_relu[0][0]']   \n",
            " onv2D)                                                                                           \n",
            "                                                                                                  \n",
            " block_10_depthwise_BN (BatchNo  (None, 5, 5, 384)   1536        ['block_10_depthwise[0][0]']     \n",
            " rmalization)                                                                                     \n",
            "                                                                                                  \n",
            " block_10_depthwise_relu (ReLU)  (None, 5, 5, 384)   0           ['block_10_depthwise_BN[0][0]']  \n",
            "                                                                                                  \n",
            " block_10_project (Conv2D)      (None, 5, 5, 96)     36864       ['block_10_depthwise_relu[0][0]']\n",
            "                                                                                                  \n",
            " block_10_project_BN (BatchNorm  (None, 5, 5, 96)    384         ['block_10_project[0][0]']       \n",
            " alization)                                                                                       \n",
            "                                                                                                  \n",
            " block_11_expand (Conv2D)       (None, 5, 5, 576)    55296       ['block_10_project_BN[0][0]']    \n",
            "                                                                                                  \n",
            " block_11_expand_BN (BatchNorma  (None, 5, 5, 576)   2304        ['block_11_expand[0][0]']        \n",
            " lization)                                                                                        \n",
            "                                                                                                  \n",
            " block_11_expand_relu (ReLU)    (None, 5, 5, 576)    0           ['block_11_expand_BN[0][0]']     \n",
            "                                                                                                  \n",
            " block_11_depthwise (DepthwiseC  (None, 5, 5, 576)   5184        ['block_11_expand_relu[0][0]']   \n",
            " onv2D)                                                                                           \n",
            "                                                                                                  \n",
            " block_11_depthwise_BN (BatchNo  (None, 5, 5, 576)   2304        ['block_11_depthwise[0][0]']     \n",
            " rmalization)                                                                                     \n",
            "                                                                                                  \n",
            " block_11_depthwise_relu (ReLU)  (None, 5, 5, 576)   0           ['block_11_depthwise_BN[0][0]']  \n",
            "                                                                                                  \n",
            " block_11_project (Conv2D)      (None, 5, 5, 96)     55296       ['block_11_depthwise_relu[0][0]']\n",
            "                                                                                                  \n",
            " block_11_project_BN (BatchNorm  (None, 5, 5, 96)    384         ['block_11_project[0][0]']       \n",
            " alization)                                                                                       \n",
            "                                                                                                  \n",
            " block_11_add (Add)             (None, 5, 5, 96)     0           ['block_10_project_BN[0][0]',    \n",
            "                                                                  'block_11_project_BN[0][0]']    \n",
            "                                                                                                  \n",
            " block_12_expand (Conv2D)       (None, 5, 5, 576)    55296       ['block_11_add[0][0]']           \n",
            "                                                                                                  \n",
            " block_12_expand_BN (BatchNorma  (None, 5, 5, 576)   2304        ['block_12_expand[0][0]']        \n",
            " lization)                                                                                        \n",
            "                                                                                                  \n",
            " block_12_expand_relu (ReLU)    (None, 5, 5, 576)    0           ['block_12_expand_BN[0][0]']     \n",
            "                                                                                                  \n",
            " block_12_depthwise (DepthwiseC  (None, 5, 5, 576)   5184        ['block_12_expand_relu[0][0]']   \n",
            " onv2D)                                                                                           \n",
            "                                                                                                  \n",
            " block_12_depthwise_BN (BatchNo  (None, 5, 5, 576)   2304        ['block_12_depthwise[0][0]']     \n",
            " rmalization)                                                                                     \n",
            "                                                                                                  \n",
            " block_12_depthwise_relu (ReLU)  (None, 5, 5, 576)   0           ['block_12_depthwise_BN[0][0]']  \n",
            "                                                                                                  \n",
            " block_12_project (Conv2D)      (None, 5, 5, 96)     55296       ['block_12_depthwise_relu[0][0]']\n",
            "                                                                                                  \n",
            " block_12_project_BN (BatchNorm  (None, 5, 5, 96)    384         ['block_12_project[0][0]']       \n",
            " alization)                                                                                       \n",
            "                                                                                                  \n",
            " block_12_add (Add)             (None, 5, 5, 96)     0           ['block_11_add[0][0]',           \n",
            "                                                                  'block_12_project_BN[0][0]']    \n",
            "                                                                                                  \n",
            " block_13_expand (Conv2D)       (None, 5, 5, 576)    55296       ['block_12_add[0][0]']           \n",
            "                                                                                                  \n",
            " block_13_expand_BN (BatchNorma  (None, 5, 5, 576)   2304        ['block_13_expand[0][0]']        \n",
            " lization)                                                                                        \n",
            "                                                                                                  \n",
            " block_13_expand_relu (ReLU)    (None, 5, 5, 576)    0           ['block_13_expand_BN[0][0]']     \n",
            "                                                                                                  \n",
            " block_13_pad (ZeroPadding2D)   (None, 7, 7, 576)    0           ['block_13_expand_relu[0][0]']   \n",
            "                                                                                                  \n",
            " block_13_depthwise (DepthwiseC  (None, 3, 3, 576)   5184        ['block_13_pad[0][0]']           \n",
            " onv2D)                                                                                           \n",
            "                                                                                                  \n",
            " block_13_depthwise_BN (BatchNo  (None, 3, 3, 576)   2304        ['block_13_depthwise[0][0]']     \n",
            " rmalization)                                                                                     \n",
            "                                                                                                  \n",
            " block_13_depthwise_relu (ReLU)  (None, 3, 3, 576)   0           ['block_13_depthwise_BN[0][0]']  \n",
            "                                                                                                  \n",
            " block_13_project (Conv2D)      (None, 3, 3, 160)    92160       ['block_13_depthwise_relu[0][0]']\n",
            "                                                                                                  \n",
            " block_13_project_BN (BatchNorm  (None, 3, 3, 160)   640         ['block_13_project[0][0]']       \n",
            " alization)                                                                                       \n",
            "                                                                                                  \n",
            " block_14_expand (Conv2D)       (None, 3, 3, 960)    153600      ['block_13_project_BN[0][0]']    \n",
            "                                                                                                  \n",
            " block_14_expand_BN (BatchNorma  (None, 3, 3, 960)   3840        ['block_14_expand[0][0]']        \n",
            " lization)                                                                                        \n",
            "                                                                                                  \n",
            " block_14_expand_relu (ReLU)    (None, 3, 3, 960)    0           ['block_14_expand_BN[0][0]']     \n",
            "                                                                                                  \n",
            " block_14_depthwise (DepthwiseC  (None, 3, 3, 960)   8640        ['block_14_expand_relu[0][0]']   \n",
            " onv2D)                                                                                           \n",
            "                                                                                                  \n",
            " block_14_depthwise_BN (BatchNo  (None, 3, 3, 960)   3840        ['block_14_depthwise[0][0]']     \n",
            " rmalization)                                                                                     \n",
            "                                                                                                  \n",
            " block_14_depthwise_relu (ReLU)  (None, 3, 3, 960)   0           ['block_14_depthwise_BN[0][0]']  \n",
            "                                                                                                  \n",
            " block_14_project (Conv2D)      (None, 3, 3, 160)    153600      ['block_14_depthwise_relu[0][0]']\n",
            "                                                                                                  \n",
            " block_14_project_BN (BatchNorm  (None, 3, 3, 160)   640         ['block_14_project[0][0]']       \n",
            " alization)                                                                                       \n",
            "                                                                                                  \n",
            " block_14_add (Add)             (None, 3, 3, 160)    0           ['block_13_project_BN[0][0]',    \n",
            "                                                                  'block_14_project_BN[0][0]']    \n",
            "                                                                                                  \n",
            " block_15_expand (Conv2D)       (None, 3, 3, 960)    153600      ['block_14_add[0][0]']           \n",
            "                                                                                                  \n",
            " block_15_expand_BN (BatchNorma  (None, 3, 3, 960)   3840        ['block_15_expand[0][0]']        \n",
            " lization)                                                                                        \n",
            "                                                                                                  \n",
            " block_15_expand_relu (ReLU)    (None, 3, 3, 960)    0           ['block_15_expand_BN[0][0]']     \n",
            "                                                                                                  \n",
            " block_15_depthwise (DepthwiseC  (None, 3, 3, 960)   8640        ['block_15_expand_relu[0][0]']   \n",
            " onv2D)                                                                                           \n",
            "                                                                                                  \n",
            " block_15_depthwise_BN (BatchNo  (None, 3, 3, 960)   3840        ['block_15_depthwise[0][0]']     \n",
            " rmalization)                                                                                     \n",
            "                                                                                                  \n",
            " block_15_depthwise_relu (ReLU)  (None, 3, 3, 960)   0           ['block_15_depthwise_BN[0][0]']  \n",
            "                                                                                                  \n",
            " block_15_project (Conv2D)      (None, 3, 3, 160)    153600      ['block_15_depthwise_relu[0][0]']\n",
            "                                                                                                  \n",
            " block_15_project_BN (BatchNorm  (None, 3, 3, 160)   640         ['block_15_project[0][0]']       \n",
            " alization)                                                                                       \n",
            "                                                                                                  \n",
            " block_15_add (Add)             (None, 3, 3, 160)    0           ['block_14_add[0][0]',           \n",
            "                                                                  'block_15_project_BN[0][0]']    \n",
            "                                                                                                  \n",
            " block_16_expand (Conv2D)       (None, 3, 3, 960)    153600      ['block_15_add[0][0]']           \n",
            "                                                                                                  \n",
            " block_16_expand_BN (BatchNorma  (None, 3, 3, 960)   3840        ['block_16_expand[0][0]']        \n",
            " lization)                                                                                        \n",
            "                                                                                                  \n",
            " block_16_expand_relu (ReLU)    (None, 3, 3, 960)    0           ['block_16_expand_BN[0][0]']     \n",
            "                                                                                                  \n",
            " block_16_depthwise (DepthwiseC  (None, 3, 3, 960)   8640        ['block_16_expand_relu[0][0]']   \n",
            " onv2D)                                                                                           \n",
            "                                                                                                  \n",
            " block_16_depthwise_BN (BatchNo  (None, 3, 3, 960)   3840        ['block_16_depthwise[0][0]']     \n",
            " rmalization)                                                                                     \n",
            "                                                                                                  \n",
            " block_16_depthwise_relu (ReLU)  (None, 3, 3, 960)   0           ['block_16_depthwise_BN[0][0]']  \n",
            "                                                                                                  \n",
            " block_16_project (Conv2D)      (None, 3, 3, 320)    307200      ['block_16_depthwise_relu[0][0]']\n",
            "                                                                                                  \n",
            " block_16_project_BN (BatchNorm  (None, 3, 3, 320)   1280        ['block_16_project[0][0]']       \n",
            " alization)                                                                                       \n",
            "                                                                                                  \n",
            " Conv_1 (Conv2D)                (None, 3, 3, 1280)   409600      ['block_16_project_BN[0][0]']    \n",
            "                                                                                                  \n",
            " Conv_1_bn (BatchNormalization)  (None, 3, 3, 1280)  5120        ['Conv_1[0][0]']                 \n",
            "                                                                                                  \n",
            " out_relu (ReLU)                (None, 3, 3, 1280)   0           ['Conv_1_bn[0][0]']              \n",
            "                                                                                                  \n",
            "==================================================================================================\n",
            "Total params: 2,257,984\n",
            "Trainable params: 0\n",
            "Non-trainable params: 2,257,984\n",
            "__________________________________________________________________________________________________\n"
          ]
        }
      ],
      "source": [
        "base_model.summary()"
      ]
    },
    {
      "cell_type": "code",
      "execution_count": null,
      "metadata": {
        "colab": {
          "base_uri": "https://localhost:8080/"
        },
        "id": "yKS_NKsTp2e2",
        "outputId": "8a0afbea-e8eb-4354-c26f-012cae687da3"
      },
      "outputs": [
        {
          "name": "stdout",
          "output_type": "stream",
          "text": [
            "(32, 1280)\n"
          ]
        }
      ],
      "source": [
        "global_average_layer = tf.keras.layers.GlobalAveragePooling2D()\n",
        "feature_batch_average = global_average_layer(feature_batch)\n",
        "print(feature_batch_average.shape)"
      ]
    },
    {
      "cell_type": "code",
      "execution_count": null,
      "metadata": {
        "colab": {
          "base_uri": "https://localhost:8080/"
        },
        "id": "iNquumBwp2e2",
        "outputId": "dbbf5338-a298-4d5b-c64a-005c973957a9"
      },
      "outputs": [
        {
          "name": "stdout",
          "output_type": "stream",
          "text": [
            "(32, 8)\n"
          ]
        }
      ],
      "source": [
        "prediction_layer = tf.keras.layers.Dense(8, activation=\"softmax\")\n",
        "prediction_batch = prediction_layer(feature_batch_average)\n",
        "print(prediction_batch.shape)"
      ]
    },
    {
      "cell_type": "code",
      "execution_count": null,
      "metadata": {
        "id": "zzWulLkSp2e3"
      },
      "outputs": [],
      "source": [
        "shape_input = (80, 80, 3) # cocokin sama IMG_SIZE"
      ]
    },
    {
      "cell_type": "code",
      "execution_count": null,
      "metadata": {
        "id": "ooG5s07-p2e3"
      },
      "outputs": [],
      "source": [
        "inputs = tf.keras.Input(shape=shape_input)\n",
        "x = data_augmentation(inputs)\n",
        "x = preprocess_input(x)\n",
        "x = base_model(x, training=False)\n",
        "x = global_average_layer(x)\n",
        "x = tf.keras.layers.Dropout(0.2)(x)\n",
        "outputs = prediction_layer(x)\n",
        "model = tf.keras.Model(inputs, outputs)"
      ]
    },
    {
      "cell_type": "code",
      "execution_count": null,
      "metadata": {
        "id": "Obqfp6YUp2e3"
      },
      "outputs": [],
      "source": [
        "base_learning_rate = 0.0001\n",
        "model.compile(optimizer=tf.keras.optimizers.Adam(learning_rate=base_learning_rate),\n",
        "              loss=tf.losses.SparseCategoricalCrossentropy(from_logits=True),\n",
        "              metrics=['accuracy'])"
      ]
    },
    {
      "cell_type": "code",
      "execution_count": null,
      "metadata": {
        "colab": {
          "base_uri": "https://localhost:8080/"
        },
        "id": "RXWRkyQsp2e4",
        "outputId": "85fdd7b3-2e97-46e9-cae4-4673643418c2"
      },
      "outputs": [
        {
          "name": "stdout",
          "output_type": "stream",
          "text": [
            "Model: \"model_3\"\n",
            "_________________________________________________________________\n",
            " Layer (type)                Output Shape              Param #   \n",
            "=================================================================\n",
            " input_8 (InputLayer)        [(None, 80, 80, 3)]       0         \n",
            "                                                                 \n",
            " sequential_2 (Sequential)   (None, 80, 80, 3)         0         \n",
            "                                                                 \n",
            " tf.math.truediv_3 (TFOpLamb  (None, 80, 80, 3)        0         \n",
            " da)                                                             \n",
            "                                                                 \n",
            " tf.math.subtract_3 (TFOpLam  (None, 80, 80, 3)        0         \n",
            " bda)                                                            \n",
            "                                                                 \n",
            " mobilenetv2_1.00_224 (Funct  (None, 3, 3, 1280)       2257984   \n",
            " ional)                                                          \n",
            "                                                                 \n",
            " global_average_pooling2d_2   (None, 1280)             0         \n",
            " (GlobalAveragePooling2D)                                        \n",
            "                                                                 \n",
            " dropout_3 (Dropout)         (None, 1280)              0         \n",
            "                                                                 \n",
            " dense_2 (Dense)             (None, 8)                 10248     \n",
            "                                                                 \n",
            "=================================================================\n",
            "Total params: 2,268,232\n",
            "Trainable params: 10,248\n",
            "Non-trainable params: 2,257,984\n",
            "_________________________________________________________________\n"
          ]
        }
      ],
      "source": [
        "model.summary()"
      ]
    },
    {
      "cell_type": "code",
      "execution_count": null,
      "metadata": {
        "colab": {
          "base_uri": "https://localhost:8080/"
        },
        "id": "8D8_G8oIp2e5",
        "outputId": "c359ffb8-30d4-45d1-933a-3d38320fa822"
      },
      "outputs": [
        {
          "name": "stderr",
          "output_type": "stream",
          "text": [
            "/usr/local/lib/python3.10/dist-packages/keras/backend.py:5612: UserWarning: \"`sparse_categorical_crossentropy` received `from_logits=True`, but the `output` argument was produced by a Softmax activation and thus does not represent logits. Was this intended?\n",
            "  output, from_logits = _get_logits(\n"
          ]
        },
        {
          "name": "stdout",
          "output_type": "stream",
          "text": [
            "121/121 [==============================] - 22s 122ms/step - loss: 3.4434 - accuracy: 0.0862\n"
          ]
        }
      ],
      "source": [
        "loss0, accuracy0 = model.evaluate(validation_dataset)"
      ]
    },
    {
      "cell_type": "code",
      "execution_count": null,
      "metadata": {
        "colab": {
          "base_uri": "https://localhost:8080/"
        },
        "id": "E9tWSBBUp2e6",
        "outputId": "822de10c-5670-43be-f953-41974cddd2e6"
      },
      "outputs": [
        {
          "name": "stdout",
          "output_type": "stream",
          "text": [
            "initial loss: 3.44\n",
            "initial accuracy: 0.09\n"
          ]
        }
      ],
      "source": [
        "print(\"initial loss: {:.2f}\".format(loss0))\n",
        "print(\"initial accuracy: {:.2f}\".format(accuracy0))"
      ]
    },
    {
      "cell_type": "markdown",
      "metadata": {
        "id": "aiXZbUE6p2e7"
      },
      "source": [
        "## Melatih Pre Trained Model MobileNetV2"
      ]
    },
    {
      "cell_type": "code",
      "execution_count": null,
      "metadata": {
        "colab": {
          "base_uri": "https://localhost:8080/"
        },
        "id": "ubJ0hKh6p2e7",
        "outputId": "e8bb5a3d-90e3-4c97-c575-29fd11c55f99"
      },
      "outputs": [
        {
          "name": "stdout",
          "output_type": "stream",
          "text": [
            "Epoch 1/100\n",
            "603/603 [==============================] - 53s 80ms/step - loss: 2.2633 - accuracy: 0.2511 - val_loss: 1.6054 - val_accuracy: 0.3925\n",
            "Epoch 2/100\n",
            "603/603 [==============================] - 50s 82ms/step - loss: 1.7633 - accuracy: 0.3805 - val_loss: 1.4322 - val_accuracy: 0.4780\n",
            "Epoch 3/100\n",
            "603/603 [==============================] - 49s 80ms/step - loss: 1.6039 - accuracy: 0.4312 - val_loss: 1.3404 - val_accuracy: 0.5023\n",
            "Epoch 4/100\n",
            "603/603 [==============================] - 48s 79ms/step - loss: 1.4928 - accuracy: 0.4640 - val_loss: 1.2455 - val_accuracy: 0.5476\n",
            "Epoch 5/100\n",
            "603/603 [==============================] - 48s 80ms/step - loss: 1.4250 - accuracy: 0.4882 - val_loss: 1.2141 - val_accuracy: 0.5590\n",
            "Epoch 6/100\n",
            "603/603 [==============================] - 49s 81ms/step - loss: 1.3695 - accuracy: 0.5032 - val_loss: 1.1906 - val_accuracy: 0.5647\n",
            "Epoch 7/100\n",
            "603/603 [==============================] - 48s 78ms/step - loss: 1.3178 - accuracy: 0.5221 - val_loss: 1.1542 - val_accuracy: 0.5847\n",
            "Epoch 8/100\n",
            "603/603 [==============================] - 49s 80ms/step - loss: 1.2945 - accuracy: 0.5279 - val_loss: 1.1367 - val_accuracy: 0.5893\n",
            "Epoch 9/100\n",
            "603/603 [==============================] - 49s 80ms/step - loss: 1.2569 - accuracy: 0.5410 - val_loss: 1.1130 - val_accuracy: 0.5971\n",
            "Epoch 10/100\n",
            "603/603 [==============================] - 49s 80ms/step - loss: 1.2280 - accuracy: 0.5506 - val_loss: 1.0994 - val_accuracy: 0.6007\n",
            "Epoch 11/100\n",
            "603/603 [==============================] - 49s 80ms/step - loss: 1.1995 - accuracy: 0.5594 - val_loss: 1.0753 - val_accuracy: 0.6121\n",
            "Epoch 12/100\n",
            "603/603 [==============================] - 48s 79ms/step - loss: 1.1899 - accuracy: 0.5648 - val_loss: 1.0671 - val_accuracy: 0.6103\n",
            "Epoch 13/100\n",
            "603/603 [==============================] - 48s 79ms/step - loss: 1.1634 - accuracy: 0.5747 - val_loss: 1.0579 - val_accuracy: 0.6098\n",
            "Epoch 14/100\n",
            "603/603 [==============================] - 49s 80ms/step - loss: 1.1538 - accuracy: 0.5737 - val_loss: 1.0402 - val_accuracy: 0.6230\n",
            "Epoch 15/100\n",
            "603/603 [==============================] - 49s 81ms/step - loss: 1.1451 - accuracy: 0.5792 - val_loss: 1.0335 - val_accuracy: 0.6238\n",
            "Epoch 16/100\n",
            "603/603 [==============================] - 49s 81ms/step - loss: 1.1289 - accuracy: 0.5846 - val_loss: 1.0192 - val_accuracy: 0.6295\n",
            "Epoch 17/100\n",
            "603/603 [==============================] - 49s 81ms/step - loss: 1.1184 - accuracy: 0.5881 - val_loss: 1.0143 - val_accuracy: 0.6326\n",
            "Epoch 18/100\n",
            "603/603 [==============================] - 49s 81ms/step - loss: 1.0990 - accuracy: 0.5933 - val_loss: 1.0076 - val_accuracy: 0.6289\n",
            "Epoch 19/100\n",
            "603/603 [==============================] - 50s 82ms/step - loss: 1.1034 - accuracy: 0.5930 - val_loss: 1.0137 - val_accuracy: 0.6341\n",
            "Epoch 20/100\n",
            "603/603 [==============================] - 50s 82ms/step - loss: 1.0893 - accuracy: 0.5985 - val_loss: 0.9870 - val_accuracy: 0.6434\n",
            "Epoch 21/100\n",
            "603/603 [==============================] - 49s 80ms/step - loss: 1.0829 - accuracy: 0.6036 - val_loss: 0.9864 - val_accuracy: 0.6424\n",
            "Epoch 22/100\n",
            "603/603 [==============================] - 49s 81ms/step - loss: 1.0714 - accuracy: 0.6091 - val_loss: 0.9983 - val_accuracy: 0.6385\n",
            "Epoch 23/100\n",
            "603/603 [==============================] - 49s 80ms/step - loss: 1.0772 - accuracy: 0.6037 - val_loss: 0.9853 - val_accuracy: 0.6450\n",
            "Epoch 24/100\n",
            "603/603 [==============================] - 48s 79ms/step - loss: 1.0664 - accuracy: 0.6078 - val_loss: 0.9804 - val_accuracy: 0.6447\n",
            "Epoch 25/100\n",
            "603/603 [==============================] - 49s 80ms/step - loss: 1.0590 - accuracy: 0.6126 - val_loss: 0.9754 - val_accuracy: 0.6471\n",
            "Epoch 26/100\n",
            "603/603 [==============================] - 50s 83ms/step - loss: 1.0601 - accuracy: 0.6142 - val_loss: 0.9690 - val_accuracy: 0.6507\n",
            "Epoch 27/100\n",
            "603/603 [==============================] - 50s 82ms/step - loss: 1.0526 - accuracy: 0.6163 - val_loss: 0.9730 - val_accuracy: 0.6419\n",
            "Epoch 28/100\n",
            "603/603 [==============================] - 49s 80ms/step - loss: 1.0526 - accuracy: 0.6193 - val_loss: 0.9680 - val_accuracy: 0.6510\n",
            "Epoch 29/100\n",
            "603/603 [==============================] - 48s 79ms/step - loss: 1.0488 - accuracy: 0.6191 - val_loss: 0.9640 - val_accuracy: 0.6497\n",
            "Epoch 30/100\n",
            "603/603 [==============================] - 49s 81ms/step - loss: 1.0371 - accuracy: 0.6221 - val_loss: 0.9587 - val_accuracy: 0.6533\n",
            "Epoch 31/100\n",
            "603/603 [==============================] - 49s 81ms/step - loss: 1.0351 - accuracy: 0.6214 - val_loss: 0.9510 - val_accuracy: 0.6569\n",
            "Epoch 32/100\n",
            "603/603 [==============================] - 50s 82ms/step - loss: 1.0417 - accuracy: 0.6176 - val_loss: 0.9543 - val_accuracy: 0.6559\n",
            "Epoch 33/100\n",
            "603/603 [==============================] - 49s 81ms/step - loss: 1.0294 - accuracy: 0.6257 - val_loss: 0.9490 - val_accuracy: 0.6579\n",
            "Epoch 34/100\n",
            "603/603 [==============================] - 49s 81ms/step - loss: 1.0324 - accuracy: 0.6216 - val_loss: 0.9460 - val_accuracy: 0.6585\n",
            "Epoch 35/100\n",
            "603/603 [==============================] - 50s 82ms/step - loss: 1.0173 - accuracy: 0.6263 - val_loss: 0.9562 - val_accuracy: 0.6535\n",
            "Epoch 36/100\n",
            "603/603 [==============================] - 50s 83ms/step - loss: 1.0258 - accuracy: 0.6251 - val_loss: 0.9427 - val_accuracy: 0.6525\n",
            "Epoch 37/100\n",
            "603/603 [==============================] - 50s 82ms/step - loss: 1.0239 - accuracy: 0.6262 - val_loss: 0.9508 - val_accuracy: 0.6546\n",
            "Epoch 38/100\n",
            "603/603 [==============================] - 50s 81ms/step - loss: 1.0119 - accuracy: 0.6311 - val_loss: 0.9411 - val_accuracy: 0.6618\n",
            "Epoch 39/100\n",
            "603/603 [==============================] - 49s 80ms/step - loss: 1.0121 - accuracy: 0.6309 - val_loss: 0.9361 - val_accuracy: 0.6574\n",
            "Epoch 40/100\n",
            "603/603 [==============================] - 48s 79ms/step - loss: 1.0140 - accuracy: 0.6268 - val_loss: 0.9499 - val_accuracy: 0.6528\n",
            "Epoch 41/100\n",
            "603/603 [==============================] - 49s 80ms/step - loss: 1.0119 - accuracy: 0.6343 - val_loss: 0.9426 - val_accuracy: 0.6561\n",
            "Epoch 42/100\n",
            "603/603 [==============================] - 47s 78ms/step - loss: 1.0125 - accuracy: 0.6296 - val_loss: 0.9489 - val_accuracy: 0.6561\n",
            "Epoch 43/100\n",
            "603/603 [==============================] - 48s 80ms/step - loss: 1.0119 - accuracy: 0.6300 - val_loss: 0.9339 - val_accuracy: 0.6629\n",
            "Epoch 44/100\n",
            "603/603 [==============================] - 49s 80ms/step - loss: 1.0079 - accuracy: 0.6298 - val_loss: 0.9276 - val_accuracy: 0.6611\n",
            "Epoch 45/100\n",
            "603/603 [==============================] - 50s 82ms/step - loss: 1.0078 - accuracy: 0.6296 - val_loss: 0.9391 - val_accuracy: 0.6577\n",
            "Epoch 46/100\n",
            "603/603 [==============================] - 49s 81ms/step - loss: 1.0057 - accuracy: 0.6301 - val_loss: 0.9600 - val_accuracy: 0.6543\n",
            "Epoch 47/100\n",
            "603/603 [==============================] - 49s 81ms/step - loss: 1.0084 - accuracy: 0.6270 - val_loss: 0.9368 - val_accuracy: 0.6636\n",
            "Epoch 48/100\n",
            "603/603 [==============================] - 51s 84ms/step - loss: 1.0088 - accuracy: 0.6331 - val_loss: 0.9315 - val_accuracy: 0.6624\n",
            "Epoch 49/100\n",
            "603/603 [==============================] - 49s 81ms/step - loss: 0.9928 - accuracy: 0.6354 - val_loss: 0.9291 - val_accuracy: 0.6649\n",
            "Epoch 50/100\n",
            "603/603 [==============================] - 49s 81ms/step - loss: 1.0106 - accuracy: 0.6317 - val_loss: 0.9428 - val_accuracy: 0.6585\n",
            "Epoch 51/100\n",
            "603/603 [==============================] - 50s 82ms/step - loss: 1.0123 - accuracy: 0.6319 - val_loss: 0.9264 - val_accuracy: 0.6670\n",
            "Epoch 52/100\n",
            "603/603 [==============================] - 49s 81ms/step - loss: 1.0053 - accuracy: 0.6307 - val_loss: 0.9370 - val_accuracy: 0.6590\n",
            "Epoch 53/100\n",
            "603/603 [==============================] - 50s 83ms/step - loss: 0.9972 - accuracy: 0.6354 - val_loss: 0.9197 - val_accuracy: 0.6704\n",
            "Epoch 54/100\n",
            "603/603 [==============================] - 49s 81ms/step - loss: 1.0016 - accuracy: 0.6332 - val_loss: 0.9208 - val_accuracy: 0.6670\n",
            "Epoch 55/100\n",
            "603/603 [==============================] - 48s 79ms/step - loss: 1.0035 - accuracy: 0.6346 - val_loss: 0.9318 - val_accuracy: 0.6642\n",
            "Epoch 56/100\n",
            "603/603 [==============================] - 49s 81ms/step - loss: 1.0063 - accuracy: 0.6289 - val_loss: 0.9252 - val_accuracy: 0.6665\n",
            "Epoch 57/100\n",
            "603/603 [==============================] - 49s 80ms/step - loss: 1.0041 - accuracy: 0.6308 - val_loss: 0.9141 - val_accuracy: 0.6693\n",
            "Epoch 58/100\n",
            "603/603 [==============================] - 49s 80ms/step - loss: 0.9938 - accuracy: 0.6343 - val_loss: 0.9260 - val_accuracy: 0.6592\n",
            "Epoch 59/100\n",
            "603/603 [==============================] - 49s 80ms/step - loss: 0.9911 - accuracy: 0.6371 - val_loss: 0.9128 - val_accuracy: 0.6699\n",
            "Epoch 60/100\n",
            "603/603 [==============================] - 50s 82ms/step - loss: 1.0042 - accuracy: 0.6330 - val_loss: 0.9192 - val_accuracy: 0.6644\n",
            "Epoch 61/100\n",
            "603/603 [==============================] - 50s 82ms/step - loss: 0.9943 - accuracy: 0.6350 - val_loss: 0.9202 - val_accuracy: 0.6675\n",
            "Epoch 62/100\n",
            "603/603 [==============================] - 50s 83ms/step - loss: 1.0006 - accuracy: 0.6346 - val_loss: 0.9231 - val_accuracy: 0.6727\n",
            "Epoch 63/100\n",
            "603/603 [==============================] - 50s 83ms/step - loss: 1.0006 - accuracy: 0.6331 - val_loss: 0.9170 - val_accuracy: 0.6649\n",
            "Epoch 64/100\n",
            "603/603 [==============================] - 49s 81ms/step - loss: 0.9918 - accuracy: 0.6360 - val_loss: 0.9496 - val_accuracy: 0.6569\n",
            "Epoch 65/100\n",
            "603/603 [==============================] - 50s 82ms/step - loss: 0.9963 - accuracy: 0.6360 - val_loss: 0.9176 - val_accuracy: 0.6678\n",
            "Epoch 66/100\n",
            "603/603 [==============================] - 50s 82ms/step - loss: 0.9928 - accuracy: 0.6371 - val_loss: 0.9336 - val_accuracy: 0.6598\n",
            "Epoch 67/100\n",
            "603/603 [==============================] - 50s 81ms/step - loss: 0.9867 - accuracy: 0.6420 - val_loss: 0.9301 - val_accuracy: 0.6649\n",
            "Epoch 68/100\n",
            "603/603 [==============================] - 49s 81ms/step - loss: 0.9892 - accuracy: 0.6349 - val_loss: 0.9155 - val_accuracy: 0.6699\n",
            "Epoch 69/100\n",
            "603/603 [==============================] - 50s 82ms/step - loss: 0.9979 - accuracy: 0.6369 - val_loss: 0.9238 - val_accuracy: 0.6657\n",
            "Epoch 70/100\n",
            "603/603 [==============================] - 49s 81ms/step - loss: 0.9891 - accuracy: 0.6340 - val_loss: 0.9077 - val_accuracy: 0.6724\n",
            "Epoch 71/100\n",
            "603/603 [==============================] - 49s 80ms/step - loss: 0.9909 - accuracy: 0.6388 - val_loss: 0.9132 - val_accuracy: 0.6665\n",
            "Epoch 72/100\n",
            "603/603 [==============================] - 48s 79ms/step - loss: 0.9794 - accuracy: 0.6416 - val_loss: 0.9257 - val_accuracy: 0.6670\n",
            "Epoch 73/100\n",
            "603/603 [==============================] - 49s 80ms/step - loss: 0.9953 - accuracy: 0.6350 - val_loss: 0.9203 - val_accuracy: 0.6634\n",
            "Epoch 74/100\n",
            "603/603 [==============================] - 49s 81ms/step - loss: 0.9876 - accuracy: 0.6369 - val_loss: 0.9201 - val_accuracy: 0.6636\n",
            "Epoch 75/100\n",
            "603/603 [==============================] - 50s 82ms/step - loss: 0.9981 - accuracy: 0.6354 - val_loss: 0.9147 - val_accuracy: 0.6624\n",
            "Epoch 76/100\n",
            "603/603 [==============================] - 50s 81ms/step - loss: 0.9981 - accuracy: 0.6335 - val_loss: 0.9319 - val_accuracy: 0.6644\n",
            "Epoch 77/100\n",
            "603/603 [==============================] - 47s 78ms/step - loss: 0.9927 - accuracy: 0.6327 - val_loss: 0.9200 - val_accuracy: 0.6621\n",
            "Epoch 78/100\n",
            "603/603 [==============================] - 48s 78ms/step - loss: 0.9807 - accuracy: 0.6412 - val_loss: 0.9125 - val_accuracy: 0.6675\n",
            "Epoch 79/100\n",
            "603/603 [==============================] - 48s 79ms/step - loss: 0.9876 - accuracy: 0.6407 - val_loss: 0.9210 - val_accuracy: 0.6655\n",
            "Epoch 80/100\n",
            "603/603 [==============================] - 48s 79ms/step - loss: 0.9885 - accuracy: 0.6434 - val_loss: 0.9216 - val_accuracy: 0.6639\n",
            "Epoch 81/100\n",
            "603/603 [==============================] - 48s 79ms/step - loss: 0.9855 - accuracy: 0.6361 - val_loss: 0.9135 - val_accuracy: 0.6662\n",
            "Epoch 82/100\n",
            "603/603 [==============================] - 47s 77ms/step - loss: 0.9828 - accuracy: 0.6368 - val_loss: 0.9031 - val_accuracy: 0.6743\n",
            "Epoch 83/100\n",
            "603/603 [==============================] - 48s 78ms/step - loss: 0.9916 - accuracy: 0.6395 - val_loss: 0.9214 - val_accuracy: 0.6592\n",
            "Epoch 84/100\n",
            "603/603 [==============================] - 48s 79ms/step - loss: 0.9832 - accuracy: 0.6400 - val_loss: 0.9155 - val_accuracy: 0.6691\n",
            "Epoch 85/100\n",
            "603/603 [==============================] - 49s 80ms/step - loss: 0.9796 - accuracy: 0.6405 - val_loss: 0.9084 - val_accuracy: 0.6737\n",
            "Epoch 86/100\n",
            "603/603 [==============================] - 49s 80ms/step - loss: 0.9909 - accuracy: 0.6379 - val_loss: 0.9085 - val_accuracy: 0.6696\n",
            "Epoch 87/100\n",
            "603/603 [==============================] - 48s 79ms/step - loss: 0.9861 - accuracy: 0.6401 - val_loss: 0.9137 - val_accuracy: 0.6709\n",
            "Epoch 88/100\n",
            "603/603 [==============================] - 47s 78ms/step - loss: 0.9911 - accuracy: 0.6399 - val_loss: 0.9176 - val_accuracy: 0.6680\n",
            "Epoch 89/100\n",
            "603/603 [==============================] - 48s 80ms/step - loss: 0.9946 - accuracy: 0.6366 - val_loss: 0.9158 - val_accuracy: 0.6709\n",
            "Epoch 90/100\n",
            "603/603 [==============================] - 48s 80ms/step - loss: 0.9854 - accuracy: 0.6406 - val_loss: 0.9120 - val_accuracy: 0.6712\n",
            "Epoch 91/100\n",
            "603/603 [==============================] - 48s 79ms/step - loss: 0.9908 - accuracy: 0.6401 - val_loss: 0.9150 - val_accuracy: 0.6706\n",
            "Epoch 92/100\n",
            "603/603 [==============================] - 49s 80ms/step - loss: 0.9792 - accuracy: 0.6445 - val_loss: 0.9328 - val_accuracy: 0.6608\n",
            "Epoch 93/100\n",
            "603/603 [==============================] - 48s 78ms/step - loss: 0.9905 - accuracy: 0.6350 - val_loss: 0.9141 - val_accuracy: 0.6717\n",
            "Epoch 94/100\n",
            "603/603 [==============================] - 48s 78ms/step - loss: 0.9853 - accuracy: 0.6385 - val_loss: 0.9085 - val_accuracy: 0.6714\n",
            "Epoch 95/100\n",
            "603/603 [==============================] - 49s 80ms/step - loss: 0.9817 - accuracy: 0.6379 - val_loss: 0.9082 - val_accuracy: 0.6665\n",
            "Epoch 96/100\n",
            "603/603 [==============================] - 50s 82ms/step - loss: 0.9861 - accuracy: 0.6414 - val_loss: 0.9138 - val_accuracy: 0.6668\n",
            "Epoch 97/100\n",
            "603/603 [==============================] - 48s 79ms/step - loss: 0.9834 - accuracy: 0.6423 - val_loss: 0.8991 - val_accuracy: 0.6701\n",
            "Epoch 98/100\n",
            "603/603 [==============================] - 48s 79ms/step - loss: 0.9844 - accuracy: 0.6413 - val_loss: 0.9243 - val_accuracy: 0.6592\n",
            "Epoch 99/100\n",
            "603/603 [==============================] - 47s 78ms/step - loss: 0.9765 - accuracy: 0.6409 - val_loss: 0.9141 - val_accuracy: 0.6639\n",
            "Epoch 100/100\n",
            "603/603 [==============================] - 48s 79ms/step - loss: 0.9861 - accuracy: 0.6401 - val_loss: 0.9070 - val_accuracy: 0.6701\n"
          ]
        }
      ],
      "source": [
        "initial_epochs = 100\n",
        "\n",
        "history = model.fit(train_dataset,\n",
        "                    epochs=initial_epochs,\n",
        "                    validation_data=validation_dataset)"
      ]
    },
    {
      "cell_type": "code",
      "execution_count": null,
      "metadata": {
        "colab": {
          "base_uri": "https://localhost:8080/",
          "height": 718
        },
        "id": "FeHyhrSUp2e7",
        "outputId": "a17b9882-1f43-4c07-ebc2-3a8d98848631"
      },
      "outputs": [
        {
          "data": {
            "image/png": "[encoded data removed]",
            "text/plain": [
              "<Figure size 800x800 with 2 Axes>"
            ]
          },
          "metadata": {},
          "output_type": "display_data"
        }
      ],
      "source": [
        "acc = history.history['accuracy']\n",
        "val_acc = history.history['val_accuracy']\n",
        "\n",
        "loss = history.history['loss']\n",
        "val_loss = history.history['val_loss']\n",
        "\n",
        "plt.figure(figsize=(8, 8))\n",
        "plt.subplot(2, 1, 1)\n",
        "plt.plot(acc, label='Training Accuracy')\n",
        "plt.plot(val_acc, label='Validation Accuracy')\n",
        "plt.legend(loc='lower right')\n",
        "plt.ylabel('Accuracy')\n",
        "plt.ylim([min(plt.ylim()),1])\n",
        "plt.title('Training and Validation Accuracy')\n",
        "\n",
        "plt.subplot(2, 1, 2)\n",
        "plt.plot(loss, label='Training Loss')\n",
        "plt.plot(val_loss, label='Validation Loss')\n",
        "plt.legend(loc='upper right')\n",
        "plt.ylabel('Cross Entropy')\n",
        "plt.ylim([0,1.0])\n",
        "plt.title('Training and Validation Loss')\n",
        "plt.xlabel('epoch')\n",
        "plt.show()"
      ]
    },
    {
      "cell_type": "markdown",
      "metadata": {
        "id": "VxC1ceC7p2e8"
      },
      "source": [
        "## Menambahkan Fine Tuning Model"
      ]
    },
    {
      "cell_type": "code",
      "execution_count": null,
      "metadata": {
        "id": "GvvudVSep2e8"
      },
      "outputs": [],
      "source": [
        "base_model.trainable = True"
      ]
    },
    {
      "cell_type": "code",
      "execution_count": null,
      "metadata": {
        "colab": {
          "base_uri": "https://localhost:8080/"
        },
        "id": "I8Pz82Gwp2e8",
        "outputId": "13519a79-0a8c-43fa-d415-11f605068430"
      },
      "outputs": [
        {
          "name": "stdout",
          "output_type": "stream",
          "text": [
            "Number of layers in the base model:  154\n"
          ]
        }
      ],
      "source": [
        "# Let's take a look to see how many layers are in the base model\n",
        "print(\"Number of layers in the base model: \", len(base_model.layers))\n",
        "\n",
        "# Fine-tune from this layer onwards\n",
        "fine_tune_at = 100\n",
        "\n",
        "# Freeze all the layers before the `fine_tune_at` layer\n",
        "for layer in base_model.layers[:fine_tune_at]:\n",
        "  layer.trainable = False"
      ]
    },
    {
      "cell_type": "code",
      "execution_count": null,
      "metadata": {
        "id": "aHy1qSVep2e9"
      },
      "outputs": [],
      "source": [
        "model.compile(loss=tf.losses.SparseCategoricalCrossentropy(from_logits=True),\n",
        "              optimizer = tf.keras.optimizers.RMSprop(learning_rate=base_learning_rate/10),\n",
        "              metrics=['accuracy'])"
      ]
    },
    {
      "cell_type": "code",
      "execution_count": null,
      "metadata": {
        "colab": {
          "base_uri": "https://localhost:8080/"
        },
        "id": "qo-G6Zrsp2e9",
        "outputId": "df693d38-d15d-4685-c5ab-36dcdc283a32"
      },
      "outputs": [
        {
          "name": "stdout",
          "output_type": "stream",
          "text": [
            "Model: \"model_3\"\n",
            "_________________________________________________________________\n",
            " Layer (type)                Output Shape              Param #   \n",
            "=================================================================\n",
            " input_8 (InputLayer)        [(None, 80, 80, 3)]       0         \n",
            "                                                                 \n",
            " sequential_2 (Sequential)   (None, 80, 80, 3)         0         \n",
            "                                                                 \n",
            " tf.math.truediv_3 (TFOpLamb  (None, 80, 80, 3)        0         \n",
            " da)                                                             \n",
            "                                                                 \n",
            " tf.math.subtract_3 (TFOpLam  (None, 80, 80, 3)        0         \n",
            " bda)                                                            \n",
            "                                                                 \n",
            " mobilenetv2_1.00_224 (Funct  (None, 3, 3, 1280)       2257984   \n",
            " ional)                                                          \n",
            "                                                                 \n",
            " global_average_pooling2d_2   (None, 1280)             0         \n",
            " (GlobalAveragePooling2D)                                        \n",
            "                                                                 \n",
            " dropout_3 (Dropout)         (None, 1280)              0         \n",
            "                                                                 \n",
            " dense_2 (Dense)             (None, 8)                 10248     \n",
            "                                                                 \n",
            "=================================================================\n",
            "Total params: 2,268,232\n",
            "Trainable params: 1,871,688\n",
            "Non-trainable params: 396,544\n",
            "_________________________________________________________________\n"
          ]
        }
      ],
      "source": [
        "model.summary()"
      ]
    },
    {
      "cell_type": "code",
      "execution_count": null,
      "metadata": {
        "colab": {
          "base_uri": "https://localhost:8080/"
        },
        "id": "Es6t-xOFp2e-",
        "outputId": "9addb903-87e5-46a6-dc23-7806cb971aba"
      },
      "outputs": [
        {
          "name": "stdout",
          "output_type": "stream",
          "text": [
            "Epoch 100/150\n",
            "603/603 [==============================] - 62s 87ms/step - loss: 0.8950 - accuracy: 0.6758 - val_loss: 0.8313 - val_accuracy: 0.6942\n",
            "Epoch 101/150\n",
            "603/603 [==============================] - 54s 88ms/step - loss: 0.7646 - accuracy: 0.7206 - val_loss: 0.6910 - val_accuracy: 0.7416\n",
            "Epoch 102/150\n",
            "603/603 [==============================] - 52s 86ms/step - loss: 0.6816 - accuracy: 0.7459 - val_loss: 0.6362 - val_accuracy: 0.7600\n",
            "Epoch 103/150\n",
            "603/603 [==============================] - 52s 85ms/step - loss: 0.5966 - accuracy: 0.7794 - val_loss: 0.5902 - val_accuracy: 0.7807\n",
            "Epoch 104/150\n",
            "603/603 [==============================] - 52s 86ms/step - loss: 0.5399 - accuracy: 0.8032 - val_loss: 0.5508 - val_accuracy: 0.8014\n",
            "Epoch 105/150\n",
            "603/603 [==============================] - 53s 88ms/step - loss: 0.4884 - accuracy: 0.8219 - val_loss: 0.4620 - val_accuracy: 0.8247\n",
            "Epoch 106/150\n",
            "603/603 [==============================] - 51s 84ms/step - loss: 0.4503 - accuracy: 0.8362 - val_loss: 0.4361 - val_accuracy: 0.8358\n",
            "Epoch 107/150\n",
            "603/603 [==============================] - 52s 85ms/step - loss: 0.4106 - accuracy: 0.8524 - val_loss: 0.4546 - val_accuracy: 0.8322\n",
            "Epoch 108/150\n",
            "603/603 [==============================] - 51s 85ms/step - loss: 0.3715 - accuracy: 0.8655 - val_loss: 0.4535 - val_accuracy: 0.8314\n",
            "Epoch 109/150\n",
            "603/603 [==============================] - 52s 85ms/step - loss: 0.3378 - accuracy: 0.8769 - val_loss: 0.3703 - val_accuracy: 0.8615\n",
            "Epoch 110/150\n",
            "603/603 [==============================] - 52s 85ms/step - loss: 0.3154 - accuracy: 0.8819 - val_loss: 0.3341 - val_accuracy: 0.8845\n",
            "Epoch 111/150\n",
            "603/603 [==============================] - 51s 84ms/step - loss: 0.2893 - accuracy: 0.8950 - val_loss: 0.3361 - val_accuracy: 0.8736\n",
            "Epoch 112/150\n",
            "603/603 [==============================] - 52s 86ms/step - loss: 0.2704 - accuracy: 0.9008 - val_loss: 0.3043 - val_accuracy: 0.8874\n",
            "Epoch 113/150\n",
            "603/603 [==============================] - 53s 87ms/step - loss: 0.2509 - accuracy: 0.9105 - val_loss: 0.2865 - val_accuracy: 0.8944\n",
            "Epoch 114/150\n",
            "603/603 [==============================] - 51s 85ms/step - loss: 0.2265 - accuracy: 0.9216 - val_loss: 0.2940 - val_accuracy: 0.8905\n",
            "Epoch 115/150\n",
            "603/603 [==============================] - 52s 86ms/step - loss: 0.2077 - accuracy: 0.9268 - val_loss: 0.2330 - val_accuracy: 0.9068\n",
            "Epoch 116/150\n",
            "603/603 [==============================] - 52s 86ms/step - loss: 0.1906 - accuracy: 0.9334 - val_loss: 0.1908 - val_accuracy: 0.9327\n",
            "Epoch 117/150\n",
            "603/603 [==============================] - 52s 85ms/step - loss: 0.1799 - accuracy: 0.9382 - val_loss: 0.2289 - val_accuracy: 0.9177\n",
            "Epoch 118/150\n",
            "603/603 [==============================] - 52s 86ms/step - loss: 0.1700 - accuracy: 0.9410 - val_loss: 0.2379 - val_accuracy: 0.9143\n",
            "Epoch 119/150\n",
            "603/603 [==============================] - 53s 87ms/step - loss: 0.1593 - accuracy: 0.9442 - val_loss: 0.1829 - val_accuracy: 0.9373\n",
            "Epoch 120/150\n",
            "603/603 [==============================] - 52s 86ms/step - loss: 0.1498 - accuracy: 0.9476 - val_loss: 0.2433 - val_accuracy: 0.9127\n",
            "Epoch 121/150\n",
            "603/603 [==============================] - 52s 85ms/step - loss: 0.1366 - accuracy: 0.9523 - val_loss: 0.2002 - val_accuracy: 0.9265\n",
            "Epoch 122/150\n",
            "603/603 [==============================] - 53s 87ms/step - loss: 0.1281 - accuracy: 0.9553 - val_loss: 0.1702 - val_accuracy: 0.9381\n",
            "Epoch 123/150\n",
            "603/603 [==============================] - 53s 86ms/step - loss: 0.1164 - accuracy: 0.9607 - val_loss: 0.1704 - val_accuracy: 0.9420\n",
            "Epoch 124/150\n",
            "603/603 [==============================] - 52s 86ms/step - loss: 0.1081 - accuracy: 0.9639 - val_loss: 0.1856 - val_accuracy: 0.9376\n",
            "Epoch 125/150\n",
            "603/603 [==============================] - 55s 90ms/step - loss: 0.1067 - accuracy: 0.9643 - val_loss: 0.1671 - val_accuracy: 0.9412\n",
            "Epoch 126/150\n",
            "603/603 [==============================] - 52s 86ms/step - loss: 0.0994 - accuracy: 0.9646 - val_loss: 0.1320 - val_accuracy: 0.9549\n",
            "Epoch 127/150\n",
            "603/603 [==============================] - 52s 86ms/step - loss: 0.0921 - accuracy: 0.9679 - val_loss: 0.1606 - val_accuracy: 0.9423\n",
            "Epoch 128/150\n",
            "603/603 [==============================] - 53s 87ms/step - loss: 0.0875 - accuracy: 0.9693 - val_loss: 0.1736 - val_accuracy: 0.9379\n",
            "Epoch 129/150\n",
            "603/603 [==============================] - 52s 85ms/step - loss: 0.0852 - accuracy: 0.9711 - val_loss: 0.1234 - val_accuracy: 0.9578\n",
            "Epoch 130/150\n",
            "603/603 [==============================] - 52s 85ms/step - loss: 0.0781 - accuracy: 0.9725 - val_loss: 0.1504 - val_accuracy: 0.9469\n",
            "Epoch 131/150\n",
            "603/603 [==============================] - 54s 88ms/step - loss: 0.0709 - accuracy: 0.9767 - val_loss: 0.1223 - val_accuracy: 0.9575\n",
            "Epoch 132/150\n",
            "603/603 [==============================] - 52s 86ms/step - loss: 0.0743 - accuracy: 0.9738 - val_loss: 0.0968 - val_accuracy: 0.9684\n",
            "Epoch 133/150\n",
            "603/603 [==============================] - 52s 86ms/step - loss: 0.0668 - accuracy: 0.9773 - val_loss: 0.1043 - val_accuracy: 0.9632\n",
            "Epoch 134/150\n",
            "603/603 [==============================] - 52s 84ms/step - loss: 0.0648 - accuracy: 0.9784 - val_loss: 0.1176 - val_accuracy: 0.9586\n",
            "Epoch 135/150\n",
            "603/603 [==============================] - 52s 86ms/step - loss: 0.0609 - accuracy: 0.9794 - val_loss: 0.0830 - val_accuracy: 0.9718\n",
            "Epoch 136/150\n",
            "603/603 [==============================] - 52s 86ms/step - loss: 0.0572 - accuracy: 0.9812 - val_loss: 0.1348 - val_accuracy: 0.9516\n",
            "Epoch 137/150\n",
            "603/603 [==============================] - 53s 87ms/step - loss: 0.0591 - accuracy: 0.9807 - val_loss: 0.1195 - val_accuracy: 0.9596\n",
            "Epoch 138/150\n",
            "603/603 [==============================] - 52s 86ms/step - loss: 0.0511 - accuracy: 0.9828 - val_loss: 0.1326 - val_accuracy: 0.9555\n",
            "Epoch 139/150\n",
            "603/603 [==============================] - 52s 86ms/step - loss: 0.0509 - accuracy: 0.9835 - val_loss: 0.0763 - val_accuracy: 0.9738\n",
            "Epoch 140/150\n",
            "603/603 [==============================] - 53s 87ms/step - loss: 0.0488 - accuracy: 0.9837 - val_loss: 0.0825 - val_accuracy: 0.9710\n",
            "Epoch 141/150\n",
            "603/603 [==============================] - 52s 86ms/step - loss: 0.0501 - accuracy: 0.9840 - val_loss: 0.0846 - val_accuracy: 0.9715\n",
            "Epoch 142/150\n",
            "603/603 [==============================] - 52s 86ms/step - loss: 0.0466 - accuracy: 0.9841 - val_loss: 0.0837 - val_accuracy: 0.9720\n",
            "Epoch 143/150\n",
            "603/603 [==============================] - 52s 86ms/step - loss: 0.0443 - accuracy: 0.9858 - val_loss: 0.1099 - val_accuracy: 0.9614\n",
            "Epoch 144/150\n",
            "603/603 [==============================] - 52s 86ms/step - loss: 0.0401 - accuracy: 0.9866 - val_loss: 0.0854 - val_accuracy: 0.9702\n",
            "Epoch 145/150\n",
            "603/603 [==============================] - 51s 85ms/step - loss: 0.0417 - accuracy: 0.9865 - val_loss: 0.0937 - val_accuracy: 0.9689\n",
            "Epoch 146/150\n",
            "603/603 [==============================] - 51s 84ms/step - loss: 0.0377 - accuracy: 0.9878 - val_loss: 0.0653 - val_accuracy: 0.9793\n",
            "Epoch 147/150\n",
            "603/603 [==============================] - 52s 86ms/step - loss: 0.0392 - accuracy: 0.9879 - val_loss: 0.1669 - val_accuracy: 0.9485\n",
            "Epoch 148/150\n",
            "603/603 [==============================] - 59s 96ms/step - loss: 0.0355 - accuracy: 0.9889 - val_loss: 0.0779 - val_accuracy: 0.9767\n",
            "Epoch 149/150\n",
            "603/603 [==============================] - 53s 87ms/step - loss: 0.0347 - accuracy: 0.9886 - val_loss: 0.0575 - val_accuracy: 0.9785\n",
            "Epoch 150/150\n",
            "603/603 [==============================] - 52s 85ms/step - loss: 0.0313 - accuracy: 0.9897 - val_loss: 0.0598 - val_accuracy: 0.9834\n"
          ]
        }
      ],
      "source": [
        "fine_tune_epochs = 50\n",
        "total_epochs =  initial_epochs + fine_tune_epochs\n",
        "\n",
        "history_fine = model.fit(train_dataset,\n",
        "                         epochs=total_epochs,\n",
        "                         initial_epoch=history.epoch[-1],\n",
        "                         validation_data=validation_dataset)"
      ]
    },
    {
      "cell_type": "code",
      "execution_count": null,
      "metadata": {
        "colab": {
          "base_uri": "https://localhost:8080/",
          "height": 718
        },
        "id": "g9bejGg8p2e-",
        "outputId": "dae17774-863c-4518-8adc-b0003f036cc0"
      },
      "outputs": [
        {
          "data": {
            "image/png": "[encoded data removed]",
            "text/plain": [
              "<Figure size 800x800 with 2 Axes>"
            ]
          },
          "metadata": {},
          "output_type": "display_data"
        }
      ],
      "source": [
        "acc += history_fine.history['accuracy']\n",
        "val_acc += history_fine.history['val_accuracy']\n",
        "\n",
        "loss += history_fine.history['loss']\n",
        "val_loss += history_fine.history['val_loss']\n",
        "\n",
        "plt.figure(figsize=(8, 8))\n",
        "plt.subplot(2, 1, 1)\n",
        "plt.plot(acc, label='Training Accuracy')\n",
        "plt.plot(val_acc, label='Validation Accuracy')\n",
        "plt.ylim([0.8, 1])\n",
        "plt.plot([initial_epochs-1,initial_epochs-1],\n",
        "          plt.ylim(), label='Start Fine Tuning')\n",
        "plt.legend(loc='lower right')\n",
        "plt.title('Training and Validation Accuracy')\n",
        "\n",
        "plt.subplot(2, 1, 2)\n",
        "plt.plot(loss, label='Training Loss')\n",
        "plt.plot(val_loss, label='Validation Loss')\n",
        "plt.ylim([0, 1.0])\n",
        "plt.plot([initial_epochs-1,initial_epochs-1],\n",
        "         plt.ylim(), label='Start Fine Tuning')\n",
        "plt.legend(loc='upper right')\n",
        "plt.title('Training and Validation Loss')\n",
        "plt.xlabel('epoch')\n",
        "plt.show()"
      ]
    },
    {
      "cell_type": "code",
      "execution_count": null,
      "metadata": {
        "colab": {
          "base_uri": "https://localhost:8080/"
        },
        "id": "Ak5E_ZArp2e-",
        "outputId": "c7452d73-8dbf-4bcc-eb72-f8f2124ee7d6"
      },
      "outputs": [
        {
          "name": "stdout",
          "output_type": "stream",
          "text": [
            "30/30 [==============================] - 2s 59ms/step - loss: 0.0400 - accuracy: 0.9875\n",
            "Test accuracy : 0.987500011920929\n"
          ]
        }
      ],
      "source": [
        "loss, accuracy = model.evaluate(test_dataset)\n",
        "print('Test accuracy :', accuracy)"
      ]
    },
    {
      "cell_type": "code",
      "execution_count": null,
      "metadata": {
        "id": "SL5Iu-XRp2e_"
      },
      "outputs": [],
      "source": [
        "model.save('Skin_Disease_2.h5')"
      ]
    },
    {
      "cell_type": "markdown",
      "metadata": {
        "id": "WmIfBiW-uL3x"
      },
      "source": [
        "# Test the model"
      ]
    },
    {
      "cell_type": "markdown",
      "metadata": {
        "id": "WfZUwjG8uO8Y"
      },
      "source": [
        "## Newly created model that has just created before ^^^\n",
        "\n"
      ]
    },
    {
      "cell_type": "code",
      "source": [
        "TARGET_SIZE = (160, 160)\n",
        "DISEASE_DICT = {\n",
        "    0: \"Actinic Keratosis\",\n",
        "    1: \"Basal Cell Carcinoma\",\n",
        "    2: \"Benign keratosis\",\n",
        "    3: \"Dermatofibroma\",\n",
        "    4: \"Melanocytic Nevus\",\n",
        "    5: \"Melanoma\",\n",
        "    6: \"Squamous Cell Carcinoma\",\n",
        "    7: \"Vascular Lesion\",\n",
        "}"
      ],
      "metadata": {
        "id": "53lC04F0TKVG"
      },
      "execution_count": null,
      "outputs": []
    },
    {
      "cell_type": "code",
      "execution_count": null,
      "metadata": {
        "colab": {
          "base_uri": "https://localhost:8080/",
          "height": 146
        },
        "id": "lJpsaHGbp2e_",
        "outputId": "4a298f6d-af50-4d52-c6f0-4805eefc86d5"
      },
      "outputs": [
        {
          "data": {
            "text/html": [
              "\n",
              "     <input type=\"file\" id=\"files-26da4807-f71b-421d-8d28-c97e84d14d69\" name=\"files[]\" multiple disabled\n",
              "        style=\"border:none\" />\n",
              "     <output id=\"result-26da4807-f71b-421d-8d28-c97e84d14d69\">\n",
              "      Upload widget is only available when the cell has been executed in the\n",
              "      current browser session. Please rerun this cell to enable.\n",
              "      </output>\n",
              "      <script>// Copyright 2017 Google LLC\n",
              "//\n",
              "// Licensed under the Apache License, Version 2.0 (the \"License\");\n",
              "// you may not use this file except in compliance with the License.\n",
              "// You may obtain a copy of the License at\n",
              "//\n",
              "//      http://www.apache.org/licenses/LICENSE-2.0\n",
              "//\n",
              "// Unless required by applicable law or agreed to in writing, software\n",
              "// distributed under the License is distributed on an \"AS IS\" BASIS,\n",
              "// WITHOUT WARRANTIES OR CONDITIONS OF ANY KIND, either express or implied.\n",
              "// See the License for the specific language governing permissions and\n",
              "// limitations under the License.\n",
              "\n",
              "/**\n",
              " * @fileoverview Helpers for google.colab Python module.\n",
              " */\n",
              "(function(scope) {\n",
              "function span(text, styleAttributes = {}) {\n",
              "  const element = document.createElement('span');\n",
              "  element.textContent = text;\n",
              "  for (const key of Object.keys(styleAttributes)) {\n",
              "    element.style[key] = styleAttributes[key];\n",
              "  }\n",
              "  return element;\n",
              "}\n",
              "\n",
              "// Max number of bytes which will be uploaded at a time.\n",
              "const MAX_PAYLOAD_SIZE = 100 * 1024;\n",
              "\n",
              "function _uploadFiles(inputId, outputId) {\n",
              "  const steps = uploadFilesStep(inputId, outputId);\n",
              "  const outputElement = document.getElementById(outputId);\n",
              "  // Cache steps on the outputElement to make it available for the next call\n",
              "  // to uploadFilesContinue from Python.\n",
              "  outputElement.steps = steps;\n",
              "\n",
              "  return _uploadFilesContinue(outputId);\n",
              "}\n",
              "\n",
              "// This is roughly an async generator (not supported in the browser yet),\n",
              "// where there are multiple asynchronous steps and the Python side is going\n",
              "// to poll for completion of each step.\n",
              "// This uses a Promise to block the python side on completion of each step,\n",
              "// then passes the result of the previous step as the input to the next step.\n",
              "function _uploadFilesContinue(outputId) {\n",
              "  const outputElement = document.getElementById(outputId);\n",
              "  const steps = outputElement.steps;\n",
              "\n",
              "  const next = steps.next(outputElement.lastPromiseValue);\n",
              "  return Promise.resolve(next.value.promise).then((value) => {\n",
              "    // Cache the last promise value to make it available to the next\n",
              "    // step of the generator.\n",
              "    outputElement.lastPromiseValue = value;\n",
              "    return next.value.response;\n",
              "  });\n",
              "}\n",
              "\n",
              "/**\n",
              " * Generator function which is called between each async step of the upload\n",
              " * process.\n",
              " * @param {string} inputId Element ID of the input file picker element.\n",
              " * @param {string} outputId Element ID of the output display.\n",
              " * @return {!Iterable<!Object>} Iterable of next steps.\n",
              " */\n",
              "function* uploadFilesStep(inputId, outputId) {\n",
              "  const inputElement = document.getElementById(inputId);\n",
              "  inputElement.disabled = false;\n",
              "\n",
              "  const outputElement = document.getElementById(outputId);\n",
              "  outputElement.innerHTML = '';\n",
              "\n",
              "  const pickedPromise = new Promise((resolve) => {\n",
              "    inputElement.addEventListener('change', (e) => {\n",
              "      resolve(e.target.files);\n",
              "    });\n",
              "  });\n",
              "\n",
              "  const cancel = document.createElement('button');\n",
              "  inputElement.parentElement.appendChild(cancel);\n",
              "  cancel.textContent = 'Cancel upload';\n",
              "  const cancelPromise = new Promise((resolve) => {\n",
              "    cancel.onclick = () => {\n",
              "      resolve(null);\n",
              "    };\n",
              "  });\n",
              "\n",
              "  // Wait for the user to pick the files.\n",
              "  const files = yield {\n",
              "    promise: Promise.race([pickedPromise, cancelPromise]),\n",
              "    response: {\n",
              "      action: 'starting',\n",
              "    }\n",
              "  };\n",
              "\n",
              "  cancel.remove();\n",
              "\n",
              "  // Disable the input element since further picks are not allowed.\n",
              "  inputElement.disabled = true;\n",
              "\n",
              "  if (!files) {\n",
              "    return {\n",
              "      response: {\n",
              "        action: 'complete',\n",
              "      }\n",
              "    };\n",
              "  }\n",
              "\n",
              "  for (const file of files) {\n",
              "    const li = document.createElement('li');\n",
              "    li.append(span(file.name, {fontWeight: 'bold'}));\n",
              "    li.append(span(\n",
              "        `(${file.type || 'n/a'}) - ${file.size} bytes, ` +\n",
              "        `last modified: ${\n",
              "            file.lastModifiedDate ? file.lastModifiedDate.toLocaleDateString() :\n",
              "                                    'n/a'} - `));\n",
              "    const percent = span('0% done');\n",
              "    li.appendChild(percent);\n",
              "\n",
              "    outputElement.appendChild(li);\n",
              "\n",
              "    const fileDataPromise = new Promise((resolve) => {\n",
              "      const reader = new FileReader();\n",
              "      reader.onload = (e) => {\n",
              "        resolve(e.target.result);\n",
              "      };\n",
              "      reader.readAsArrayBuffer(file);\n",
              "    });\n",
              "    // Wait for the data to be ready.\n",
              "    let fileData = yield {\n",
              "      promise: fileDataPromise,\n",
              "      response: {\n",
              "        action: 'continue',\n",
              "      }\n",
              "    };\n",
              "\n",
              "    // Use a chunked sending to avoid message size limits. See b/62115660.\n",
              "    let position = 0;\n",
              "    do {\n",
              "      const length = Math.min(fileData.byteLength - position, MAX_PAYLOAD_SIZE);\n",
              "      const chunk = new Uint8Array(fileData, position, length);\n",
              "      position += length;\n",
              "\n",
              "      const base64 = btoa(String.fromCharCode.apply(null, chunk));\n",
              "      yield {\n",
              "        response: {\n",
              "          action: 'append',\n",
              "          file: file.name,\n",
              "          data: base64,\n",
              "        },\n",
              "      };\n",
              "\n",
              "      let percentDone = fileData.byteLength === 0 ?\n",
              "          100 :\n",
              "          Math.round((position / fileData.byteLength) * 100);\n",
              "      percent.textContent = `${percentDone}% done`;\n",
              "\n",
              "    } while (position < fileData.byteLength);\n",
              "  }\n",
              "\n",
              "  // All done.\n",
              "  yield {\n",
              "    response: {\n",
              "      action: 'complete',\n",
              "    }\n",
              "  };\n",
              "}\n",
              "\n",
              "scope.google = scope.google || {};\n",
              "scope.google.colab = scope.google.colab || {};\n",
              "scope.google.colab._files = {\n",
              "  _uploadFiles,\n",
              "  _uploadFilesContinue,\n",
              "};\n",
              "})(self);\n",
              "</script> "
            ],
            "text/plain": [
              "<IPython.core.display.HTML object>"
            ]
          },
          "metadata": {},
          "output_type": "display_data"
        },
        {
          "name": "stdout",
          "output_type": "stream",
          "text": [
            "Saving melanoma.jpeg to melanoma.jpeg\n",
            "1/1 [==============================] - 1s 1s/step\n",
            "[[2.0973764e-10 1.1495307e-04 9.9987042e-01 3.0596958e-10 5.6506706e-06\n",
            "  2.5510456e-06 4.0182402e-12 6.4616565e-06]]\n",
            "Please input correct image!.\n"
          ]
        }
      ],
      "source": [
        "## CODE BLOCK FOR NON-SAFARI BROWSERS\n",
        "## SAFARI USERS: PLEASE SKIP THIS BLOCK AND RUN THE NEXT ONE INSTEAD\n",
        "\n",
        "import numpy as np\n",
        "from google.colab import files\n",
        "\n",
        "uploaded = files.upload()\n",
        "\n",
        "for fn in uploaded.keys():\n",
        " \n",
        "  # predicting images\n",
        "  path = fn\n",
        "  img = tf.keras.utils.load_img(path, target_size=TARGET_SIZE)\n",
        "  x = tf.keras.utils.img_to_array(img)\n",
        "  x = np.expand_dims(x, axis=0)\n",
        "\n",
        "  images = np.vstack([x])\n",
        "  classes = model.predict(images, batch_size=32)\n",
        "\n",
        "  prediction = np.argmax(classes)\n",
        "  print(\"The disease was: \" + DISEASE_DICT.get(prediction))"
      ]
    },
    {
      "cell_type": "markdown",
      "metadata": {
        "id": "MPFKfUAnuUxl"
      },
      "source": [
        "## Import model"
      ]
    },
    {
      "cell_type": "code",
      "execution_count": null,
      "metadata": {
        "id": "g4gMeeD22UML"
      },
      "outputs": [],
      "source": [
        "TARGET_SIZE = (160, 160)"
      ]
    },
    {
      "cell_type": "code",
      "execution_count": null,
      "metadata": {
        "id": "s2T3Ka0vQFOJ"
      },
      "outputs": [],
      "source": [
        "DISEASE_DICT = {\n",
        "    0: \"Actinic Keratosis\",\n",
        "    1: \"Basal Cell Carcinoma\",\n",
        "    2: \"Benign keratosis\",\n",
        "    3: \"Dermatofibroma\",\n",
        "    4: \"Melanocytic Nevus\",\n",
        "    5: \"Melanoma\",\n",
        "    6: \"Squamous Cell Carcinoma\",\n",
        "    7: \"Vascular Lesion\",\n",
        "}"
      ]
    },
    {
      "cell_type": "code",
      "execution_count": null,
      "metadata": {
        "colab": {
          "base_uri": "https://localhost:8080/",
          "height": 110
        },
        "id": "FMEEBaQTNZnc",
        "outputId": "fecb6542-1fc2-4d7c-b866-78b3c98ed16c"
      },
      "outputs": [
        {
          "output_type": "display_data",
          "data": {
            "text/plain": [
              "<IPython.core.display.HTML object>"
            ],
            "text/html": [
              "\n",
              "     <input type=\"file\" id=\"files-b407f703-5eea-4ca4-aed4-a25a992a9ed9\" name=\"files[]\" multiple disabled\n",
              "        style=\"border:none\" />\n",
              "     <output id=\"result-b407f703-5eea-4ca4-aed4-a25a992a9ed9\">\n",
              "      Upload widget is only available when the cell has been executed in the\n",
              "      current browser session. Please rerun this cell to enable.\n",
              "      </output>\n",
              "      <script>// Copyright 2017 Google LLC\n",
              "//\n",
              "// Licensed under the Apache License, Version 2.0 (the \"License\");\n",
              "// you may not use this file except in compliance with the License.\n",
              "// You may obtain a copy of the License at\n",
              "//\n",
              "//      http://www.apache.org/licenses/LICENSE-2.0\n",
              "//\n",
              "// Unless required by applicable law or agreed to in writing, software\n",
              "// distributed under the License is distributed on an \"AS IS\" BASIS,\n",
              "// WITHOUT WARRANTIES OR CONDITIONS OF ANY KIND, either express or implied.\n",
              "// See the License for the specific language governing permissions and\n",
              "// limitations under the License.\n",
              "\n",
              "/**\n",
              " * @fileoverview Helpers for google.colab Python module.\n",
              " */\n",
              "(function(scope) {\n",
              "function span(text, styleAttributes = {}) {\n",
              "  const element = document.createElement('span');\n",
              "  element.textContent = text;\n",
              "  for (const key of Object.keys(styleAttributes)) {\n",
              "    element.style[key] = styleAttributes[key];\n",
              "  }\n",
              "  return element;\n",
              "}\n",
              "\n",
              "// Max number of bytes which will be uploaded at a time.\n",
              "const MAX_PAYLOAD_SIZE = 100 * 1024;\n",
              "\n",
              "function _uploadFiles(inputId, outputId) {\n",
              "  const steps = uploadFilesStep(inputId, outputId);\n",
              "  const outputElement = document.getElementById(outputId);\n",
              "  // Cache steps on the outputElement to make it available for the next call\n",
              "  // to uploadFilesContinue from Python.\n",
              "  outputElement.steps = steps;\n",
              "\n",
              "  return _uploadFilesContinue(outputId);\n",
              "}\n",
              "\n",
              "// This is roughly an async generator (not supported in the browser yet),\n",
              "// where there are multiple asynchronous steps and the Python side is going\n",
              "// to poll for completion of each step.\n",
              "// This uses a Promise to block the python side on completion of each step,\n",
              "// then passes the result of the previous step as the input to the next step.\n",
              "function _uploadFilesContinue(outputId) {\n",
              "  const outputElement = document.getElementById(outputId);\n",
              "  const steps = outputElement.steps;\n",
              "\n",
              "  const next = steps.next(outputElement.lastPromiseValue);\n",
              "  return Promise.resolve(next.value.promise).then((value) => {\n",
              "    // Cache the last promise value to make it available to the next\n",
              "    // step of the generator.\n",
              "    outputElement.lastPromiseValue = value;\n",
              "    return next.value.response;\n",
              "  });\n",
              "}\n",
              "\n",
              "/**\n",
              " * Generator function which is called between each async step of the upload\n",
              " * process.\n",
              " * @param {string} inputId Element ID of the input file picker element.\n",
              " * @param {string} outputId Element ID of the output display.\n",
              " * @return {!Iterable<!Object>} Iterable of next steps.\n",
              " */\n",
              "function* uploadFilesStep(inputId, outputId) {\n",
              "  const inputElement = document.getElementById(inputId);\n",
              "  inputElement.disabled = false;\n",
              "\n",
              "  const outputElement = document.getElementById(outputId);\n",
              "  outputElement.innerHTML = '';\n",
              "\n",
              "  const pickedPromise = new Promise((resolve) => {\n",
              "    inputElement.addEventListener('change', (e) => {\n",
              "      resolve(e.target.files);\n",
              "    });\n",
              "  });\n",
              "\n",
              "  const cancel = document.createElement('button');\n",
              "  inputElement.parentElement.appendChild(cancel);\n",
              "  cancel.textContent = 'Cancel upload';\n",
              "  const cancelPromise = new Promise((resolve) => {\n",
              "    cancel.onclick = () => {\n",
              "      resolve(null);\n",
              "    };\n",
              "  });\n",
              "\n",
              "  // Wait for the user to pick the files.\n",
              "  const files = yield {\n",
              "    promise: Promise.race([pickedPromise, cancelPromise]),\n",
              "    response: {\n",
              "      action: 'starting',\n",
              "    }\n",
              "  };\n",
              "\n",
              "  cancel.remove();\n",
              "\n",
              "  // Disable the input element since further picks are not allowed.\n",
              "  inputElement.disabled = true;\n",
              "\n",
              "  if (!files) {\n",
              "    return {\n",
              "      response: {\n",
              "        action: 'complete',\n",
              "      }\n",
              "    };\n",
              "  }\n",
              "\n",
              "  for (const file of files) {\n",
              "    const li = document.createElement('li');\n",
              "    li.append(span(file.name, {fontWeight: 'bold'}));\n",
              "    li.append(span(\n",
              "        `(${file.type || 'n/a'}) - ${file.size} bytes, ` +\n",
              "        `last modified: ${\n",
              "            file.lastModifiedDate ? file.lastModifiedDate.toLocaleDateString() :\n",
              "                                    'n/a'} - `));\n",
              "    const percent = span('0% done');\n",
              "    li.appendChild(percent);\n",
              "\n",
              "    outputElement.appendChild(li);\n",
              "\n",
              "    const fileDataPromise = new Promise((resolve) => {\n",
              "      const reader = new FileReader();\n",
              "      reader.onload = (e) => {\n",
              "        resolve(e.target.result);\n",
              "      };\n",
              "      reader.readAsArrayBuffer(file);\n",
              "    });\n",
              "    // Wait for the data to be ready.\n",
              "    let fileData = yield {\n",
              "      promise: fileDataPromise,\n",
              "      response: {\n",
              "        action: 'continue',\n",
              "      }\n",
              "    };\n",
              "\n",
              "    // Use a chunked sending to avoid message size limits. See b/62115660.\n",
              "    let position = 0;\n",
              "    do {\n",
              "      const length = Math.min(fileData.byteLength - position, MAX_PAYLOAD_SIZE);\n",
              "      const chunk = new Uint8Array(fileData, position, length);\n",
              "      position += length;\n",
              "\n",
              "      const base64 = btoa(String.fromCharCode.apply(null, chunk));\n",
              "      yield {\n",
              "        response: {\n",
              "          action: 'append',\n",
              "          file: file.name,\n",
              "          data: base64,\n",
              "        },\n",
              "      };\n",
              "\n",
              "      let percentDone = fileData.byteLength === 0 ?\n",
              "          100 :\n",
              "          Math.round((position / fileData.byteLength) * 100);\n",
              "      percent.textContent = `${percentDone}% done`;\n",
              "\n",
              "    } while (position < fileData.byteLength);\n",
              "  }\n",
              "\n",
              "  // All done.\n",
              "  yield {\n",
              "    response: {\n",
              "      action: 'complete',\n",
              "    }\n",
              "  };\n",
              "}\n",
              "\n",
              "scope.google = scope.google || {};\n",
              "scope.google.colab = scope.google.colab || {};\n",
              "scope.google.colab._files = {\n",
              "  _uploadFiles,\n",
              "  _uploadFilesContinue,\n",
              "};\n",
              "})(self);\n",
              "</script> "
            ]
          },
          "metadata": {}
        },
        {
          "output_type": "stream",
          "name": "stdout",
          "text": [
            "Saving ISIC_0024515.jpg to ISIC_0024515.jpg\n",
            "1/1 [==============================] - 8s 8s/step\n",
            "The disease was: Basal Cell Carcinoma\n"
          ]
        }
      ],
      "source": [
        "## CODE BLOCK FOR NON-SAFARI BROWSERS\n",
        "## SAFARI USERS: PLEASE SKIP THIS BLOCK AND RUN THE NEXT ONE INSTEAD\n",
        "\n",
        "import numpy as np\n",
        "from google.colab import files\n",
        "\n",
        "model_path = '/content/dermacare.h5'\n",
        "model = keras.models.load_model(model_path)\n",
        "\n",
        "uploaded = files.upload()\n",
        "\n",
        "for fn in uploaded.keys():\n",
        " \n",
        "  # predicting images\n",
        "  path = fn\n",
        "  img = tf.keras.utils.load_img(path, target_size=TARGET_SIZE)\n",
        "  x = tf.keras.utils.img_to_array(img)\n",
        "  x = np.expand_dims(x, axis=0)\n",
        "\n",
        "  images = np.vstack([x])\n",
        "  classes = model.predict(images, batch_size=32)\n",
        "\n",
        "  prediction = np.argmax(classes)\n",
        "  print(\"The disease was: \" + DISEASE_DICT.get(prediction))\n"
      ]
    },
    {
      "cell_type": "markdown",
      "source": [
        "# Converting an available tf model to tflite model"
      ],
      "metadata": {
        "id": "2sGntGLxnfQR"
      }
    },
    {
      "cell_type": "code",
      "source": [
        "model_path = '/content/dermacare.h5'\n",
        "model = keras.models.load_model(model_path)"
      ],
      "metadata": {
        "id": "rgEJHKwgntIP"
      },
      "execution_count": null,
      "outputs": []
    },
    {
      "cell_type": "code",
      "source": [
        "converter = tf.lite.TFLiteConverter.from_keras_model(model)\n",
        "tflite_model = converter.convert()"
      ],
      "metadata": {
        "id": "orLvpdqjnkTJ",
        "colab": {
          "base_uri": "https://localhost:8080/"
        },
        "outputId": "2b1b8b0e-a53a-45cb-f4fe-59b6ef3ddf08"
      },
      "execution_count": null,
      "outputs": [
        {
          "output_type": "stream",
          "name": "stderr",
          "text": [
            "WARNING:absl:Found untraced functions such as _update_step_xla, _jit_compiled_convolution_op, _jit_compiled_convolution_op, _jit_compiled_convolution_op, _jit_compiled_convolution_op while saving (showing 5 of 53). These functions will not be directly callable after loading.\n"
          ]
        }
      ]
    },
    {
      "cell_type": "code",
      "source": [
        "tflite_model_files = pathlib.Path(\"/content/dermacare_tflite.tflite\")\n",
        "tflite_model_files.write_bytes(tflite_model)"
      ],
      "metadata": {
        "id": "Wbxm_ZUtnpAJ",
        "colab": {
          "base_uri": "https://localhost:8080/"
        },
        "outputId": "13a1395c-3f2f-4a75-92a8-1326b7e25d90"
      },
      "execution_count": null,
      "outputs": [
        {
          "output_type": "execute_result",
          "data": {
            "text/plain": [
              "8906316"
            ]
          },
          "metadata": {},
          "execution_count": 12
        }
      ]
    }
  ],
  "metadata": {
    "accelerator": "GPU",
    "colab": {
      "collapsed_sections": [
        "NRGB_rPnbxkz",
        "7m6ERGBHbYkF",
        "gnkR0bONpwBL",
        "NrvhBamcp2eh",
        "WmIfBiW-uL3x",
        "WfZUwjG8uO8Y",
        "2sGntGLxnfQR"
      ],
      "provenance": []
    },
    "gpuClass": "standard",
    "kernelspec": {
      "display_name": "Python 3",
      "name": "python3"
    },
    "language_info": {
      "name": "python"
    }
  },
  "nbformat": 4,
  "nbformat_minor": 0
}